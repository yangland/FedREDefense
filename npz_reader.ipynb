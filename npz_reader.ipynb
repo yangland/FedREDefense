{
 "cells": [
  {
   "cell_type": "code",
   "execution_count": 3,
   "metadata": {},
   "outputs": [],
   "source": [
    "import numpy as np\n",
    "from codes.experiment_manager import *"
   ]
  },
  {
   "cell_type": "code",
   "execution_count": 4,
   "metadata": {},
   "outputs": [],
   "source": [
    "b = np.load('results/Feb.06_13.12.46/logfilesxp_3149692.npz')"
   ]
  },
  {
   "cell_type": "code",
   "execution_count": 20,
   "metadata": {},
   "outputs": [
    {
     "data": {
      "text/plain": [
       "numpy.lib.npyio.NpzFile"
      ]
     },
     "execution_count": 20,
     "metadata": {},
     "output_type": "execute_result"
    }
   ],
   "source": [
    "type(b)"
   ]
  },
  {
   "cell_type": "code",
   "execution_count": 21,
   "metadata": {},
   "outputs": [
    {
     "data": {
      "text/plain": [
       "['hyperparameters',\n",
       " 'hyperparameters_',\n",
       " 'parameters',\n",
       " 'prep_time',\n",
       " 'server_val_test_accuracy',\n",
       " 'participating_clients',\n",
       " 'communication_round',\n",
       " 'epochs',\n",
       " 'lr',\n",
       " 'server_att_accuracy_a_0.1',\n",
       " 'epoch_time']"
      ]
     },
     "execution_count": 21,
     "metadata": {},
     "output_type": "execute_result"
    }
   ],
   "source": [
    "list(b.keys())"
   ]
  },
  {
   "cell_type": "code",
   "execution_count": 23,
   "metadata": {},
   "outputs": [
    {
     "data": {
      "text/plain": [
       "array([0.291, 0.798, 0.862])"
      ]
     },
     "execution_count": 23,
     "metadata": {},
     "output_type": "execute_result"
    }
   ],
   "source": [
    "b['server_att_accuracy_a_0.1']"
   ]
  },
  {
   "cell_type": "code",
   "execution_count": 10,
   "metadata": {},
   "outputs": [
    {
     "data": {
      "text/plain": [
       "100"
      ]
     },
     "execution_count": 10,
     "metadata": {},
     "output_type": "execute_result"
    }
   ],
   "source": [
    "b[ 'participating_clients'][0]"
   ]
  },
  {
   "cell_type": "code",
   "execution_count": 2,
   "metadata": {},
   "outputs": [],
   "source": [
    "import time \n",
    "import datetime"
   ]
  },
  {
   "cell_type": "code",
   "execution_count": 9,
   "metadata": {},
   "outputs": [],
   "source": [
    "t0 = time.time()"
   ]
  },
  {
   "cell_type": "code",
   "execution_count": 10,
   "metadata": {},
   "outputs": [],
   "source": [
    "t1 = time.time()"
   ]
  },
  {
   "cell_type": "code",
   "execution_count": 11,
   "metadata": {},
   "outputs": [
    {
     "data": {
      "text/plain": [
       "1.725273847579956"
      ]
     },
     "execution_count": 11,
     "metadata": {},
     "output_type": "execute_result"
    }
   ],
   "source": [
    "t1-t0"
   ]
  },
  {
   "cell_type": "code",
   "execution_count": 16,
   "metadata": {},
   "outputs": [
    {
     "data": {
      "text/plain": [
       "'0:00:01.725274'"
      ]
     },
     "execution_count": 16,
     "metadata": {},
     "output_type": "execute_result"
    }
   ],
   "source": [
    "str(datetime.timedelta(seconds=(t1-t0)))"
   ]
  },
  {
   "cell_type": "code",
   "execution_count": 18,
   "metadata": {},
   "outputs": [
    {
     "name": "stdout",
     "output_type": "stream",
     "text": [
      "tensor([[-0.0976, -0.0960, -0.1632, -0.1039, -0.0764,  0.0441,  0.0828,  0.0719,\n",
      "          0.0436, -0.0392],\n",
      "        [ 0.0877, -0.0814, -0.0952,  0.0924, -0.1730,  0.0597, -0.0762,  0.1158,\n",
      "          0.0846,  0.0058],\n",
      "        [-0.0627,  0.0031, -0.0968,  0.0278, -0.0990, -0.0687, -0.0141,  0.0549,\n",
      "         -0.0124,  0.0640],\n",
      "        [ 0.0112,  0.0331, -0.2199,  0.0730,  0.1278, -0.1550,  0.1599, -0.2117,\n",
      "          0.0629,  0.0583],\n",
      "        [-0.1754,  0.0347, -0.1612, -0.0077, -0.0896, -0.0501,  0.0999,  0.0106,\n",
      "          0.0823, -0.1814],\n",
      "        [-0.0995,  0.1107,  0.1612,  0.1225,  0.1071, -0.0444,  0.0624, -0.0677,\n",
      "         -0.0338,  0.0426],\n",
      "        [ 0.1248,  0.0361, -0.0579, -0.0332, -0.0198,  0.0798,  0.0499, -0.1567,\n",
      "         -0.0092, -0.0279],\n",
      "        [-0.0960,  0.0342,  0.0401,  0.0919, -0.0184, -0.0102, -0.0417, -0.0509,\n",
      "         -0.1161,  0.0109],\n",
      "        [-0.1455,  0.0903,  0.0294, -0.0439, -0.0671,  0.0790,  0.2902,  0.0121,\n",
      "         -0.0254,  0.0562],\n",
      "        [ 0.0054, -0.0238, -0.0910,  0.0160,  0.0634,  0.0495, -0.0901,  0.0738,\n",
      "         -0.1074,  0.0120]])\n"
     ]
    }
   ],
   "source": [
    "import torch\n",
    "\n",
    "def pairwise_cosine_similarity(A: torch.Tensor, B: torch.Tensor) -> torch.Tensor:\n",
    "    \"\"\"\n",
    "    Computes pairwise cosine similarity between two sets of vectors.\n",
    "    \n",
    "    Args:\n",
    "        A (torch.Tensor): Tensor of shape (m, d) representing m vectors.\n",
    "        B (torch.Tensor): Tensor of shape (n, d) representing n vectors.\n",
    "    \n",
    "    Returns:\n",
    "        torch.Tensor: Similarity matrix of shape (m, n), where entry (i, j) is the cosine similarity\n",
    "                      between A[i] and B[j].\n",
    "    \"\"\"\n",
    "    A = A / A.norm(dim=1, keepdim=True)  # Normalize A\n",
    "    B = B / B.norm(dim=1, keepdim=True)  # Normalize B\n",
    "    \n",
    "    return A @ B.T  # Compute cosine similarity\n",
    "\n",
    "# Example usage:\n",
    "A = torch.randn(10, 128)  # 5 vectors of dimension 128\n",
    "B = torch.randn(10, 128) # 10 vectors of dimension 128\n",
    "similarity_matrix = pairwise_cosine_similarity(A, B)\n",
    "print(similarity_matrix)  # Output: torch.Size([5, 10])\n"
   ]
  },
  {
   "cell_type": "code",
   "execution_count": 21,
   "metadata": {},
   "outputs": [],
   "source": [
    "import torch.nn as nn\n",
    "cos = nn.CosineSimilarity(dim=0, eps=1e-9)"
   ]
  },
  {
   "cell_type": "code",
   "execution_count": 34,
   "metadata": {},
   "outputs": [],
   "source": [
    "A = torch.tensor([0.0,1.0])\n",
    "B = torch.tensor([1.0,1.0])"
   ]
  },
  {
   "cell_type": "code",
   "execution_count": 35,
   "metadata": {},
   "outputs": [
    {
     "data": {
      "text/plain": [
       "tensor(0.7071)"
      ]
     },
     "execution_count": 35,
     "metadata": {},
     "output_type": "execute_result"
    }
   ],
   "source": [
    "cos(A,B)"
   ]
  },
  {
   "cell_type": "code",
   "execution_count": 36,
   "metadata": {},
   "outputs": [],
   "source": [
    "A = A / A.norm(dim=0, keepdim=True)  # Normalize A\n",
    "B = B / B.norm(dim=0, keepdim=True)  # Normalize B"
   ]
  },
  {
   "cell_type": "code",
   "execution_count": 37,
   "metadata": {},
   "outputs": [
    {
     "name": "stderr",
     "output_type": "stream",
     "text": [
      "/tmp/ipykernel_161459/3020840549.py:1: UserWarning: The use of `x.T` on tensors of dimension other than 2 to reverse their shape is deprecated and it will throw an error in a future release. Consider `x.mT` to transpose batches of matrices or `x.permute(*torch.arange(x.ndim - 1, -1, -1))` to reverse the dimensions of a tensor. (Triggered internally at ../aten/src/ATen/native/TensorShape.cpp:3683.)\n",
      "  A @ B.T\n"
     ]
    },
    {
     "data": {
      "text/plain": [
       "tensor(0.7071)"
      ]
     },
     "execution_count": 37,
     "metadata": {},
     "output_type": "execute_result"
    }
   ],
   "source": [
    "A @ B.T"
   ]
  },
  {
   "cell_type": "code",
   "execution_count": 38,
   "metadata": {},
   "outputs": [],
   "source": [
    "x = [23, 24, 23, 11, 11, 11, 24, 13, 11,  8, 18,  4,  8, 23, 24, 24,  7,  8,\n",
    "        10,  9,  6,  9, 11,  6, 26,  8, 24,  4]"
   ]
  },
  {
   "cell_type": "code",
   "execution_count": 39,
   "metadata": {},
   "outputs": [
    {
     "data": {
      "text/plain": [
       "28"
      ]
     },
     "execution_count": 39,
     "metadata": {},
     "output_type": "execute_result"
    }
   ],
   "source": [
    "len(x)"
   ]
  },
  {
   "cell_type": "code",
   "execution_count": null,
   "metadata": {},
   "outputs": [],
   "source": []
  }
 ],
 "metadata": {
  "kernelspec": {
   "display_name": "fl39",
   "language": "python",
   "name": "python3"
  },
  "language_info": {
   "codemirror_mode": {
    "name": "ipython",
    "version": 3
   },
   "file_extension": ".py",
   "mimetype": "text/x-python",
   "name": "python",
   "nbconvert_exporter": "python",
   "pygments_lexer": "ipython3",
   "version": "3.9.20"
  }
 },
 "nbformat": 4,
 "nbformat_minor": 2
}
