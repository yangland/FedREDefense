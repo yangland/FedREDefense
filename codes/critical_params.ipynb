{
 "cells": [
  {
   "cell_type": "code",
   "execution_count": 1,
   "metadata": {},
   "outputs": [],
   "source": [
    "import torch.nn as nn\n",
    "import torch\n",
    "import torch.optim as optim\n",
    "import matplotlib.pyplot as plt\n",
    "cos = nn.CosineSimilarity(dim=0, eps=1e-9)"
   ]
  },
  {
   "cell_type": "code",
   "execution_count": 2,
   "metadata": {},
   "outputs": [],
   "source": [
    "A = torch.tensor([0.0, 1.0, 0.0, 0.0])\n",
    "B = torch.tensor([1.0, 1.0, 0.0, 0.0])"
   ]
  },
  {
   "cell_type": "code",
   "execution_count": 3,
   "metadata": {},
   "outputs": [
    {
     "data": {
      "text/plain": [
       "tensor(0.7071)"
      ]
     },
     "execution_count": 3,
     "metadata": {},
     "output_type": "execute_result"
    }
   ],
   "source": [
    "cos(A,B)"
   ]
  },
  {
   "cell_type": "code",
   "execution_count": 4,
   "metadata": {},
   "outputs": [],
   "source": [
    "from models import ConvNet\n",
    "from utils import *\n",
    "from torch.utils.data import DataLoader"
   ]
  },
  {
   "cell_type": "code",
   "execution_count": 5,
   "metadata": {},
   "outputs": [],
   "source": [
    "# Define transformation (convert images to tensors and normalize)\n",
    "transform = transforms.Compose([\n",
    "    transforms.ToTensor(),  # Convert image to tensor\n",
    "    transforms.Normalize((0.5,), (0.5,))  # Normalize the image with mean and std\n",
    "])\n",
    "\n",
    "# Load the training dataset\n",
    "train_dataset = datasets.FashionMNIST(root='./data', train=True, download=True, transform=transform)\n",
    "\n",
    "# Load the test dataset\n",
    "test_dataset = datasets.FashionMNIST(root='./data', train=False, download=True, transform=transform)\n",
    "\n",
    "# Create DataLoader for batch processing\n",
    "train_loader = DataLoader(train_dataset, batch_size=64, shuffle=True, num_workers=4)\n",
    "test_loader = DataLoader(test_dataset, batch_size=64, shuffle=False, num_workers=4)"
   ]
  },
  {
   "cell_type": "code",
   "execution_count": 6,
   "metadata": {},
   "outputs": [],
   "source": [
    "device = \"cuda\""
   ]
  },
  {
   "cell_type": "code",
   "execution_count": 7,
   "metadata": {},
   "outputs": [
    {
     "name": "stdout",
     "output_type": "stream",
     "text": [
      "num feat 2048\n",
      "num feat 2048\n"
     ]
    },
    {
     "data": {
      "text/plain": [
       "<All keys matched successfully>"
      ]
     },
     "execution_count": 7,
     "metadata": {},
     "output_type": "execute_result"
    }
   ],
   "source": [
    "model1 = ConvNet(im_size = (28,28), dataset = 'fmnist').to(device)\n",
    "model2 = ConvNet(im_size = (28,28), dataset = 'fmnist').to(device)\n",
    "model0 = {k: v.clone().detach() for k, v in model1.state_dict().items()}\n",
    "model2.load_state_dict(model1.state_dict())"
   ]
  },
  {
   "cell_type": "code",
   "execution_count": 8,
   "metadata": {},
   "outputs": [],
   "source": [
    "optimizer1 = optim.SGD(model1.parameters(), lr=0.001)\n",
    "optimizer2 = optim.SGD(model2.parameters(), lr=0.001)"
   ]
  },
  {
   "cell_type": "code",
   "execution_count": 9,
   "metadata": {},
   "outputs": [
    {
     "name": "stdout",
     "output_type": "stream",
     "text": [
      "[2.3, 2.25, 2.21, 2.16, 2.13, 2.09, 2.05, 2.01, 1.98, 1.96, 1.93, 1.9, 1.87, 1.85, 1.82, 1.79, 1.77, 1.75, 1.73, 1.71, 1.69, 1.67, 1.65, 1.63, 1.62, 1.6, 1.59, 1.57, 1.56, 1.54, 1.53, 1.52, 1.5, 1.49, 1.48, 1.46, 1.45, 1.44, 1.43, 1.42, 1.41, 1.4, 1.39, 1.38, 1.37, 1.36, 1.35, 1.34, 1.33, 1.32, 1.31, 1.3, 1.3, 1.29, 1.28, 1.27, 1.26, 1.26, 1.25, 1.24, 1.23, 1.23, 1.22, 1.21, 1.21, 1.2, 1.19, 1.19, 1.18, 1.17, 1.17, 1.17, 1.16, 1.15, 1.15, 1.14, 1.14, 1.13, 1.12]\n"
     ]
    },
    {
     "data": {
      "text/plain": [
       "{'loss': 1.5049339866638183}"
      ]
     },
     "execution_count": 9,
     "metadata": {},
     "output_type": "execute_result"
    }
   ],
   "source": [
    "# train with benign dataset\n",
    "\n",
    "train_op(model1, test_loader, optimizer1, epochs=1, print_train_loss=True)"
   ]
  },
  {
   "cell_type": "code",
   "execution_count": 10,
   "metadata": {},
   "outputs": [
    {
     "name": "stdout",
     "output_type": "stream",
     "text": [
      "[2.22, 2.07, 2.09, 1.99, 2.04, 1.91, 1.95, 1.86, 1.88, 1.82, 1.85, 1.66, 1.72, 1.76, 1.69, 1.72, 1.68, 1.57, 1.6, 1.58, 1.61, 1.59, 1.56, 1.54, 1.55, 1.49, 1.42, 1.46, 1.41, 1.45, 1.39, 1.36, 1.33, 1.39, 1.36, 1.32, 1.31, 1.35, 1.27, 1.36, 1.38, 1.3, 1.2, 1.32, 1.28, 1.25, 1.13, 1.15, 1.12, 1.25, 1.25, 1.25, 1.3, 1.23, 1.2, 1.08, 1.19, 1.13, 1.11, 1.23, 1.11, 1.1, 1.21, 1.08, 1.1, 1.03, 1.03, 1.06, 1.18, 1.02, 1.07, 1.12, 1.15, 0.98, 1.03, 1.08, 0.97, 1.1, 1.01]\n"
     ]
    },
    {
     "data": {
      "text/plain": [
       "{'loss': 1.386445916748047}"
      ]
     },
     "execution_count": 10,
     "metadata": {},
     "output_type": "execute_result"
    }
   ],
   "source": [
    "train_op_tr_flip(model2, test_loader, optimizer2, epochs=1, class_num=10, print_train_loss=True)"
   ]
  },
  {
   "cell_type": "markdown",
   "metadata": {},
   "source": [
    "# Evaluate the model after training"
   ]
  },
  {
   "cell_type": "code",
   "execution_count": null,
   "metadata": {},
   "outputs": [],
   "source": []
  },
  {
   "cell_type": "code",
   "execution_count": 11,
   "metadata": {},
   "outputs": [
    {
     "data": {
      "text/plain": [
       "{'test_accuracy': 0.7317333333333333}"
      ]
     },
     "execution_count": 11,
     "metadata": {},
     "output_type": "execute_result"
    }
   ],
   "source": [
    "# test the main task\n",
    "\n",
    "eval_op_ensemble([model1], train_loader)"
   ]
  },
  {
   "cell_type": "code",
   "execution_count": 12,
   "metadata": {},
   "outputs": [
    {
     "data": {
      "text/plain": [
       "{'test_accuracy': 0.6182166666666666}"
      ]
     },
     "execution_count": 12,
     "metadata": {},
     "output_type": "execute_result"
    }
   ],
   "source": [
    "eval_op_ensemble([model2], train_loader)"
   ]
  },
  {
   "cell_type": "code",
   "execution_count": 13,
   "metadata": {},
   "outputs": [
    {
     "data": {
      "text/plain": [
       "dict_items([('accuracy', 0.016166666666666666)])"
      ]
     },
     "execution_count": 13,
     "metadata": {},
     "output_type": "execute_result"
    }
   ],
   "source": [
    "# test the attack success rate\n",
    "\n",
    "eval_op_ensemble_tr_lf_attack([model1], train_loader).items()"
   ]
  },
  {
   "cell_type": "code",
   "execution_count": 14,
   "metadata": {},
   "outputs": [
    {
     "data": {
      "text/plain": [
       "dict_items([('accuracy', 0.9013333333333333)])"
      ]
     },
     "execution_count": 14,
     "metadata": {},
     "output_type": "execute_result"
    }
   ],
   "source": [
    "eval_op_ensemble_tr_lf_attack([model2], train_loader).items()"
   ]
  },
  {
   "cell_type": "code",
   "execution_count": 15,
   "metadata": {},
   "outputs": [],
   "source": [
    "# model1"
   ]
  },
  {
   "cell_type": "code",
   "execution_count": null,
   "metadata": {},
   "outputs": [],
   "source": []
  },
  {
   "cell_type": "code",
   "execution_count": 16,
   "metadata": {},
   "outputs": [],
   "source": [
    "# cos between trained models\n",
    "flat_model0 = flat_dict_grad(model0)\n",
    "flat_model1 = flat_dict_grad(model1.state_dict())\n",
    "flat_model2 = flat_dict_grad(model2.state_dict())"
   ]
  },
  {
   "cell_type": "code",
   "execution_count": 17,
   "metadata": {},
   "outputs": [
    {
     "data": {
      "text/plain": [
       "tensor([-2.0318e-04,  8.5533e-06,  3.0941e-04,  ...,  5.2588e-04,\n",
       "         1.1615e-03, -9.7164e-04], device='cuda:0')"
      ]
     },
     "execution_count": 17,
     "metadata": {},
     "output_type": "execute_result"
    }
   ],
   "source": [
    "flat_model1 - flat_model0"
   ]
  },
  {
   "cell_type": "code",
   "execution_count": 18,
   "metadata": {},
   "outputs": [
    {
     "data": {
      "text/plain": [
       "tensor(0.8570, device='cuda:0')"
      ]
     },
     "execution_count": 18,
     "metadata": {},
     "output_type": "execute_result"
    }
   ],
   "source": [
    "cos = nn.CosineSimilarity(dim=0, eps=1e-11)\n",
    "cos((flat_model1 - flat_model0), (flat_model2 - flat_model0))"
   ]
  },
  {
   "cell_type": "code",
   "execution_count": 19,
   "metadata": {},
   "outputs": [],
   "source": [
    "# analyzing critical parameters\n",
    "# Towards Attack-tolerant Federated Learning via Critical Parameter Analysis\n",
    "# use self-defined method to try\n",
    "\n",
    "abs_delta = torch.abs(flat_model2 - flat_model1)"
   ]
  },
  {
   "cell_type": "code",
   "execution_count": 22,
   "metadata": {},
   "outputs": [
    {
     "data": {
      "text/plain": [
       "tensor([6.2451e-05, 8.9407e-07, 2.0802e-05,  ..., 1.6198e-04, 3.7230e-04,\n",
       "        2.5532e-04], device='cuda:0')"
      ]
     },
     "execution_count": 22,
     "metadata": {},
     "output_type": "execute_result"
    }
   ],
   "source": [
    "abs_delta"
   ]
  },
  {
   "cell_type": "code",
   "execution_count": 24,
   "metadata": {},
   "outputs": [],
   "source": [
    "data_np = abs_delta.cpu().detach().numpy()"
   ]
  },
  {
   "cell_type": "code",
   "execution_count": 25,
   "metadata": {},
   "outputs": [
    {
     "data": {
      "text/plain": [
       "array([6.2450767e-05, 8.9406967e-07, 2.0802021e-05, ..., 1.6197725e-04,\n",
       "       3.7230179e-04, 2.5532208e-04], dtype=float32)"
      ]
     },
     "execution_count": 25,
     "metadata": {},
     "output_type": "execute_result"
    }
   ],
   "source": [
    "data_np"
   ]
  },
  {
   "cell_type": "code",
   "execution_count": 31,
   "metadata": {},
   "outputs": [
    {
     "data": {
      "image/png": "[encoded data removed]",
      "text/plain": [
       "<Figure size 640x480 with 1 Axes>"
      ]
     },
     "metadata": {},
     "output_type": "display_data"
    }
   ],
   "source": [
    "\n",
    "# data = torch.tensor([1, 1, 2, 1])\n",
    "\n",
    "# Convert tensor to NumPy for plotting\n",
    "\n",
    "\n",
    "# Plot histogram\n",
    "plt.hist(data_np, bins=100, edgecolor='black', alpha=0.7)\n",
    "plt.xlabel(\"Value\")\n",
    "plt.ylabel(\"Frequency\")\n",
    "plt.title(\"Histogram of Tensor Values\")\n",
    "plt.show()"
   ]
  },
  {
   "cell_type": "code",
   "execution_count": null,
   "metadata": {},
   "outputs": [
    {
     "name": "stdout",
     "output_type": "stream",
     "text": [
      "tensor([1, 3, 7, 1])\n"
     ]
    }
   ],
   "source": [
    "def replace_top_r_percent(a, b, c, k):\n",
    "    n = b.numel()\n",
    "    top_k = max(1, int(n * (k / 100)))  # Ensure at least one element is selected\n",
    "    threshold = torch.topk(b, top_k, sorted=True).values[-1]  # Get the r%-th largest value\n",
    "\n",
    "    mask = b >= threshold  # Mask for top r% values\n",
    "    result = torch.where(mask, c, a)  # Replace selected positions in a with c\n",
    "\n",
    "    return result\n",
    "\n",
    "# Example usage\n",
    "a = torch.tensor([1, 3, -5, 1])\n",
    "b = torch.tensor([0, 0, 2, 0])\n",
    "c = torch.tensor([4, 3, 7, 6])\n",
    "\n",
    "r = 25  # Top 25% replacement\n",
    "output = replace_top_r_percent(a, b, c, r)\n",
    "print(output)  # Expected: tensor([1, 3, 7, 1])\n",
    "\n"
   ]
  },
  {
   "cell_type": "code",
   "execution_count": null,
   "metadata": {},
   "outputs": [],
   "source": [
    "# try combined model's cos and attack success rate"
   ]
  },
  {
   "cell_type": "code",
   "execution_count": null,
   "metadata": {},
   "outputs": [],
   "source": [
    "crafted_model = replace_top_r_percent(flat_model1, abs_delta, flat_model2, k=0.25)"
   ]
  },
  {
   "cell_type": "code",
   "execution_count": 38,
   "metadata": {},
   "outputs": [
    {
     "data": {
      "text/plain": [
       "tensor([ 0.2269,  0.2908,  0.2841,  ..., -0.0035,  0.0177,  0.0174],\n",
       "       device='cuda:0')"
      ]
     },
     "execution_count": 38,
     "metadata": {},
     "output_type": "execute_result"
    }
   ],
   "source": [
    "crafted_model"
   ]
  },
  {
   "cell_type": "code",
   "execution_count": 39,
   "metadata": {},
   "outputs": [
    {
     "data": {
      "text/plain": [
       "tensor(0.9488, device='cuda:0')"
      ]
     },
     "execution_count": 39,
     "metadata": {},
     "output_type": "execute_result"
    }
   ],
   "source": [
    "cos((flat_model1 - flat_model0), (crafted_model - flat_model0))"
   ]
  },
  {
   "cell_type": "code",
   "execution_count": 40,
   "metadata": {},
   "outputs": [],
   "source": [
    "# restore the weights back to the model to test attack success rate\n",
    "def restore_dict_grad(flat_grad, model_dict):\n",
    "    restored_grad = {}\n",
    "    start = 0\n",
    "    for name, param in model_dict.items():\n",
    "        num_elements = param.numel()\n",
    "        restored_grad[name] = flat_grad[start:start + num_elements].view(param.shape)\n",
    "        start += num_elements\n",
    "    return restored_grad"
   ]
  },
  {
   "cell_type": "code",
   "execution_count": 41,
   "metadata": {},
   "outputs": [],
   "source": [
    "restored_crafted = restore_dict_grad(crafted_model, model2.state_dict())"
   ]
  },
  {
   "cell_type": "code",
   "execution_count": 43,
   "metadata": {},
   "outputs": [
    {
     "data": {
      "text/plain": [
       "<All keys matched successfully>"
      ]
     },
     "execution_count": 43,
     "metadata": {},
     "output_type": "execute_result"
    }
   ],
   "source": [
    "model2.load_state_dict(restored_crafted )"
   ]
  },
  {
   "cell_type": "code",
   "execution_count": 44,
   "metadata": {},
   "outputs": [
    {
     "data": {
      "text/plain": [
       "{'test_accuracy': 0.6397166666666667}"
      ]
     },
     "execution_count": 44,
     "metadata": {},
     "output_type": "execute_result"
    }
   ],
   "source": [
    "eval_op_ensemble([model2], train_loader)"
   ]
  },
  {
   "cell_type": "code",
   "execution_count": 45,
   "metadata": {},
   "outputs": [
    {
     "data": {
      "text/plain": [
       "dict_items([('accuracy', 0.769)])"
      ]
     },
     "execution_count": 45,
     "metadata": {},
     "output_type": "execute_result"
    }
   ],
   "source": [
    "eval_op_ensemble_tr_lf_attack([model2], train_loader).items()"
   ]
  },
  {
   "cell_type": "code",
   "execution_count": 47,
   "metadata": {},
   "outputs": [],
   "source": [
    "dist = torch.cdist"
   ]
  },
  {
   "cell_type": "code",
   "execution_count": 48,
   "metadata": {},
   "outputs": [
    {
     "ename": "RuntimeError",
     "evalue": "cdist only supports at least 2D tensors, X1 got: 1D",
     "output_type": "error",
     "traceback": [
      "\u001b[0;31m---------------------------------------------------------------------------\u001b[0m",
      "\u001b[0;31mRuntimeError\u001b[0m                              Traceback (most recent call last)",
      "Cell \u001b[0;32mIn[48], line 1\u001b[0m\n\u001b[0;32m----> 1\u001b[0m \u001b[43mdist\u001b[49m\u001b[43m(\u001b[49m\u001b[43mtorch\u001b[49m\u001b[38;5;241;43m.\u001b[39;49m\u001b[43mtensor\u001b[49m\u001b[43m(\u001b[49m\u001b[43m[\u001b[49m\u001b[38;5;241;43m1\u001b[39;49m\u001b[43m,\u001b[49m\u001b[38;5;241;43m0\u001b[39;49m\u001b[43m]\u001b[49m\u001b[43m)\u001b[49m\u001b[43m,\u001b[49m\u001b[43m \u001b[49m\u001b[43mtorch\u001b[49m\u001b[38;5;241;43m.\u001b[39;49m\u001b[43mtensor\u001b[49m\u001b[43m(\u001b[49m\u001b[43m[\u001b[49m\u001b[38;5;241;43m1\u001b[39;49m\u001b[43m,\u001b[49m\u001b[38;5;241;43m1\u001b[39;49m\u001b[43m]\u001b[49m\u001b[43m)\u001b[49m\u001b[43m)\u001b[49m\n",
      "File \u001b[0;32m~/miniconda3/envs/fl39/lib/python3.9/site-packages/torch/functional.py:1478\u001b[0m, in \u001b[0;36mcdist\u001b[0;34m(x1, x2, p, compute_mode)\u001b[0m\n\u001b[1;32m   1474\u001b[0m     \u001b[38;5;28;01mreturn\u001b[39;00m handle_torch_function(\n\u001b[1;32m   1475\u001b[0m         cdist, (x1, x2), x1, x2, p\u001b[38;5;241m=\u001b[39mp, compute_mode\u001b[38;5;241m=\u001b[39mcompute_mode\n\u001b[1;32m   1476\u001b[0m     )\n\u001b[1;32m   1477\u001b[0m \u001b[38;5;28;01mif\u001b[39;00m compute_mode \u001b[38;5;241m==\u001b[39m \u001b[38;5;124m\"\u001b[39m\u001b[38;5;124muse_mm_for_euclid_dist_if_necessary\u001b[39m\u001b[38;5;124m\"\u001b[39m:\n\u001b[0;32m-> 1478\u001b[0m     \u001b[38;5;28;01mreturn\u001b[39;00m \u001b[43m_VF\u001b[49m\u001b[38;5;241;43m.\u001b[39;49m\u001b[43mcdist\u001b[49m\u001b[43m(\u001b[49m\u001b[43mx1\u001b[49m\u001b[43m,\u001b[49m\u001b[43m \u001b[49m\u001b[43mx2\u001b[49m\u001b[43m,\u001b[49m\u001b[43m \u001b[49m\u001b[43mp\u001b[49m\u001b[43m,\u001b[49m\u001b[43m \u001b[49m\u001b[38;5;28;43;01mNone\u001b[39;49;00m\u001b[43m)\u001b[49m  \u001b[38;5;66;03m# type: ignore[attr-defined]\u001b[39;00m\n\u001b[1;32m   1479\u001b[0m \u001b[38;5;28;01melif\u001b[39;00m compute_mode \u001b[38;5;241m==\u001b[39m \u001b[38;5;124m\"\u001b[39m\u001b[38;5;124muse_mm_for_euclid_dist\u001b[39m\u001b[38;5;124m\"\u001b[39m:\n\u001b[1;32m   1480\u001b[0m     \u001b[38;5;28;01mreturn\u001b[39;00m _VF\u001b[38;5;241m.\u001b[39mcdist(x1, x2, p, \u001b[38;5;241m1\u001b[39m)  \u001b[38;5;66;03m# type: ignore[attr-defined]\u001b[39;00m\n",
      "\u001b[0;31mRuntimeError\u001b[0m: cdist only supports at least 2D tensors, X1 got: 1D"
     ]
    }
   ],
   "source": [
    "dist(torch.tensor([1,0]), torch.tensor([1,1]))"
   ]
  },
  {
   "cell_type": "code",
   "execution_count": 50,
   "metadata": {},
   "outputs": [
    {
     "name": "stdout",
     "output_type": "stream",
     "text": [
      "0.9746317863464355\n"
     ]
    }
   ],
   "source": [
    "def cosine_similarity_1d(tensor1, tensor2):\n",
    "    return torch.nn.functional.cosine_similarity(tensor1, tensor2, dim=0)\n",
    "\n",
    "# Example usage\n",
    "a = torch.tensor([1.0, 2.0, 3.0])\n",
    "b = torch.tensor([4.0, 5.0, 6.0])\n",
    "cos_sim = cosine_similarity_1d(a, b)\n",
    "print(cos_sim.item())"
   ]
  },
  {
   "cell_type": "code",
   "execution_count": 51,
   "metadata": {},
   "outputs": [
    {
     "name": "stdout",
     "output_type": "stream",
     "text": [
      "Mean Cosine Similarity: 0.01625511609017849\n",
      "Standard Deviation: 0.24390845000743866\n"
     ]
    }
   ],
   "source": [
    "def pairwise_cosine_similarity(A):\n",
    "    n = A.shape[0]\n",
    "    cos_sims = []\n",
    "    \n",
    "    for i in range(n):\n",
    "        for j in range(i + 1, n):\n",
    "            cos_sim = torch.nn.functional.cosine_similarity(A[i], A[j], dim=0)\n",
    "            cos_sims.append(cos_sim.item())\n",
    "    \n",
    "    cos_sims = torch.tensor(cos_sims)\n",
    "    return cos_sims.mean().item(), cos_sims.std().item()\n",
    "\n",
    "# Example usage\n",
    "A = torch.randn(5, 10)  # 5 vectors of dimension 10\n",
    "mean_sim, std_sim = pairwise_cosine_similarity(A)\n",
    "print(\"Mean Cosine Similarity:\", mean_sim)\n",
    "print(\"Standard Deviation:\", std_sim)"
   ]
  }
 ],
 "metadata": {
  "kernelspec": {
   "display_name": "fl39",
   "language": "python",
   "name": "python3"
  },
  "language_info": {
   "codemirror_mode": {
    "name": "ipython",
    "version": 3
   },
   "file_extension": ".py",
   "mimetype": "text/x-python",
   "name": "python",
   "nbconvert_exporter": "python",
   "pygments_lexer": "ipython3",
   "version": "3.9.20"
  }
 },
 "nbformat": 4,
 "nbformat_minor": 2
}
