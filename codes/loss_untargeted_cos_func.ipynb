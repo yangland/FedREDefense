{
 "cells": [
  {
   "cell_type": "code",
   "execution_count": 151,
   "metadata": {},
   "outputs": [],
   "source": [
    "import torch.nn as nn\n",
    "import torch\n",
    "import torch.optim as optim\n",
    "import matplotlib.pyplot as plt\n",
    "from torchvision import transforms\n",
    "from utils import *\n",
    "from torch.utils.data import DataLoader\n",
    "from models import *\n",
    "import random\n",
    "from collections import Counter\n",
    "from collections import OrderedDict\n",
    "import seaborn as sns\n",
    "import copy\n",
    "\n",
    "cos = nn.CosineSimilarity(dim=0, eps=1e-9)\n",
    "device = \"cuda\"\n",
    "\n",
    "# study 1 model's training with the new loss function with dist limits\n",
    "\n",
    "# adjustable parameters\n",
    "alpha_d = 100 # IID\n",
    "local_ep = 10 \n",
    "n_clients = 50 # dataset size for one client\n",
    "mali_local_ep = 10\n",
    "global attack \n",
    "attack = \"untargeted\" #\"backdoor\", \"tlp\", \"ut\"\n",
    "model_name = \"ConvNet\" # \"resnet8\", \"ConvNet\"\n",
    "num_classes = 10\n",
    "dataset =\"fmnist\""
   ]
  },
  {
   "cell_type": "code",
   "execution_count": 152,
   "metadata": {},
   "outputs": [],
   "source": [
    "def filter_trainable_state_dict(model):\n",
    "    \"\"\"\n",
    "    Filters model.state_dict() to retain only parameters that are in model.parameters().\n",
    "\n",
    "    Args:\n",
    "        model (torch.nn.Module): The model whose state_dict needs filtering.\n",
    "\n",
    "    Returns:\n",
    "        dict: Filtered state dictionary containing only trainable parameters.\n",
    "    \"\"\"\n",
    "    param_names = {name for name, _ in model.named_parameters()}\n",
    "    return {k: v for k, v in model.state_dict().items() if k in param_names}\n",
    "\n",
    "# # Example usage\n",
    "# model = nn.Sequential(\n",
    "#     nn.Linear(10, 5),\n",
    "#     nn.BatchNorm1d(5),  # This has buffers (running_mean, running_var) in state_dict but not in parameters\n",
    "#     nn.Linear(5, 2)\n",
    "# )\n",
    "\n",
    "# filtered_state_dict = filter_trainable_state_dict(model)\n",
    "# print(filtered_state_dict.keys())  # Only includes trainable parameters\n"
   ]
  },
  {
   "cell_type": "code",
   "execution_count": 153,
   "metadata": {},
   "outputs": [],
   "source": [
    "def cos_dist(w1, w2):\n",
    "    \"\"\"Compute cosine similarity between two flattened weight tensors\"\"\"\n",
    "    w1_flat, w2_flat = torch.cat([p.view(-1) for p in w1]), torch.cat([p.view(-1) for p in w2])\n",
    "    return 1 - torch.dot(w1_flat, w2_flat) / (torch.norm(w1_flat) * torch.norm(w2_flat))\n",
    "\n",
    "def get_delta_cos(model1, model2, model0_sd):\n",
    "    flat_model0 = flat_dict(model0_sd)\n",
    "    flat_model1 = flat_dict(model1.state_dict())\n",
    "    flat_model2 = flat_dict(model2.state_dict())\n",
    "    \n",
    "    delta = torch.abs(flat_model1 - flat_model2)\n",
    "    org_cos = cos((flat_model1 - flat_model0), (flat_model2 - flat_model0))\n",
    "    return delta, 1-org_cos.item()\n",
    "\n",
    "def model_eval(model, test_loader, attack):\n",
    "    acc = eval_op_ensemble([model], test_loader)\n",
    "    if attack == \"tlp\":\n",
    "        asr = eval_op_ensemble_tr_lf_attack([model], test_loader)\n",
    "    elif attack == \"backdoor\":\n",
    "        asr = eval_op_ensemble_attack([model], test_loader)\n",
    "    elif attack == \"untargeted\":\n",
    "        asr = None\n",
    "    return list(acc.values())[0], list(asr.values())[0]\n",
    "\n",
    "\n",
    "def filter_trainable_state_dict(model):\n",
    "    \"\"\"\n",
    "    Filters model.state_dict() to retain only parameters that are in model.parameters().\n",
    "\n",
    "    Args:\n",
    "        model (torch.nn.Module): The model whose state_dict needs filtering.\n",
    "\n",
    "    Returns:\n",
    "        dict: Filtered state dictionary containing only trainable parameters.\n",
    "    \"\"\"\n",
    "    param_names = {name for name, _ in model.named_parameters()}\n",
    "    return {k: v for k, v in model.state_dict().items() if k in param_names}\n",
    "\n",
    "\n",
    "def reverse_train_w_cos(model, loader, optimizer, scheduler, epochs, model0, model1, beta, budget):    \n",
    "    model.train()\n",
    "    flat_grad_model0 = flat_dict(filter_trainable_state_dict(model0))\n",
    "    flat_grad_model1 = flat_dict(filter_trainable_state_dict(model1))\n",
    "    grad_ben = (flat_grad_model0 - flat_grad_model1).to(device)\n",
    "    \n",
    "    losses = []\n",
    "    running_loss, samples = 0.0, 0\n",
    "    check_point = None\n",
    "    for ep in range(epochs):\n",
    "        for it, (x, y) in enumerate(loader):\n",
    "            if it % 2 == 0:\n",
    "                losses.append(round(eval_epoch(model, loader), 2))\n",
    "            x, y = x.to(device), y.to(device)\n",
    "            optimizer.zero_grad()\n",
    "            loss_ce = nn.CrossEntropyLoss()(model(x), y)\n",
    "            # in the untraining reverse the sign of loss\n",
    "            loss_ce = - loss_ce\n",
    "            running_loss += loss_ce.item() * y.shape[0]\n",
    "            samples += y.shape[0]\n",
    "            \n",
    "            # add cos loss \n",
    "            w = torch.cat([p.view(-1) for p in model.parameters()]).to(device)\n",
    "            grad_mail = w - flat_grad_model0\n",
    "            target = torch.ones(len(w)).to(device)\n",
    "            loss_cos = nn.CosineEmbeddingLoss()(grad_ben.unsqueeze(0), grad_mail.unsqueeze(0), target)\n",
    "            loss_obj = (1-beta) * loss_ce + beta * loss_cos\n",
    "            loss_obj.backward()\n",
    "            optimizer.step()\n",
    "            scheduler.step()\n",
    "            if it % 5 == 0:\n",
    "                print(f\"ep{ep}, loss_cs: {loss_ce:6f}, loss_cos: {loss_cos:6f}, loss_obj: {loss_obj:6f}, lr: {optimizer.param_groups[0]['lr']}\")\n",
    "        \n",
    "        # break\n",
    "        cos_d = cos_dist(grad_ben, grad_mail)\n",
    "        print(\"eval losses\", losses)\n",
    "        print(f\"cos_d: {cos_d}, budget: {budget}\")\n",
    "        \n",
    "        if cos_d > budget:\n",
    "            print(f\"finish training early, ep = {ep}\")\n",
    "            break\n",
    "        else:\n",
    "            check_point = w.clone()\n",
    "        \n",
    "\n",
    "    return {\"loss\": running_loss / samples}\n",
    "    "
   ]
  },
  {
   "cell_type": "code",
   "execution_count": 155,
   "metadata": {},
   "outputs": [
    {
     "name": "stdout",
     "output_type": "stream",
     "text": [
      "Data split:\n",
      " - Client 0: [122 121 123 115 115 111 126 139 112 110]               -> sum=1194\n",
      " - Client 1: [127 114 132 112 128 124 111 114 123 115]               -> sum=1200\n",
      " - Client 2: [108 111 114 117 117 141 119 125 127 122]               -> sum=1201\n",
      " - Client 3: [123 110 109 118 124 138 108 115 122 132]               -> sum=1199\n",
      " - Client 4: [116 128 138 104 127 121 114 118 116 120]               -> sum=1202\n",
      " - Client 5: [104 127  99 137 125 128 111 111 127 131]               -> sum=1200\n",
      " - Client 6: [117 129 124 139 114 110 128 117 102 120]               -> sum=1200\n",
      " - Client 7: [107 116 117 112  98 109 138 113 151 138]               -> sum=1199\n",
      " - Client 8: [134 123 121  96 125 137 107 105 123 130]               -> sum=1201\n",
      " - Client 9: [114 110 125 147  91 103 133 118 121 136]               -> sum=1198\n",
      ".  .  .  .  .  .  .  .  .  .  \n",
      ".  .  .  .  .  .  .  .  .  .  \n",
      ".  .  .  .  .  .  .  .  .  .  \n",
      " - Client 41: [122 107 131 121 126 109 118 107 139 120]               -> sum=1200\n",
      " - Client 42: [108 116 126 121 121 132 111 118 116 131]               -> sum=1200\n",
      " - Client 43: [124 101 118 111 130 104 119 136 131 126]               -> sum=1200\n",
      " - Client 44: [105 142 128 123 110 125  97 135 110 126]               -> sum=1201\n",
      " - Client 45: [117 133 121 104 122 142 110 110 119 121]               -> sum=1199\n",
      " - Client 46: [103 133 111 112 114 110 123 126 123 144]               -> sum=1199\n",
      " - Client 47: [148 119 123 105 118 111 104 129 111 132]               -> sum=1200\n",
      " - Client 48: [129 143 125 109 115 121 116 128 112 102]               -> sum=1200\n",
      " - Client 49: [123 119 103 110 157 118 120 129 111 116]               -> sum=1206\n",
      " - Total:     [6000 6000 6000 6000 6000 6000 6000 6000 6000 6000]\n",
      "\n",
      "num feat 2048\n",
      "num feat 2048\n",
      "num feat 2048\n",
      "num feat 2048\n"
     ]
    }
   ],
   "source": [
    "# Define transformation (convert images to tensors and normalize)\n",
    "transform = transforms.Compose([\n",
    "    transforms.ToTensor(),  # Convert image to tensor\n",
    "    transforms.Normalize((0.5,), (0.5,))  # Normalize the image with mean and std\n",
    "])\n",
    "\n",
    "if dataset == \"fmnist\":\n",
    "    # Load the training dataset\n",
    "    train_data = datasets.FashionMNIST(root='./data', train=True, download=True, transform=transform)\n",
    "    # Load the test dataset\n",
    "    test_data = datasets.FashionMNIST(root='./data', train=False, download=True, transform=transform)\n",
    "elif dataset == \"cifar10\":\n",
    "    train_data = datasets.CIFAR10(root='./data', train=True, download=True, transform=transforms)\n",
    "    test_data = datasets.CIFAR10(root='./data', train=False, download=True, transform=transforms)\n",
    "\n",
    "# Create DataLoader for batch processing\n",
    "client_loaders, test_loader, client_data_subsets =\\\n",
    "    data.get_loaders(train_data, test_data, n_clients,\n",
    "                    alpha=alpha_d, batch_size=32, n_data=None, num_workers=4, seed=4)\n",
    "    \n",
    "model_fn = partial(models.get_model(model_name)[\n",
    "                        0], num_classes=num_classes, dataset=dataset)\n",
    "\n",
    "client_loader = client_loaders[0]\n",
    "\n",
    "# created models \n",
    "model0 = model_fn().to(device) # orginal model\n",
    "model1 = model_fn().to(device) # train with clean data\n",
    "model2 = model_fn().to(device) # train with new loss function\n",
    "model3 = model_fn().to(device)\n",
    "\n",
    "model0_sd = {k: v.clone().detach() for k, v in model1.state_dict().items()}\n",
    "\n",
    "optimizer0 = optim.SGD(model0.parameters(), lr=0.001)\n",
    "optimizer1 = optim.SGD(model1.parameters(), lr=0.001)\n",
    "\n",
    "optimizer3 = optim.SGD(model3.parameters(), lr=0.001)\n",
    "\n"
   ]
  },
  {
   "cell_type": "code",
   "execution_count": null,
   "metadata": {},
   "outputs": [],
   "source": [
    "# model1 train benign\n",
    "train_op(model1, client_loader, optimizer1, epochs=local_ep, print_train_loss=True)\n",
    "\n"
   ]
  },
  {
   "cell_type": "code",
   "execution_count": null,
   "metadata": {},
   "outputs": [
    {
     "name": "stdout",
     "output_type": "stream",
     "text": [
      "model1_result {'test_accuracy': 0.2588}\n"
     ]
    }
   ],
   "source": [
    "model1 = {key: value.clone() for key, value in model1.state_dict().items()}\n",
    "\n",
    "model1_result = eval_op_ensemble([model1], test_loader)\n",
    "print(\"model1_result\", model1_result)"
   ]
  },
  {
   "cell_type": "code",
   "execution_count": 134,
   "metadata": {},
   "outputs": [
    {
     "name": "stdout",
     "output_type": "stream",
     "text": [
      "ep0, loss_cs: -2.276063, loss_cos: 2.000000, loss_obj: -0.138031, lr: 0.001\n",
      "ep0, loss_cs: -2.286953, loss_cos: 2.000000, loss_obj: -0.143476, lr: 0.001\n",
      "ep0, loss_cs: -2.274413, loss_cos: 2.000000, loss_obj: -0.137207, lr: 0.00095\n",
      "ep0, loss_cs: -2.271673, loss_cos: 2.000000, loss_obj: -0.135836, lr: 0.00095\n",
      "ep0, loss_cs: -2.289713, loss_cos: 2.000000, loss_obj: -0.144857, lr: 0.0009025\n",
      "ep0, loss_cs: -2.255437, loss_cos: 2.000000, loss_obj: -0.127719, lr: 0.0009025\n",
      "ep0, loss_cs: -2.282895, loss_cos: 2.000000, loss_obj: -0.141447, lr: 0.000857375\n",
      "ep0, loss_cs: -2.276016, loss_cos: 2.000000, loss_obj: -0.138008, lr: 0.000857375\n",
      "ep0, loss_cs: -2.286340, loss_cos: 2.000000, loss_obj: -0.143170, lr: 0.0008145062499999999\n",
      "ep0, loss_cs: -2.284242, loss_cos: 2.000000, loss_obj: -0.142121, lr: 0.0008145062499999999\n",
      "ep0, loss_cs: -2.249544, loss_cos: 2.000000, loss_obj: -0.124772, lr: 0.0007737809374999998\n",
      "ep0, loss_cs: -2.297116, loss_cos: 2.000000, loss_obj: -0.148558, lr: 0.0007737809374999998\n",
      "ep0, loss_cs: -2.276979, loss_cos: 2.000000, loss_obj: -0.138490, lr: 0.0007350918906249997\n",
      "eval losses [2.27, 2.27, 2.27, 2.27, 2.27, 2.27, 2.27, 2.27, 2.27, 2.27, 2.27, 2.27, 2.27, 2.27, 2.27, 2.27, 2.27, 2.28, 2.28, 2.28, 2.28, 2.28, 2.28, 2.28, 2.28, 2.28, 2.28, 2.28, 2.28, 2.28, 2.28, 2.28]\n",
      "cos_d: 1.9999998807907104, budget: 0.1\n",
      "finish training early, ep = 0\n"
     ]
    },
    {
     "data": {
      "text/plain": [
       "{'loss': -2.273522763264209}"
      ]
     },
     "execution_count": 134,
     "metadata": {},
     "output_type": "execute_result"
    }
   ],
   "source": [
    "# model2 train with new loss function\n",
    "optimizer2 = optim.SGD(model2.parameters(), lr=0.001)\n",
    "scheduler2 = torch.optim.lr_scheduler.StepLR(optimizer2, step_size=10, gamma=0.95)\n",
    "\n",
    "model2.load_state_dict(model1)\n",
    "reverse_train_w_cos(model2, client_loader, optimizer2, scheduler2, epochs=8, \n",
    "                                model0 = model0, \n",
    "                                model1 = model1, \n",
    "                                beta = 0.5, \n",
    "                                budget = 0.1)"
   ]
  },
  {
   "cell_type": "code",
   "execution_count": 142,
   "metadata": {},
   "outputs": [
    {
     "name": "stdout",
     "output_type": "stream",
     "text": [
      "model1_2 cos dist tensor(1.1921e-07, device='cuda:0')\n"
     ]
    }
   ],
   "source": [
    "\n",
    "cos_d_model1_2 = cos_dist(flat_dict(model1.state_dict()) - flat_dict(model0.state_dict()), \n",
    "                          flat_dict(model2.state_dict()) - flat_dict(model0.state_dict()))\n",
    "print(\"model1_2 cos dist\", cos_d_model1_2)\n",
    "\n"
   ]
  },
  {
   "cell_type": "code",
   "execution_count": 143,
   "metadata": {},
   "outputs": [
    {
     "name": "stdout",
     "output_type": "stream",
     "text": [
      "model2_result {'test_accuracy': 0.2199}\n"
     ]
    }
   ],
   "source": [
    "model2_result = eval_op_ensemble([model2], test_loader)\n",
    "print(\"model2_result\", model2_result)"
   ]
  },
  {
   "cell_type": "code",
   "execution_count": 149,
   "metadata": {},
   "outputs": [],
   "source": [
    "# visualization of the layers\n",
    "\n",
    "import torch\n",
    "import numpy as np\n",
    "import matplotlib.pyplot as plt\n",
    "\n",
    "def compare_model_weights(model1, model2):\n",
    "    \"\"\"\n",
    "    Compare the weights of two PyTorch models layer by layer using bar charts.\n",
    "    \n",
    "    Args:\n",
    "        model1 (torch.nn.Module): The first model to compare.\n",
    "        model2 (torch.nn.Module): The second model to compare.\n",
    "    \n",
    "    Returns:\n",
    "        None (displays a bar chart of L2 distance and cosine dissimilarity).\n",
    "    \"\"\"\n",
    "    layer_names = []\n",
    "    l2_distances = []\n",
    "    cos_dissimilarities = []\n",
    "    \n",
    "    for (name1, param1), (name2, param2) in zip(model1.named_parameters(), model2.named_parameters()):\n",
    "        if name1 != name2:\n",
    "            raise ValueError(f\"Layer mismatch: {name1} vs {name2}\")\n",
    "        \n",
    "        layer_names.append(name1)\n",
    "        param1_flat = param1.view(-1)\n",
    "        param2_flat = param2.view(-1)\n",
    "        \n",
    "        l2_distance = torch.norm(param1_flat - param2_flat, p=2).item()\n",
    "        l2_distances.append(l2_distance)\n",
    "        \n",
    "        cos_sim = torch.nn.functional.cosine_similarity(param1_flat, param2_flat, dim=0).item()\n",
    "        cos_dissimilarities.append(1 - cos_sim)\n",
    "    \n",
    "    # Plot results as bar charts\n",
    "    x = np.arange(len(layer_names))  # Layer indices\n",
    "    width = 0.35  # Width of the bars\n",
    "\n",
    "    fig, ax1 = plt.subplots(figsize=(14, 6))\n",
    "    \n",
    "    # Bar chart for L2 Distance\n",
    "    ax1.bar(x - width/2, l2_distances, width, label=\"L2 Distance\", color='tab:blue')\n",
    "    ax1.set_xlabel(\"Layer\")\n",
    "    ax1.set_ylabel(\"L2 Distance\", color='tab:blue')\n",
    "    ax1.tick_params(axis='y', labelcolor='tab:blue')\n",
    "    \n",
    "    # Bar chart for Cosine Dissimilarity\n",
    "    ax2 = ax1.twinx()\n",
    "    ax2.bar(x + width/2, cos_dissimilarities, width, label=\"1 - Cos Similarity\", color='tab:red')\n",
    "    ax2.set_ylabel(\"1 - Cos Similarity\", color='tab:red')\n",
    "    ax2.tick_params(axis='y', labelcolor='tab:red')\n",
    "    \n",
    "    # Add layer names to x-axis\n",
    "    # plt.xticks(x, layer_names, rotation=45, ha='right')\n",
    "    \n",
    "    # Add legends\n",
    "    ax1.legend(loc='upper left')\n",
    "    ax2.legend(loc='upper right')\n",
    "    \n",
    "    # Add title and layout adjustments\n",
    "    plt.title(\"Layer-wise L2 Distance and Cosine Dissimilarity (Bar Chart)\")\n",
    "    # fig.tight_layout()\n",
    "    plt.show()"
   ]
  },
  {
   "cell_type": "code",
   "execution_count": 150,
   "metadata": {},
   "outputs": [
    {
     "data": {
      "image/png": "[encoded data removed]",
      "text/plain": [
       "<Figure size 1400x600 with 2 Axes>"
      ]
     },
     "metadata": {},
     "output_type": "display_data"
    }
   ],
   "source": [
    "compare_model_weights(model1, model2)"
   ]
  },
  {
   "cell_type": "markdown",
   "metadata": {},
   "source": [
    "The L2 and Cosine distince is small in this attack"
   ]
  },
  {
   "cell_type": "code",
   "execution_count": null,
   "metadata": {},
   "outputs": [],
   "source": []
  },
  {
   "cell_type": "code",
   "execution_count": 127,
   "metadata": {},
   "outputs": [
    {
     "name": "stdout",
     "output_type": "stream",
     "text": [
      "dict_keys(['0.weight', '0.bias', '1.weight', '1.bias', '2.weight', '2.bias'])\n"
     ]
    }
   ],
   "source": [
    "import torch.nn as nn\n",
    "\n",
    "# Example model\n",
    "model = nn.Sequential(\n",
    "    nn.Linear(10, 5),\n",
    "    nn.BatchNorm1d(5),  # This has buffers (running_mean, running_var) in state_dict but not in parameters\n",
    "    nn.Linear(5, 2)\n",
    ")\n",
    "\n",
    "# Get parameter names (those in model.parameters())\n",
    "param_names = {name for name, param in model.named_parameters()}\n",
    "\n",
    "# Filter state_dict keys that are in param_names\n",
    "filtered_state_dict = {k: v for k, v in model.state_dict().items() if k in param_names}\n",
    "\n",
    "# Display results\n",
    "print(filtered_state_dict.keys())  # Only includes layers that are in model.parameters()\n"
   ]
  }
 ],
 "metadata": {
  "kernelspec": {
   "display_name": "fl39",
   "language": "python",
   "name": "python3"
  },
  "language_info": {
   "codemirror_mode": {
    "name": "ipython",
    "version": 3
   },
   "file_extension": ".py",
   "mimetype": "text/x-python",
   "name": "python",
   "nbconvert_exporter": "python",
   "pygments_lexer": "ipython3",
   "version": "3.9.20"
  }
 },
 "nbformat": 4,
 "nbformat_minor": 2
}
