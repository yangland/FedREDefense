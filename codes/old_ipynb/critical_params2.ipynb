{
 "cells": [
  {
   "cell_type": "code",
   "execution_count": 2,
   "metadata": {},
   "outputs": [],
   "source": [
    "import torch.nn as nn\n",
    "import torch\n",
    "import torch.optim as optim\n",
    "import matplotlib.pyplot as plt\n",
    "cos = nn.CosineSimilarity(dim=0, eps=1e-9)\n",
    "from torchvision import transforms\n",
    "# to get the relationship between TopK parameters and the attack success rate"
   ]
  },
  {
   "cell_type": "code",
   "execution_count": 3,
   "metadata": {},
   "outputs": [],
   "source": [
    "from models import ConvNet\n",
    "from utils import *\n",
    "from torch.utils.data import DataLoader"
   ]
  },
  {
   "cell_type": "code",
   "execution_count": 5,
   "metadata": {},
   "outputs": [
    {
     "name": "stdout",
     "output_type": "stream",
     "text": [
      "Data split:\n",
      " - Client 0: [226  18  19  79  27 116  25   3  35  47]               -> sum=595\n",
      " - Client 1: [ 86  54   6  41   2  98 160 128   4  20]               -> sum=599\n",
      " - Client 2: [150  21  89  25   3  55  60 178   2  19]               -> sum=602\n",
      " - Client 3: [ 59 103  22 131 163   9  28  29   2  53]               -> sum=599\n",
      " - Client 4: [ 61 185  28  97  35  54  23   9   2 106]               -> sum=600\n",
      " - Client 5: [ 17  64  24  20  10 229 121  28  24  63]               -> sum=600\n",
      " - Client 6: [232   5   9  30   7 123   7  20  93  75]               -> sum=601\n",
      " - Client 7: [  0  71  38  46  45  74   1  81 155  87]               -> sum=598\n",
      " - Client 8: [ 22  79  22   9  83 138  50  82  37  79]               -> sum=601\n",
      " - Client 9: [29 83 47 76 98 26 25 55 72 89]                         -> sum=600\n",
      ".  .  .  .  .  .  .  .  .  .  \n",
      ".  .  .  .  .  .  .  .  .  .  \n",
      ".  .  .  .  .  .  .  .  .  .  \n",
      " - Client 91: [ 18  44  49  84  21  49 141  47  83  62]               -> sum=598\n",
      " - Client 92: [ 16  79  51 108  83  10  38 132  50  34]               -> sum=601\n",
      " - Client 93: [112  10  40  86  90  52  92  81  14  23]               -> sum=600\n",
      " - Client 94: [ 31  35  63 219  33  10  18  42  23 127]               -> sum=601\n",
      " - Client 95: [ 11  69  52  61  51 166 108  24  21  36]               -> sum=599\n",
      " - Client 96: [ 68  40  19 161  29   4   9 134  60  76]               -> sum=600\n",
      " - Client 97: [ 25 102  25  65  21   5   9 151 100  98]               -> sum=601\n",
      " - Client 98: [ 59 112  38 163  76   9  15  22  92  14]               -> sum=600\n",
      " - Client 99: [ 39  12   5  26 101 254   8  78  45  36]               -> sum=604\n",
      " - Total:     [6000 6000 6000 6000 6000 6000 6000 6000 6000 6000]\n",
      "\n"
     ]
    }
   ],
   "source": [
    "# Define transformation (convert images to tensors and normalize)\n",
    "transform = transforms.Compose([\n",
    "    transforms.ToTensor(),  # Convert image to tensor\n",
    "    transforms.Normalize((0.5,), (0.5,))  # Normalize the image with mean and std\n",
    "])\n",
    "\n",
    "# Load the training dataset\n",
    "train_data = datasets.FashionMNIST(root='./data', train=True, download=True, transform=transform)\n",
    "\n",
    "# Load the test dataset\n",
    "test_data = datasets.FashionMNIST(root='./data', train=False, download=True, transform=transform)\n",
    "\n",
    "# Create DataLoader for batch processing\n",
    "# train_loader = DataLoader(train_dataset, batch_size=64, shuffle=True, num_workers=4)\n",
    "# test_loader = DataLoader(test_dataset, batch_size=64, shuffle=False, num_workers=4)\n",
    "client_loaders, test_loader, client_data_subsets = data.get_loaders(train_data, test_data, n_clients=100,\n",
    "                                                                        alpha=1.0, batch_size=32, n_data=None, num_workers=4, seed=4)"
   ]
  },
  {
   "cell_type": "code",
   "execution_count": 11,
   "metadata": {},
   "outputs": [],
   "source": [
    "client_loader = client_loaders[4]"
   ]
  },
  {
   "cell_type": "code",
   "execution_count": 8,
   "metadata": {},
   "outputs": [],
   "source": [
    "device = \"cuda\""
   ]
  },
  {
   "cell_type": "code",
   "execution_count": 9,
   "metadata": {},
   "outputs": [
    {
     "name": "stdout",
     "output_type": "stream",
     "text": [
      "num feat 2048\n",
      "num feat 2048\n"
     ]
    },
    {
     "data": {
      "text/plain": [
       "<All keys matched successfully>"
      ]
     },
     "execution_count": 9,
     "metadata": {},
     "output_type": "execute_result"
    }
   ],
   "source": [
    "model1 = ConvNet(im_size = (28,28), dataset = 'fmnist').to(device)\n",
    "model2 = ConvNet(im_size = (28,28), dataset = 'fmnist').to(device)\n",
    "model0 = {k: v.clone().detach() for k, v in model1.state_dict().items()}\n",
    "model2.load_state_dict(model1.state_dict())"
   ]
  },
  {
   "cell_type": "code",
   "execution_count": 10,
   "metadata": {},
   "outputs": [],
   "source": [
    "optimizer1 = optim.SGD(model1.parameters(), lr=0.001)\n",
    "optimizer2 = optim.SGD(model2.parameters(), lr=0.001)"
   ]
  },
  {
   "cell_type": "code",
   "execution_count": 12,
   "metadata": {},
   "outputs": [
    {
     "name": "stdout",
     "output_type": "stream",
     "text": [
      "[2.41, 2.22, 2.03, 1.9, 1.81, 1.74, 1.67, 1.62, 1.57, 1.52]\n"
     ]
    },
    {
     "data": {
      "text/plain": [
       "{'loss': 1.8443848101298015}"
      ]
     },
     "execution_count": 12,
     "metadata": {},
     "output_type": "execute_result"
    }
   ],
   "source": [
    "# train with benign dataset\n",
    "\n",
    "train_op(model1, client_loader, optimizer1, epochs=1, print_train_loss=True)"
   ]
  },
  {
   "cell_type": "code",
   "execution_count": 13,
   "metadata": {},
   "outputs": [
    {
     "name": "stdout",
     "output_type": "stream",
     "text": [
      "[2.31, 1.98, 1.75, 1.81, 1.82, 1.72, 1.65, 1.74, 1.56, 1.36]\n"
     ]
    },
    {
     "data": {
      "text/plain": [
       "{'loss': 1.7791100804011026}"
      ]
     },
     "execution_count": 13,
     "metadata": {},
     "output_type": "execute_result"
    }
   ],
   "source": [
    "train_op_tr_flip(model2, client_loader, optimizer2, epochs=1, class_num=10, print_train_loss=True)"
   ]
  },
  {
   "cell_type": "markdown",
   "metadata": {},
   "source": [
    "# Evaluate the model after training"
   ]
  },
  {
   "cell_type": "code",
   "execution_count": null,
   "metadata": {},
   "outputs": [],
   "source": []
  },
  {
   "cell_type": "code",
   "execution_count": 14,
   "metadata": {},
   "outputs": [
    {
     "data": {
      "text/plain": [
       "{'test_accuracy': 0.2027}"
      ]
     },
     "execution_count": 14,
     "metadata": {},
     "output_type": "execute_result"
    }
   ],
   "source": [
    "# test the main task\n",
    "\n",
    "eval_op_ensemble([model1], test_loader)"
   ]
  },
  {
   "cell_type": "code",
   "execution_count": 15,
   "metadata": {},
   "outputs": [
    {
     "data": {
      "text/plain": [
       "{'test_accuracy': 0.2605}"
      ]
     },
     "execution_count": 15,
     "metadata": {},
     "output_type": "execute_result"
    }
   ],
   "source": [
    "eval_op_ensemble([model2], test_loader)"
   ]
  },
  {
   "cell_type": "code",
   "execution_count": 16,
   "metadata": {},
   "outputs": [
    {
     "data": {
      "text/plain": [
       "dict_items([('accuracy', 0.0)])"
      ]
     },
     "execution_count": 16,
     "metadata": {},
     "output_type": "execute_result"
    }
   ],
   "source": [
    "# test the attack success rate\n",
    "\n",
    "eval_op_ensemble_tr_lf_attack([model1], test_loader).items()"
   ]
  },
  {
   "cell_type": "code",
   "execution_count": 17,
   "metadata": {},
   "outputs": [
    {
     "data": {
      "text/plain": [
       "dict_items([('accuracy', 0.408)])"
      ]
     },
     "execution_count": 17,
     "metadata": {},
     "output_type": "execute_result"
    }
   ],
   "source": [
    "eval_op_ensemble_tr_lf_attack([model2], test_loader).items()"
   ]
  },
  {
   "cell_type": "code",
   "execution_count": 15,
   "metadata": {},
   "outputs": [],
   "source": [
    "# model1"
   ]
  },
  {
   "cell_type": "code",
   "execution_count": null,
   "metadata": {},
   "outputs": [],
   "source": []
  },
  {
   "cell_type": "code",
   "execution_count": 18,
   "metadata": {},
   "outputs": [],
   "source": [
    "# cos between trained models\n",
    "flat_model0 = flat_dict_grad(model0)\n",
    "flat_model1 = flat_dict_grad(model1.state_dict())\n",
    "flat_model2 = flat_dict_grad(model2.state_dict())"
   ]
  },
  {
   "cell_type": "code",
   "execution_count": 19,
   "metadata": {},
   "outputs": [
    {
     "data": {
      "text/plain": [
       "tensor([ 1.6972e-04,  7.0453e-05, -1.5795e-05,  ..., -8.3963e-04,\n",
       "        -1.3404e-03,  1.6219e-03], device='cuda:0')"
      ]
     },
     "execution_count": 19,
     "metadata": {},
     "output_type": "execute_result"
    }
   ],
   "source": [
    "flat_model1 - flat_model0"
   ]
  },
  {
   "cell_type": "code",
   "execution_count": 20,
   "metadata": {},
   "outputs": [
    {
     "data": {
      "text/plain": [
       "tensor(0.8966, device='cuda:0')"
      ]
     },
     "execution_count": 20,
     "metadata": {},
     "output_type": "execute_result"
    }
   ],
   "source": [
    "cos = nn.CosineSimilarity(dim=0, eps=1e-11)\n",
    "cos((flat_model1 - flat_model0), (flat_model2 - flat_model0))"
   ]
  },
  {
   "cell_type": "code",
   "execution_count": 21,
   "metadata": {},
   "outputs": [],
   "source": [
    "# analyzing critical parameters\n",
    "# Towards Attack-tolerant Federated Learning via Critical Parameter Analysis\n",
    "# use self-defined method to try\n",
    "\n",
    "abs_delta = torch.abs(flat_model2 - flat_model1)"
   ]
  },
  {
   "cell_type": "code",
   "execution_count": 22,
   "metadata": {},
   "outputs": [
    {
     "data": {
      "text/plain": [
       "tensor([7.0214e-05, 1.5914e-05, 6.5267e-06,  ..., 1.1120e-06, 2.0420e-05,\n",
       "        2.1106e-05], device='cuda:0')"
      ]
     },
     "execution_count": 22,
     "metadata": {},
     "output_type": "execute_result"
    }
   ],
   "source": [
    "abs_delta"
   ]
  },
  {
   "cell_type": "code",
   "execution_count": 23,
   "metadata": {},
   "outputs": [],
   "source": [
    "data_np = abs_delta.cpu().detach().numpy()"
   ]
  },
  {
   "cell_type": "code",
   "execution_count": 24,
   "metadata": {},
   "outputs": [
    {
     "data": {
      "text/plain": [
       "array([7.0214272e-05, 1.5914440e-05, 6.5267086e-06, ..., 1.1119992e-06,\n",
       "       2.0420179e-05, 2.1105632e-05], dtype=float32)"
      ]
     },
     "execution_count": 24,
     "metadata": {},
     "output_type": "execute_result"
    }
   ],
   "source": [
    "data_np"
   ]
  },
  {
   "cell_type": "code",
   "execution_count": 25,
   "metadata": {},
   "outputs": [
    {
     "data": {
      "image/png": "[encoded data removed]",
      "text/plain": [
       "<Figure size 640x480 with 1 Axes>"
      ]
     },
     "metadata": {},
     "output_type": "display_data"
    }
   ],
   "source": [
    "\n",
    "# data = torch.tensor([1, 1, 2, 1])\n",
    "\n",
    "# Convert tensor to NumPy for plotting\n",
    "\n",
    "\n",
    "# Plot histogram\n",
    "plt.hist(data_np, bins=100, edgecolor='black', alpha=0.7)\n",
    "plt.xlabel(\"Value\")\n",
    "plt.ylabel(\"Frequency\")\n",
    "plt.title(\"Histogram of Tensor Values\")\n",
    "plt.show()"
   ]
  },
  {
   "cell_type": "code",
   "execution_count": 26,
   "metadata": {},
   "outputs": [
    {
     "name": "stdout",
     "output_type": "stream",
     "text": [
      "tensor([1, 3, 7, 1])\n"
     ]
    }
   ],
   "source": [
    "def replace_top_r_percent(a, b, c, k):\n",
    "    n = b.numel()\n",
    "    top_k = max(1, int(n * (k / 100)))  # Ensure at least one element is selected\n",
    "    threshold = torch.topk(b, top_k, sorted=True).values[-1]  # Get the r%-th largest value\n",
    "\n",
    "    mask = b >= threshold  # Mask for top r% values\n",
    "    result = torch.where(mask, c, a)  # Replace selected positions in a with c\n",
    "\n",
    "    return result\n",
    "\n",
    "# Example usage\n",
    "a = torch.tensor([1, 3, -5, 1])\n",
    "b = torch.tensor([0, 0, 2, 0])\n",
    "c = torch.tensor([4, 3, 7, 6])\n",
    "\n",
    "r = 25  # Top 25% replacement\n",
    "output = replace_top_r_percent(a, b, c, r)\n",
    "print(output)  # Expected: tensor([1, 3, 7, 1])\n",
    "\n"
   ]
  },
  {
   "cell_type": "code",
   "execution_count": null,
   "metadata": {},
   "outputs": [],
   "source": [
    "# try combined model's cos and attack success rate"
   ]
  },
  {
   "cell_type": "code",
   "execution_count": 27,
   "metadata": {},
   "outputs": [],
   "source": [
    "crafted_model = replace_top_r_percent(flat_model1, abs_delta, flat_model2, k=0.25)"
   ]
  },
  {
   "cell_type": "code",
   "execution_count": 28,
   "metadata": {},
   "outputs": [
    {
     "data": {
      "text/plain": [
       "tensor([ 0.1915,  0.2580,  0.1741,  ..., -0.0204,  0.0177,  0.0117],\n",
       "       device='cuda:0')"
      ]
     },
     "execution_count": 28,
     "metadata": {},
     "output_type": "execute_result"
    }
   ],
   "source": [
    "crafted_model"
   ]
  },
  {
   "cell_type": "code",
   "execution_count": 29,
   "metadata": {},
   "outputs": [
    {
     "data": {
      "text/plain": [
       "tensor(0.9566, device='cuda:0')"
      ]
     },
     "execution_count": 29,
     "metadata": {},
     "output_type": "execute_result"
    }
   ],
   "source": [
    "cos((flat_model1 - flat_model0), (crafted_model - flat_model0))"
   ]
  },
  {
   "cell_type": "code",
   "execution_count": 30,
   "metadata": {},
   "outputs": [],
   "source": [
    "# restore the weights back to the model to test attack success rate\n",
    "def restore_dict_grad(flat_grad, model_dict):\n",
    "    restored_grad = {}\n",
    "    start = 0\n",
    "    for name, param in model_dict.items():\n",
    "        num_elements = param.numel()\n",
    "        restored_grad[name] = flat_grad[start:start + num_elements].view(param.shape)\n",
    "        start += num_elements\n",
    "    return restored_grad"
   ]
  },
  {
   "cell_type": "code",
   "execution_count": 31,
   "metadata": {},
   "outputs": [],
   "source": [
    "restored_crafted = restore_dict_grad(crafted_model, model2.state_dict())"
   ]
  },
  {
   "cell_type": "code",
   "execution_count": 32,
   "metadata": {},
   "outputs": [
    {
     "data": {
      "text/plain": [
       "<All keys matched successfully>"
      ]
     },
     "execution_count": 32,
     "metadata": {},
     "output_type": "execute_result"
    }
   ],
   "source": [
    "model2.load_state_dict(restored_crafted )"
   ]
  },
  {
   "cell_type": "code",
   "execution_count": 34,
   "metadata": {},
   "outputs": [
    {
     "data": {
      "text/plain": [
       "{'test_accuracy': 0.2034}"
      ]
     },
     "execution_count": 34,
     "metadata": {},
     "output_type": "execute_result"
    }
   ],
   "source": [
    "eval_op_ensemble([model2], test_loader)"
   ]
  },
  {
   "cell_type": "code",
   "execution_count": 35,
   "metadata": {},
   "outputs": [
    {
     "data": {
      "text/plain": [
       "dict_items([('accuracy', 0.002)])"
      ]
     },
     "execution_count": 35,
     "metadata": {},
     "output_type": "execute_result"
    }
   ],
   "source": [
    "eval_op_ensemble_tr_lf_attack([model2], test_loader).items()"
   ]
  },
  {
   "cell_type": "code",
   "execution_count": 1,
   "metadata": {},
   "outputs": [
    {
     "data": {
      "text/plain": [
       "[0,\n",
       " 5,\n",
       " 10,\n",
       " 15,\n",
       " 20,\n",
       " 25,\n",
       " 30,\n",
       " 35,\n",
       " 40,\n",
       " 45,\n",
       " 50,\n",
       " 55,\n",
       " 60,\n",
       " 65,\n",
       " 70,\n",
       " 75,\n",
       " 80,\n",
       " 85,\n",
       " 90,\n",
       " 95,\n",
       " 100]"
      ]
     },
     "execution_count": 1,
     "metadata": {},
     "output_type": "execute_result"
    }
   ],
   "source": [
    "list(range(0, 101,5))"
   ]
  },
  {
   "cell_type": "code",
   "execution_count": 5,
   "metadata": {},
   "outputs": [
    {
     "data": {
      "image/png": "[encoded data removed]",
      "text/plain": [
       "<Figure size 1000x500 with 1 Axes>"
      ]
     },
     "metadata": {},
     "output_type": "display_data"
    }
   ],
   "source": [
    "import matplotlib.pyplot as plt\n",
    "\n",
    "# Data\n",
    "data = {\n",
    " 0: (0.1978, 0.0, 0.002549290657043457),\n",
    " 2: (0.1981, 0.0, 0.01845616102218628),\n",
    " 4: (0.1982, 0.0, 0.031197071075439453),\n",
    " 6: (0.1982, 0.0, 0.037589848041534424),\n",
    " 8: (0.1984, 0.0, 0.05892503261566162),\n",
    " 10: (0.1984, 0.0, 0.05892503261566162),\n",
    " 12: (0.1997, 0.0, 0.09739971160888672),\n",
    " 14: (0.1997, 0.0, 0.09739971160888672),\n",
    " 16: (0.1997, 0.0, 0.09739971160888672),\n",
    " 18: (0.1997, 0.0, 0.09739971160888672),\n",
    " 20: (0.2122, 0.001, 0.14976048469543457),\n",
    " 22: (0.2122, 0.001, 0.14976048469543457),\n",
    " 24: (0.2122, 0.001, 0.14976048469543457),\n",
    " 26: (0.2122, 0.001, 0.14976048469543457),\n",
    " 28: (0.2122, 0.001, 0.14976048469543457),\n",
    " 30: (0.2122, 0.001, 0.14976048469543457),\n",
    " 32: (0.274, 0.328, 0.2299501895904541),\n",
    " 34: (0.274, 0.328, 0.2299501895904541),\n",
    " 36: (0.274, 0.328, 0.2299501895904541),\n",
    " 38: (0.274, 0.328, 0.2299501895904541),\n",
    " 40: (0.274, 0.328, 0.2299501895904541),\n",
    " 42: (0.274, 0.328, 0.2299501895904541),\n",
    " 44: (0.274, 0.328, 0.2299501895904541),\n",
    " 46: (0.274, 0.328, 0.2299501895904541),\n",
    " 48: (0.274, 0.328, 0.2299501895904541),\n",
    " 50: (0.274, 0.328, 0.2299501895904541),\n",
    " 52: (0.2047, 0.984, 0.33482885360717773),\n",
    " 54: (0.2047, 0.984, 0.33482885360717773),\n",
    " 56: (0.2047, 0.984, 0.33482885360717773),\n",
    " 58: (0.2047, 0.984, 0.33482885360717773),\n",
    " 60: (0.2047, 0.984, 0.33482885360717773),\n",
    " 62: (0.2047, 0.984, 0.33482885360717773),\n",
    " 64: (0.2047, 0.984, 0.33482885360717773),\n",
    " 66: (0.2047, 0.984, 0.33482885360717773),\n",
    " 68: (0.2047, 0.984, 0.33482885360717773),\n",
    " 70: (0.2047, 0.984, 0.33482885360717773),\n",
    " 72: (0.2047, 0.984, 0.33482885360717773),\n",
    " 74: (0.2047, 0.984, 0.33482885360717773),\n",
    " 76: (0.2047, 0.984, 0.33482885360717773),\n",
    " 78: (0.2047, 0.984, 0.33482885360717773),\n",
    " 80: (0.2047, 0.984, 0.33482885360717773),\n",
    " 82: (0.2047, 0.984, 0.33482885360717773),\n",
    " 84: (0.2047, 0.984, 0.33482885360717773),\n",
    " 86: (0.1981, 0.989, 0.3701061010360718),\n",
    " 88: (0.1981, 0.989, 0.3701061010360718),\n",
    " 90: (0.1981, 0.989, 0.3701061010360718),\n",
    " 92: (0.1981, 0.989, 0.3701061010360718),\n",
    " 94: (0.1981, 0.989, 0.3701061010360718),\n",
    " 96: (0.1981, 0.989, 0.3701061010360718),\n",
    " 98: (0.1981, 0.989, 0.3701061010360718),\n",
    " 100: (0.1981, 0.989, 0.3701061010360718)}\n",
    "\n",
    "\n",
    "keys = list(data.keys())\n",
    "acc = [v[0] for v in data.values()]\n",
    "asr = [v[1] for v in data.values()]\n",
    "cos_dist = [v[2] for v in data.values()]\n",
    "\n",
    "plt.figure(figsize=(10, 5))\n",
    "plt.plot(keys, acc, label='Acc', marker='o')\n",
    "plt.plot(keys, asr, label='ASR', marker='s')\n",
    "plt.plot(keys, cos_dist, label='Cos Dist', marker='^')\n",
    "\n",
    "plt.xlabel('Percentage')\n",
    "plt.ylabel('Values')\n",
    "plt.title('Dataset Visualization')\n",
    "plt.legend()\n",
    "plt.grid()\n",
    "plt.show()\n"
   ]
  }
 ],
 "metadata": {
  "kernelspec": {
   "display_name": "fl39",
   "language": "python",
   "name": "python3"
  },
  "language_info": {
   "codemirror_mode": {
    "name": "ipython",
    "version": 3
   },
   "file_extension": ".py",
   "mimetype": "text/x-python",
   "name": "python",
   "nbconvert_exporter": "python",
   "pygments_lexer": "ipython3",
   "version": "3.9.20"
  }
 },
 "nbformat": 4,
 "nbformat_minor": 2
}
