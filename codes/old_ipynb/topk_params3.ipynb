{
 "cells": [
  {
   "cell_type": "code",
   "execution_count": 128,
   "metadata": {},
   "outputs": [],
   "source": [
    "import torch.nn as nn\n",
    "import torch\n",
    "import torch.optim as optim\n",
    "import matplotlib.pyplot as plt\n",
    "cos = nn.CosineSimilarity(dim=0, eps=1e-9)\n",
    "from torchvision import transforms\n",
    "from models import ConvNet, resnet8, MLP\n",
    "from utils import *\n",
    "from torch.utils.data import DataLoader\n",
    "device = \"cuda\""
   ]
  },
  {
   "cell_type": "code",
   "execution_count": 129,
   "metadata": {},
   "outputs": [
    {
     "name": "stdout",
     "output_type": "stream",
     "text": [
      "Data split:\n",
      " - Client 0: [226  18  19  79  27 116  25   3  35  47]               -> sum=595\n",
      " - Client 1: [ 86  54   6  41   2  98 160 128   4  20]               -> sum=599\n",
      " - Client 2: [150  21  89  25   3  55  60 178   2  19]               -> sum=602\n",
      " - Client 3: [ 59 103  22 131 163   9  28  29   2  53]               -> sum=599\n",
      " - Client 4: [ 61 185  28  97  35  54  23   9   2 106]               -> sum=600\n",
      " - Client 5: [ 17  64  24  20  10 229 121  28  24  63]               -> sum=600\n",
      " - Client 6: [232   5   9  30   7 123   7  20  93  75]               -> sum=601\n",
      " - Client 7: [  0  71  38  46  45  74   1  81 155  87]               -> sum=598\n",
      " - Client 8: [ 22  79  22   9  83 138  50  82  37  79]               -> sum=601\n",
      " - Client 9: [29 83 47 76 98 26 25 55 72 89]                         -> sum=600\n",
      ".  .  .  .  .  .  .  .  .  .  \n",
      ".  .  .  .  .  .  .  .  .  .  \n",
      ".  .  .  .  .  .  .  .  .  .  \n",
      " - Client 91: [ 18  44  49  84  21  49 141  47  83  62]               -> sum=598\n",
      " - Client 92: [ 16  79  51 108  83  10  38 132  50  34]               -> sum=601\n",
      " - Client 93: [112  10  40  86  90  52  92  81  14  23]               -> sum=600\n",
      " - Client 94: [ 31  35  63 219  33  10  18  42  23 127]               -> sum=601\n",
      " - Client 95: [ 11  69  52  61  51 166 108  24  21  36]               -> sum=599\n",
      " - Client 96: [ 68  40  19 161  29   4   9 134  60  76]               -> sum=600\n",
      " - Client 97: [ 25 102  25  65  21   5   9 151 100  98]               -> sum=601\n",
      " - Client 98: [ 59 112  38 163  76   9  15  22  92  14]               -> sum=600\n",
      " - Client 99: [ 39  12   5  26 101 254   8  78  45  36]               -> sum=604\n",
      " - Total:     [6000 6000 6000 6000 6000 6000 6000 6000 6000 6000]\n",
      "\n"
     ]
    }
   ],
   "source": [
    "# Define transformation (convert images to tensors and normalize)\n",
    "transform = transforms.Compose([\n",
    "    transforms.ToTensor(),  # Convert image to tensor\n",
    "    transforms.Normalize((0.5,), (0.5,))  # Normalize the image with mean and std\n",
    "])\n",
    "\n",
    "# Load the training dataset\n",
    "train_data = datasets.FashionMNIST(root='./data', train=True, download=True, transform=transform)\n",
    "\n",
    "# Load the test dataset\n",
    "test_data = datasets.FashionMNIST(root='./data', train=False, download=True, transform=transform)\n",
    "\n",
    "# Create DataLoader for batch processing\n",
    "# train_loader = DataLoader(train_dataset, batch_size=64, shuffle=True, num_workers=4)\n",
    "# test_loader = DataLoader(test_dataset, batch_size=64, shuffle=False, num_workers=4)\n",
    "client_loaders, test_loader, client_data_subsets = data.get_loaders(train_data, test_data, n_clients=100,\n",
    "                                                                        alpha=1.0, batch_size=32, n_data=None, num_workers=4, seed=4)"
   ]
  },
  {
   "cell_type": "code",
   "execution_count": 130,
   "metadata": {},
   "outputs": [
    {
     "name": "stdout",
     "output_type": "stream",
     "text": [
      "num feat 2048\n",
      "num feat 2048\n",
      "num feat 2048\n",
      "[2.32, 2.16, 1.99, 1.88, 1.82, 1.76, 1.7, 1.67, 1.62, 1.57]\n",
      "[2.48, 2.27, 1.98, 1.92, 1.83, 1.76, 1.4, 1.46, 1.6, 1.54]\n"
     ]
    },
    {
     "data": {
      "text/plain": [
       "{'loss': 1.8259712355477469}"
      ]
     },
     "execution_count": 130,
     "metadata": {},
     "output_type": "execute_result"
    }
   ],
   "source": [
    "# setup the environment\n",
    "client_loader = client_loaders[0]\n",
    "model1 = ConvNet(im_size = (28,28), dataset = 'fmnist').to(device)\n",
    "model2 = ConvNet(im_size = (28,28), dataset = 'fmnist').to(device)\n",
    "model3 = ConvNet(im_size = (28,28), dataset = 'fmnist').to(device)\n",
    "\n",
    "# model1 = resnet8(dataset = 'fmnist').to(device)\n",
    "# model2 = resnet8(dataset = 'fmnist').to(device)\n",
    "# model3 = resnet8(dataset = 'fmnist').to(device)\n",
    "model0 = {k: v.clone().detach() for k, v in model1.state_dict().items()}\n",
    "model2.load_state_dict(model1.state_dict())\n",
    "\n",
    "optimizer1 = optim.SGD(model1.parameters(), lr=0.001)\n",
    "optimizer2 = optim.SGD(model2.parameters(), lr=0.001)\n",
    "\n",
    "# train with benign and the malicious model\n",
    "\n",
    "train_op(model1, client_loader, optimizer1, epochs=1, print_train_loss=True)\n",
    "train_op_tr_flip(model2, client_loader, optimizer2, epochs=1, class_num=10, print_train_loss=True)"
   ]
  },
  {
   "cell_type": "code",
   "execution_count": 4,
   "metadata": {},
   "outputs": [],
   "source": [
    "# m = resnet8( dataset = 'fmnist').to(device)\n",
    "# sum(p.numel() for p in m.parameters())"
   ]
  },
  {
   "cell_type": "code",
   "execution_count": null,
   "metadata": {},
   "outputs": [],
   "source": []
  },
  {
   "cell_type": "code",
   "execution_count": 131,
   "metadata": {},
   "outputs": [],
   "source": [
    "def model_eval(model, test_loader):\n",
    "    acc = eval_op_ensemble([model], test_loader)\n",
    "    asr = eval_op_ensemble_tr_lf_attack([model], test_loader)\n",
    "    return list(acc.values())[0], list(asr.values())[0]"
   ]
  },
  {
   "cell_type": "code",
   "execution_count": 132,
   "metadata": {},
   "outputs": [
    {
     "data": {
      "text/plain": [
       "(0.1876, 0.0)"
      ]
     },
     "execution_count": 132,
     "metadata": {},
     "output_type": "execute_result"
    }
   ],
   "source": [
    "model_eval(model1, test_loader)"
   ]
  },
  {
   "cell_type": "code",
   "execution_count": 133,
   "metadata": {},
   "outputs": [
    {
     "data": {
      "text/plain": [
       "(0.1929, 0.995)"
      ]
     },
     "execution_count": 133,
     "metadata": {},
     "output_type": "execute_result"
    }
   ],
   "source": [
    "model_eval(model2, test_loader)"
   ]
  },
  {
   "cell_type": "code",
   "execution_count": 134,
   "metadata": {},
   "outputs": [],
   "source": [
    "flat_model0 = flat_dict(model0)\n",
    "flat_model1 = flat_dict(model1.state_dict())\n",
    "flat_model2 = flat_dict(model2.state_dict())"
   ]
  },
  {
   "cell_type": "code",
   "execution_count": 135,
   "metadata": {},
   "outputs": [],
   "source": [
    "# find the reference for TopK\n",
    "delta = torch.abs(flat_model1 - flat_model2)\n",
    "delta = torch.abs(torch.mul((flat_model1 - flat_model2), flat_model2))"
   ]
  },
  {
   "cell_type": "code",
   "execution_count": 136,
   "metadata": {},
   "outputs": [
    {
     "data": {
      "image/png": "[encoded data removed]",
      "text/plain": [
       "<Figure size 640x480 with 1 Axes>"
      ]
     },
     "metadata": {},
     "output_type": "display_data"
    }
   ],
   "source": [
    "plt.hist(delta.cpu().detach().numpy(), bins=1000, edgecolor='black', alpha=0.7)\n",
    "plt.xlabel(\"Value\")\n",
    "plt.ylabel(\"Frequency\")\n",
    "plt.title(\"Histogram of Tensor Values\")\n",
    "plt.show()"
   ]
  },
  {
   "cell_type": "code",
   "execution_count": 137,
   "metadata": {},
   "outputs": [],
   "source": [
    "# cos between model1 and model2\n",
    "org_cos = cos((flat_model1 - flat_model0), (flat_model2 - flat_model0))"
   ]
  },
  {
   "cell_type": "code",
   "execution_count": 57,
   "metadata": {},
   "outputs": [
    {
     "data": {
      "text/plain": [
       "tensor(0.8653, device='cuda:0')"
      ]
     },
     "execution_count": 57,
     "metadata": {},
     "output_type": "execute_result"
    }
   ],
   "source": [
    "org_cos"
   ]
  },
  {
   "cell_type": "code",
   "execution_count": 138,
   "metadata": {},
   "outputs": [],
   "source": [
    "# budget_list = np.arange(0, 1-org_cos.item(), 0.01)\n",
    "budget_list = np.linspace(start=0, stop=1-org_cos.item(), num=10)"
   ]
  },
  {
   "cell_type": "code",
   "execution_count": 139,
   "metadata": {},
   "outputs": [
    {
     "data": {
      "text/plain": [
       "array([0.        , 0.07461949, 0.14923898, 0.22385847, 0.29847795,\n",
       "       0.37309744, 0.44771693, 0.52233642, 0.59695591, 0.6715754 ])"
      ]
     },
     "execution_count": 139,
     "metadata": {},
     "output_type": "execute_result"
    }
   ],
   "source": [
    "budget_list"
   ]
  },
  {
   "cell_type": "code",
   "execution_count": null,
   "metadata": {},
   "outputs": [],
   "source": []
  },
  {
   "cell_type": "code",
   "execution_count": 140,
   "metadata": {},
   "outputs": [],
   "source": [
    "def replace_topk_budget_cos(a: torch.Tensor, b: torch.Tensor, delta: torch.Tensor, server:torch.Tensor, budget: float):\n",
    "    \"\"\"\n",
    "    Replaces elements in `a` with corresponding elements from `b` based on the top-k values in `delta`,\n",
    "    ensuring that the cosine similarity between the modified `a` (denoted as `c`) and the original `a`\n",
    "    satisfies (1 - cos(a, c)) <= budget.\n",
    "\n",
    "    Args:\n",
    "        a (torch.Tensor): Original tensor.\n",
    "        b (torch.Tensor): Replacement tensor.\n",
    "        delta (torch.Tensor): Difference tensor used for ranking replacements.\n",
    "        budget (float): Maximum allowable cosine distance between `a` and the modified tensor `c`.\n",
    "\n",
    "    Returns:\n",
    "        torch.Tensor: Modified tensor `c` with selected replacements.\n",
    "    \"\"\"\n",
    "    flat_delta = delta.view(-1)\n",
    "    flat_a = a.view(-1)\n",
    "    flat_b = b.view(-1)\n",
    "    flat_s = server.view(-1)\n",
    "    \n",
    "    # Sort indices by delta in descending order (top-k replacement candidates)\n",
    "    sorted_indices = torch.argsort(flat_delta, descending=True)\n",
    "    \n",
    "    c = flat_a.clone()\n",
    "    best_c = c.clone()\n",
    "    best_cos_dist = 1 - torch.nn.functional.cosine_similarity((flat_a-flat_s).view(1, -1), \n",
    "                                                              (best_c-flat_s).view(1, -1)).item()\n",
    "    # print(f\"initial cos {best_cos_dist}\")\n",
    "    left, right = 0, len(sorted_indices)\n",
    "    \n",
    "    while left < right:\n",
    "        \n",
    "        mid = (left + right) // 2 \n",
    "        c[:] = flat_a  # Reset c to original a before each iteration\n",
    "        c[sorted_indices[:mid]] = flat_b[sorted_indices[:mid]]\n",
    "        \n",
    "        cos_sim = torch.nn.functional.cosine_similarity((flat_a-flat_s).view(1, -1), \n",
    "                                                        (c-flat_s).view(1, -1)).item()\n",
    "        cos_dist = 1 - cos_sim\n",
    "        print(f\"left: {left}, right: {right}, mid: {mid}\")\n",
    "        if cos_dist <= budget:\n",
    "            best_c = c.clone()\n",
    "            best_cos_dist = cos_dist\n",
    "            left = mid + 1\n",
    "        else:\n",
    "            right = mid \n",
    "    \n",
    "    return best_c.view(a.shape), mid/len(sorted_indices)*100, best_cos_dist"
   ]
  },
  {
   "cell_type": "code",
   "execution_count": 141,
   "metadata": {},
   "outputs": [],
   "source": [
    "def restore_dict_w(flat_grad, model_dict):\n",
    "    restored_grad = {}\n",
    "    start = 0\n",
    "    for name, param in model_dict.items():\n",
    "        num_elements = param.numel()\n",
    "        restored_grad[name] = flat_grad[start:start + num_elements].view(param.shape)                          \n",
    "        start += num_elements\n",
    "    return restored_grad"
   ]
  },
  {
   "cell_type": "code",
   "execution_count": 142,
   "metadata": {},
   "outputs": [],
   "source": [
    "def weighted_avg(a, b, alpha):\n",
    "    return alpha * a + (1-alpha) *b"
   ]
  },
  {
   "cell_type": "code",
   "execution_count": 159,
   "metadata": {},
   "outputs": [
    {
     "name": "stdout",
     "output_type": "stream",
     "text": [
      "alpha:0.0, acc:0.1929, asr:0.995, cos:0.6715753972530365\n",
      "alpha:0.1111111111111111, acc:0.1952, asr:0.993, cos:0.5765506625175476\n",
      "alpha:0.2222222222222222, acc:0.2026, asr:0.986, cos:0.4722379446029663\n",
      "alpha:0.3333333333333333, acc:0.2141, asr:0.964, cos:0.3629007339477539\n",
      "alpha:0.4444444444444444, acc:0.2331, asr:0.874, cos:0.25588083267211914\n",
      "alpha:0.5555555555555556, acc:0.2316, asr:0.221, cos:0.16052871942520142\n",
      "alpha:0.6666666666666666, acc:0.1999, asr:0.0, cos:0.08531630039215088\n",
      "alpha:0.7777777777777777, acc:0.1933, asr:0.0, cos:0.03464251756668091\n",
      "alpha:0.8888888888888888, acc:0.1912, asr:0.0, cos:0.007704377174377441\n",
      "alpha:1.0, acc:0.1876, asr:0.0, cos:0.0\n"
     ]
    }
   ],
   "source": [
    "results2 =[]\n",
    "alphas = np.linspace(start=0, stop=1, num=10)\n",
    "for alpha in alphas:\n",
    "    model3_w = weighted_avg(flat_model1, flat_model2, alpha)\n",
    "    restored_crafted = restore_dict_w(model3_w,  model3.state_dict())\n",
    "    model3.load_state_dict(restored_crafted)\n",
    "    \n",
    "    cos_sim = torch.nn.functional.cosine_similarity((flat_model1-flat_model0).view(1, -1), \n",
    "                                                (model3_w-flat_model0).view(1, -1)).item()\n",
    "    \n",
    "    # evaluate the model3's performance on main task and attack\n",
    "    acc, asr = model_eval(model3, test_loader)\n",
    "    results2.append([alpha, acc, asr, 1-cos_sim])\n",
    "    print(f\"alpha:{alpha}, acc:{acc}, asr:{asr}, cos:{1-cos_sim}\")"
   ]
  },
  {
   "cell_type": "code",
   "execution_count": 167,
   "metadata": {},
   "outputs": [
    {
     "data": {
      "text/plain": [
       "[[0.0, 0.1929, 0.995, 0.6715753972530365],\n",
       " [0.1111111111111111, 0.1952, 0.993, 0.5765506625175476],\n",
       " [0.2222222222222222, 0.2026, 0.986, 0.4722379446029663],\n",
       " [0.3333333333333333, 0.2141, 0.964, 0.3629007339477539],\n",
       " [0.4444444444444444, 0.2331, 0.874, 0.25588083267211914],\n",
       " [0.5555555555555556, 0.2316, 0.221, 0.16052871942520142],\n",
       " [0.6666666666666666, 0.1999, 0.0, 0.08531630039215088],\n",
       " [0.7777777777777777, 0.1933, 0.0, 0.03464251756668091],\n",
       " [0.8888888888888888, 0.1912, 0.0, 0.007704377174377441],\n",
       " [1.0, 0.1876, 0.0, 0.0]]"
      ]
     },
     "execution_count": 167,
     "metadata": {},
     "output_type": "execute_result"
    }
   ],
   "source": [
    "results2"
   ]
  },
  {
   "cell_type": "code",
   "execution_count": 170,
   "metadata": {},
   "outputs": [
    {
     "data": {
      "text/plain": [
       "[[0.0, 0.1876, 0.0, 0.0, 0.0],\n",
       " [0.07461948858367072, 0.1915, 0.0, 0.1410108716864019, 0.07430970668792725],\n",
       " [0.14923897716734144, 0.1937, 0.0, 0.24771329468124617, 0.1489419937133789],\n",
       " [0.22385846575101215, 0.2011, 0.0, 0.39092746123774813, 0.22383135557174683],\n",
       " [0.2984779543346829, 0.2516, 0.1, 0.6175520764480368, 0.298287570476532],\n",
       " [0.3730974429183536, 0.232, 0.921, 1.4173481142943476, 0.37304699420928955],\n",
       " [0.4477169315020243, 0.2065, 0.982, 4.660912919491605, 0.44771432876586914],\n",
       " [0.522336420085695, 0.1984, 0.991, 13.263205605182149, 0.522335410118103],\n",
       " [0.5969559086693658, 0.1946, 0.993, 33.466475294769374, 0.5969032943248749],\n",
       " [0.6715753972530365, 0.1929, 0.995, 99.99968524358998, 0.6715753972530365]]"
      ]
     },
     "execution_count": 170,
     "metadata": {},
     "output_type": "execute_result"
    }
   ],
   "source": [
    "results"
   ]
  },
  {
   "cell_type": "code",
   "execution_count": 169,
   "metadata": {},
   "outputs": [
    {
     "name": "stdout",
     "output_type": "stream",
     "text": [
      "left: 0, right: 317706, mid: 158853\n",
      "left: 0, right: 158853, mid: 79426\n",
      "left: 0, right: 79426, mid: 39713\n",
      "left: 0, right: 39713, mid: 19856\n",
      "left: 0, right: 19856, mid: 9928\n",
      "left: 0, right: 9928, mid: 4964\n",
      "left: 0, right: 4964, mid: 2482\n",
      "left: 0, right: 2482, mid: 1241\n",
      "left: 0, right: 1241, mid: 620\n",
      "left: 0, right: 620, mid: 310\n",
      "left: 0, right: 310, mid: 155\n",
      "left: 0, right: 155, mid: 77\n",
      "left: 0, right: 77, mid: 38\n",
      "left: 0, right: 38, mid: 19\n",
      "left: 0, right: 19, mid: 9\n",
      "left: 0, right: 9, mid: 4\n",
      "left: 0, right: 4, mid: 2\n",
      "left: 0, right: 2, mid: 1\n",
      "left: 0, right: 1, mid: 0\n",
      "budget:0.0, acc:0.1876, asr:0.0, k:0.0, cos:0.0\n",
      "left: 0, right: 317706, mid: 158853\n",
      "left: 0, right: 158853, mid: 79426\n",
      "left: 0, right: 79426, mid: 39713\n",
      "left: 0, right: 39713, mid: 19856\n",
      "left: 0, right: 19856, mid: 9928\n",
      "left: 0, right: 9928, mid: 4964\n",
      "left: 0, right: 4964, mid: 2482\n",
      "left: 0, right: 2482, mid: 1241\n",
      "left: 0, right: 1241, mid: 620\n",
      "left: 0, right: 620, mid: 310\n",
      "left: 311, right: 620, mid: 465\n",
      "left: 311, right: 465, mid: 388\n",
      "left: 389, right: 465, mid: 427\n",
      "left: 428, right: 465, mid: 446\n",
      "left: 447, right: 465, mid: 456\n",
      "left: 447, right: 456, mid: 451\n",
      "left: 447, right: 451, mid: 449\n",
      "left: 447, right: 449, mid: 448\n",
      "budget:0.07461948858367072, acc:0.1915, asr:0.0, k:0.1410108716864019, cos:0.07430970668792725\n",
      "left: 0, right: 317706, mid: 158853\n",
      "left: 0, right: 158853, mid: 79426\n",
      "left: 0, right: 79426, mid: 39713\n",
      "left: 0, right: 39713, mid: 19856\n",
      "left: 0, right: 19856, mid: 9928\n",
      "left: 0, right: 9928, mid: 4964\n",
      "left: 0, right: 4964, mid: 2482\n",
      "left: 0, right: 2482, mid: 1241\n",
      "left: 0, right: 1241, mid: 620\n",
      "left: 621, right: 1241, mid: 931\n",
      "left: 621, right: 931, mid: 776\n",
      "left: 777, right: 931, mid: 854\n",
      "left: 777, right: 854, mid: 815\n",
      "left: 777, right: 815, mid: 796\n",
      "left: 777, right: 796, mid: 786\n",
      "left: 787, right: 796, mid: 791\n",
      "left: 787, right: 791, mid: 789\n",
      "left: 787, right: 789, mid: 788\n",
      "left: 787, right: 788, mid: 787\n",
      "budget:0.14923897716734144, acc:0.1937, asr:0.0, k:0.24771329468124617, cos:0.1489419937133789\n",
      "left: 0, right: 317706, mid: 158853\n",
      "left: 0, right: 158853, mid: 79426\n",
      "left: 0, right: 79426, mid: 39713\n",
      "left: 0, right: 39713, mid: 19856\n",
      "left: 0, right: 19856, mid: 9928\n",
      "left: 0, right: 9928, mid: 4964\n",
      "left: 0, right: 4964, mid: 2482\n",
      "left: 0, right: 2482, mid: 1241\n",
      "left: 1242, right: 2482, mid: 1862\n",
      "left: 1242, right: 1862, mid: 1552\n",
      "left: 1242, right: 1552, mid: 1397\n",
      "left: 1242, right: 1397, mid: 1319\n",
      "left: 1242, right: 1319, mid: 1280\n",
      "left: 1242, right: 1280, mid: 1261\n",
      "left: 1242, right: 1261, mid: 1251\n",
      "left: 1242, right: 1251, mid: 1246\n",
      "left: 1242, right: 1246, mid: 1244\n",
      "left: 1242, right: 1244, mid: 1243\n",
      "left: 1242, right: 1243, mid: 1242\n",
      "budget:0.22385846575101215, acc:0.2011, asr:0.0, k:0.39092746123774813, cos:0.22383135557174683\n",
      "left: 0, right: 317706, mid: 158853\n",
      "left: 0, right: 158853, mid: 79426\n",
      "left: 0, right: 79426, mid: 39713\n",
      "left: 0, right: 39713, mid: 19856\n",
      "left: 0, right: 19856, mid: 9928\n",
      "left: 0, right: 9928, mid: 4964\n",
      "left: 0, right: 4964, mid: 2482\n",
      "left: 0, right: 2482, mid: 1241\n",
      "left: 1242, right: 2482, mid: 1862\n",
      "left: 1863, right: 2482, mid: 2172\n",
      "left: 1863, right: 2172, mid: 2017\n",
      "left: 1863, right: 2017, mid: 1940\n",
      "left: 1941, right: 2017, mid: 1979\n",
      "left: 1941, right: 1979, mid: 1960\n",
      "left: 1961, right: 1979, mid: 1970\n",
      "left: 1961, right: 1970, mid: 1965\n",
      "left: 1961, right: 1965, mid: 1963\n",
      "left: 1961, right: 1963, mid: 1962\n",
      "budget:0.2984779543346829, acc:0.2516, asr:0.1, k:0.6175520764480368, cos:0.298287570476532\n",
      "left: 0, right: 317706, mid: 158853\n",
      "left: 0, right: 158853, mid: 79426\n",
      "left: 0, right: 79426, mid: 39713\n",
      "left: 0, right: 39713, mid: 19856\n",
      "left: 0, right: 19856, mid: 9928\n",
      "left: 0, right: 9928, mid: 4964\n",
      "left: 0, right: 4964, mid: 2482\n",
      "left: 2483, right: 4964, mid: 3723\n",
      "left: 3724, right: 4964, mid: 4344\n",
      "left: 4345, right: 4964, mid: 4654\n",
      "left: 4345, right: 4654, mid: 4499\n",
      "left: 4500, right: 4654, mid: 4577\n",
      "left: 4500, right: 4577, mid: 4538\n",
      "left: 4500, right: 4538, mid: 4519\n",
      "left: 4500, right: 4519, mid: 4509\n",
      "left: 4500, right: 4509, mid: 4504\n",
      "left: 4500, right: 4504, mid: 4502\n",
      "left: 4503, right: 4504, mid: 4503\n",
      "budget:0.3730974429183536, acc:0.232, asr:0.921, k:1.4173481142943476, cos:0.37304699420928955\n",
      "left: 0, right: 317706, mid: 158853\n",
      "left: 0, right: 158853, mid: 79426\n",
      "left: 0, right: 79426, mid: 39713\n",
      "left: 0, right: 39713, mid: 19856\n",
      "left: 0, right: 19856, mid: 9928\n",
      "left: 9929, right: 19856, mid: 14892\n",
      "left: 9929, right: 14892, mid: 12410\n",
      "left: 12411, right: 14892, mid: 13651\n",
      "left: 13652, right: 14892, mid: 14272\n",
      "left: 14273, right: 14892, mid: 14582\n",
      "left: 14583, right: 14892, mid: 14737\n",
      "left: 14738, right: 14892, mid: 14815\n",
      "left: 14738, right: 14815, mid: 14776\n",
      "left: 14777, right: 14815, mid: 14796\n",
      "left: 14797, right: 14815, mid: 14806\n",
      "left: 14807, right: 14815, mid: 14811\n",
      "left: 14807, right: 14811, mid: 14809\n",
      "left: 14807, right: 14809, mid: 14808\n",
      "budget:0.4477169315020243, acc:0.2065, asr:0.982, k:4.660912919491605, cos:0.44771432876586914\n",
      "left: 0, right: 317706, mid: 158853\n",
      "left: 0, right: 158853, mid: 79426\n",
      "left: 0, right: 79426, mid: 39713\n",
      "left: 39714, right: 79426, mid: 59570\n",
      "left: 39714, right: 59570, mid: 49642\n",
      "left: 39714, right: 49642, mid: 44678\n",
      "left: 39714, right: 44678, mid: 42196\n",
      "left: 39714, right: 42196, mid: 40955\n",
      "left: 40956, right: 42196, mid: 41576\n",
      "left: 41577, right: 42196, mid: 41886\n",
      "left: 41887, right: 42196, mid: 42041\n",
      "left: 42042, right: 42196, mid: 42119\n",
      "left: 42120, right: 42196, mid: 42158\n",
      "left: 42120, right: 42158, mid: 42139\n",
      "left: 42120, right: 42139, mid: 42129\n",
      "left: 42130, right: 42139, mid: 42134\n",
      "left: 42135, right: 42139, mid: 42137\n",
      "left: 42138, right: 42139, mid: 42138\n",
      "budget:0.522336420085695, acc:0.1984, asr:0.991, k:13.263205605182149, cos:0.522335410118103\n",
      "left: 0, right: 317706, mid: 158853\n",
      "left: 0, right: 158853, mid: 79426\n",
      "left: 79427, right: 158853, mid: 119140\n",
      "left: 79427, right: 119140, mid: 99283\n",
      "left: 99284, right: 119140, mid: 109212\n",
      "left: 99284, right: 109212, mid: 104248\n",
      "left: 104249, right: 109212, mid: 106730\n",
      "left: 104249, right: 106730, mid: 105489\n",
      "left: 105490, right: 106730, mid: 106110\n",
      "left: 106111, right: 106730, mid: 106420\n",
      "left: 106111, right: 106420, mid: 106265\n",
      "left: 106266, right: 106420, mid: 106343\n",
      "left: 106266, right: 106343, mid: 106304\n",
      "left: 106305, right: 106343, mid: 106324\n",
      "left: 106325, right: 106343, mid: 106334\n",
      "left: 106325, right: 106334, mid: 106329\n",
      "left: 106325, right: 106329, mid: 106327\n",
      "left: 106325, right: 106327, mid: 106326\n",
      "left: 106325, right: 106326, mid: 106325\n",
      "budget:0.5969559086693658, acc:0.1946, asr:0.993, k:33.466475294769374, cos:0.5969032943248749\n",
      "left: 0, right: 317706, mid: 158853\n",
      "left: 158854, right: 317706, mid: 238280\n",
      "left: 238281, right: 317706, mid: 277993\n",
      "left: 277994, right: 317706, mid: 297850\n",
      "left: 297851, right: 317706, mid: 307778\n",
      "left: 307779, right: 317706, mid: 312742\n",
      "left: 312743, right: 317706, mid: 315224\n",
      "left: 315225, right: 317706, mid: 316465\n",
      "left: 316466, right: 317706, mid: 317086\n",
      "left: 317087, right: 317706, mid: 317396\n",
      "left: 317397, right: 317706, mid: 317551\n",
      "left: 317552, right: 317706, mid: 317629\n",
      "left: 317630, right: 317706, mid: 317668\n",
      "left: 317669, right: 317706, mid: 317687\n",
      "left: 317688, right: 317706, mid: 317697\n",
      "left: 317698, right: 317706, mid: 317702\n",
      "left: 317703, right: 317706, mid: 317704\n",
      "left: 317705, right: 317706, mid: 317705\n",
      "budget:0.6715753972530365, acc:0.1929, asr:0.995, k:99.99968524358998, cos:0.6715753972530365\n"
     ]
    }
   ],
   "source": [
    "results = []\n",
    "for budget in budget_list:\n",
    "    # craft the new model grad\n",
    "    model3_w, k, cos_ = replace_topk_budget_cos(flat_model1, flat_model2, delta, flat_model0, budget)\n",
    "    \n",
    "    restored_crafted = restore_dict_w(model3_w,  model3.state_dict())\n",
    "    # restore model weights to model\n",
    "    model3.load_state_dict(restored_crafted)\n",
    "    \n",
    "    # evaluate the model3's performance on main task and attack\n",
    "    acc, asr = model_eval(model3, test_loader)\n",
    "    results.append([budget, acc, asr, k, cos_])\n",
    "    print(f\"budget:{budget}, acc:{acc}, asr:{asr}, k:{k}, cos:{cos_}\")"
   ]
  },
  {
   "cell_type": "code",
   "execution_count": 119,
   "metadata": {},
   "outputs": [],
   "source": [
    "def find_differing_indices(a, b):\n",
    "    \"\"\"\n",
    "    Finds the indices where two tensors differ.\n",
    "    \n",
    "    Parameters:\n",
    "    a (torch.Tensor): First tensor.\n",
    "    b (torch.Tensor): Second tensor.\n",
    "    \n",
    "    Returns:\n",
    "    torch.Tensor: Indices where tensors differ.\n",
    "    \"\"\"\n",
    "    if a.shape != b.shape:\n",
    "        raise ValueError(\"Tensors must have the same shape\")\n",
    "    \n",
    "    differing_indices = (a != b).nonzero(as_tuple=True)\n",
    "    return differing_indices"
   ]
  },
  {
   "cell_type": "code",
   "execution_count": 171,
   "metadata": {},
   "outputs": [],
   "source": [
    "results = np.array(results)"
   ]
  },
  {
   "cell_type": "code",
   "execution_count": 161,
   "metadata": {},
   "outputs": [],
   "source": [
    "def plot_line(x, y, title='Line Plot', xlabel='X-axis', ylabel='Y-axis'):\n",
    "    \"\"\"\n",
    "    Plots a line graph given x and y values.\n",
    "    \n",
    "    Parameters:\n",
    "    x (list or array): X-axis values.\n",
    "    y (list or array): Y-axis values.\n",
    "    title (str): Title of the plot.\n",
    "    xlabel (str): Label for the X-axis.\n",
    "    ylabel (str): Label for the Y-axis.\n",
    "    \"\"\"\n",
    "    plt.figure(figsize=(8, 5))\n",
    "    plt.plot(x, y, marker='o', linestyle='-', color='b', label='Line')\n",
    "    plt.xlabel(xlabel)\n",
    "    plt.ylabel(ylabel)\n",
    "    plt.title(title)\n",
    "    plt.legend()\n",
    "    plt.grid(True)\n",
    "    plt.show()"
   ]
  },
  {
   "cell_type": "code",
   "execution_count": 173,
   "metadata": {},
   "outputs": [
    {
     "data": {
      "image/png": "[encoded data removed]",
      "text/plain": [
       "<Figure size 800x500 with 1 Axes>"
      ]
     },
     "metadata": {},
     "output_type": "display_data"
    }
   ],
   "source": [
    "plot_line(results[:,4], results[:,2], title='cos vs. asr', xlabel='cos', ylabel='asr')"
   ]
  },
  {
   "cell_type": "code",
   "execution_count": 166,
   "metadata": {},
   "outputs": [
    {
     "data": {
      "image/png": "[encoded data removed]",
      "text/plain": [
       "<Figure size 800x500 with 1 Axes>"
      ]
     },
     "metadata": {},
     "output_type": "display_data"
    }
   ],
   "source": [
    "plot_line(results[:,3], results[:,1], title='cos vs. acc', xlabel='cos', ylabel='acc')"
   ]
  },
  {
   "cell_type": "code",
   "execution_count": 104,
   "metadata": {},
   "outputs": [
    {
     "data": {
      "image/png": "[encoded data removed]",
      "text/plain": [
       "<Figure size 800x500 with 1 Axes>"
      ]
     },
     "metadata": {},
     "output_type": "display_data"
    }
   ],
   "source": [
    "plot_line(results[:,4], results[:,3], title='cos vs. topk', xlabel='cos', ylabel='k')"
   ]
  },
  {
   "cell_type": "code",
   "execution_count": null,
   "metadata": {},
   "outputs": [],
   "source": []
  }
 ],
 "metadata": {
  "kernelspec": {
   "display_name": "fl39",
   "language": "python",
   "name": "python3"
  },
  "language_info": {
   "codemirror_mode": {
    "name": "ipython",
    "version": 3
   },
   "file_extension": ".py",
   "mimetype": "text/x-python",
   "name": "python",
   "nbconvert_exporter": "python",
   "pygments_lexer": "ipython3",
   "version": "undefined.undefined.undefined"
  }
 },
 "nbformat": 4,
 "nbformat_minor": 2
}
