{
 "cells": [
  {
   "cell_type": "code",
   "execution_count": 67,
   "metadata": {},
   "outputs": [
    {
     "name": "stdout",
     "output_type": "stream",
     "text": [
      "x_new 0 [ 0.  19.   0.1]\n",
      "x_new 0 [ 1.  19.   0.1]\n",
      "x_new 1 [ 0.9 18.   0.1]\n",
      "x_new 1 [ 0.9 19.   0.1]\n",
      "x_new 2 [ 0.9 18.   0. ]\n",
      "x_new 2 [ 0.9 18.   1.1]\n",
      "1.0\n",
      "Step 1: x = [ 0.9 18.   1.1], f(x) = 9.32, delta = 1.0 \n",
      "x_new 0 [ 0.  18.   1.1]\n",
      "x_new 0 [ 1.  18.   1.1]\n",
      "x_new 1 [ 0.9 17.   1.1]\n",
      "x_new 1 [ 0.9 18.   1.1]\n",
      "x_new 2 [ 0.9 17.   0.1]\n",
      "x_new 2 [ 0.9 17.   2.1]\n",
      "1.0\n",
      "Step 2: x = [ 0.9 17.   1.1], f(x) = 4.32, delta = 1.0 \n",
      "x_new 0 [ 0.  17.   1.1]\n",
      "x_new 0 [ 1.  17.   1.1]\n",
      "x_new 1 [ 0.9 16.   1.1]\n",
      "x_new 1 [ 0.9 17.   1.1]\n",
      "x_new 2 [ 0.9 16.   0.1]\n",
      "x_new 2 [ 0.9 16.   2.1]\n",
      "1.0\n",
      "Step 3: x = [ 0.9 16.   1.1], f(x) = 1.32, delta = 1.0 \n",
      "x_new 0 [ 0.  16.   1.1]\n",
      "x_new 0 [ 1.  16.   1.1]\n",
      "x_new 1 [ 0.9 15.   1.1]\n",
      "x_new 1 [ 0.9 16.   1.1]\n",
      "x_new 2 [ 0.9 15.   0.1]\n",
      "x_new 2 [ 0.9 15.   2.1]\n",
      "1.0\n",
      "Step 4: x = [ 0.9 15.   1.1], f(x) = 0.31999999999999995, delta = 1.0 \n",
      "x_new 0 [ 0.  15.   1.1]\n",
      "x_new 0 [ 1.  15.   1.1]\n",
      "x_new 1 [ 0.9 14.   1.1]\n",
      "x_new 1 [ 0.9 16.   1.1]\n",
      "x_new 2 [ 0.9 15.   0.1]\n",
      "x_new 2 [ 0.9 15.   2.1]\n",
      "0.5\n",
      "Step 5: x = [ 0.9 15.   1.1], f(x) = 0.31999999999999995, delta = 0.5 \n",
      "x_new 0 [ 0.4 15.   1.1]\n",
      "x_new 0 [ 0.9 15.   1.1]\n",
      "x_new 1 [ 0.4 14.5  1.1]\n",
      "x_new 1 [ 0.4 15.5  1.1]\n",
      "x_new 2 [ 0.4 15.   0.6]\n",
      "x_new 2 [ 0.4 15.   1.6]\n",
      "0.5\n",
      "Step 6: x = [ 0.4 15.   1.6], f(x) = 0.02000000000000001, delta = 0.5 \n",
      "x_new 0 [ 0.  15.   1.6]\n",
      "x_new 0 [ 0.9 15.   1.6]\n",
      "x_new 1 [ 0.4 14.5  1.6]\n",
      "x_new 1 [ 0.4 15.5  1.6]\n",
      "x_new 2 [ 0.4 15.   1.1]\n",
      "x_new 2 [ 0.4 15.   2.1]\n",
      "0.25\n",
      "Step 7: x = [ 0.4 15.   1.6], f(x) = 0.02000000000000001, delta = 0.25 \n",
      "x_new 0 [ 0.15 15.    1.6 ]\n",
      "x_new 0 [ 0.65 15.    1.6 ]\n",
      "x_new 1 [ 0.4  14.75  1.6 ]\n",
      "x_new 1 [ 0.4  15.25  1.6 ]\n",
      "x_new 2 [ 0.4  15.    1.35]\n",
      "x_new 2 [ 0.4  15.    1.85]\n",
      "0.125\n",
      "Step 8: x = [ 0.4 15.   1.6], f(x) = 0.02000000000000001, delta = 0.125 \n",
      "x_new 0 [ 0.275 15.     1.6  ]\n",
      "x_new 0 [ 0.525 15.     1.6  ]\n",
      "x_new 1 [ 0.525 14.875  1.6  ]\n",
      "x_new 1 [ 0.525 15.125  1.6  ]\n",
      "x_new 2 [ 0.525 15.     1.475]\n",
      "x_new 2 [ 0.525 15.     1.6  ]\n",
      "0.125\n",
      "Step 9: x = [ 0.525 15.     1.475], f(x) = 0.0012499999999999968, delta = 0.125 \n",
      "x_new 0 [ 0.4   15.     1.475]\n",
      "x_new 0 [ 0.65  15.     1.475]\n",
      "x_new 1 [ 0.525 14.875  1.475]\n",
      "x_new 1 [ 0.525 15.125  1.475]\n",
      "x_new 2 [ 0.525 15.     1.35 ]\n",
      "x_new 2 [ 0.525 15.     1.6  ]\n",
      "0.0625\n",
      "Step 10: x = [ 0.525 15.     1.475], f(x) = 0.0012499999999999968, delta = 0.0625 \n",
      "x_new 0 [ 0.4625 15.      1.475 ]\n",
      "x_new 0 [ 0.5875 15.      1.475 ]\n",
      "x_new 1 [ 0.525  14.9375  1.475 ]\n",
      "x_new 1 [ 0.525  15.0625  1.475 ]\n",
      "x_new 2 [ 0.525  15.      1.4125]\n",
      "x_new 2 [ 0.525  15.      1.5375]\n",
      "0.03125\n",
      "Step 11: x = [ 0.525 15.     1.475], f(x) = 0.0012499999999999968, delta = 0.03125 \n",
      "x_new 0 [ 0.49375 15.       1.475  ]\n",
      "x_new 0 [ 0.525 15.     1.475]\n",
      "x_new 1 [ 0.49375 14.96875  1.475  ]\n",
      "x_new 1 [ 0.49375 15.03125  1.475  ]\n",
      "x_new 2 [ 0.49375 15.       1.44375]\n",
      "x_new 2 [ 0.49375 15.       1.50625]\n",
      "0.03125\n",
      "Step 12: x = [ 0.49375 15.       1.50625], f(x) = 7.812500000000083e-05, delta = 0.03125 \n",
      "x_new 0 [ 0.4625  15.       1.50625]\n",
      "x_new 0 [ 0.525   15.       1.50625]\n",
      "x_new 1 [ 0.49375 14.96875  1.50625]\n",
      "x_new 1 [ 0.49375 15.03125  1.50625]\n",
      "x_new 2 [ 0.49375 15.       1.475  ]\n",
      "x_new 2 [ 0.49375 15.       1.5375 ]\n",
      "0.015625\n",
      "Step 13: x = [ 0.49375 15.       1.50625], f(x) = 7.812500000000083e-05, delta = 0.015625 \n",
      "x_new 0 [ 0.478125 15.        1.50625 ]\n",
      "x_new 0 [ 0.509375 15.        1.50625 ]\n",
      "x_new 1 [ 0.49375  14.984375  1.50625 ]\n",
      "x_new 1 [ 0.49375  15.015625  1.50625 ]\n",
      "x_new 2 [ 0.49375  15.        1.490625]\n",
      "x_new 2 [ 0.49375  15.        1.521875]\n",
      "0.0078125\n",
      "Step 14: x = [ 0.49375 15.       1.50625], f(x) = 7.812500000000083e-05, delta = 0.0078125 \n",
      "x_new 0 [ 0.4859375 15.         1.50625  ]\n",
      "x_new 0 [ 0.5015625 15.         1.50625  ]\n",
      "x_new 1 [ 0.5015625 14.9921875  1.50625  ]\n",
      "x_new 1 [ 0.5015625 15.0078125  1.50625  ]\n",
      "x_new 2 [ 0.5015625 15.         1.4984375]\n",
      "x_new 2 [ 0.5015625 15.         1.50625  ]\n",
      "0.0078125\n",
      "Step 15: x = [ 0.5015625 15.         1.4984375], f(x) = 4.882812499999793e-06, delta = 0.0078125 \n",
      "x_new 0 [ 0.49375   15.         1.4984375]\n",
      "x_new 0 [ 0.509375  15.         1.4984375]\n",
      "x_new 1 [ 0.5015625 14.9921875  1.4984375]\n",
      "x_new 1 [ 0.5015625 15.0078125  1.4984375]\n",
      "x_new 2 [ 0.5015625 15.         1.490625 ]\n",
      "x_new 2 [ 0.5015625 15.         1.50625  ]\n",
      "0.00390625\n",
      "Step 16: x = [ 0.5015625 15.         1.4984375], f(x) = 4.882812499999793e-06, delta = 0.00390625 \n",
      "x_new 0 [ 0.49765625 15.          1.4984375 ]\n",
      "x_new 0 [ 0.50546875 15.          1.4984375 ]\n",
      "x_new 1 [ 0.5015625  14.99609375  1.4984375 ]\n",
      "x_new 1 [ 0.5015625  15.00390625  1.4984375 ]\n",
      "x_new 2 [ 0.5015625  15.          1.49453125]\n",
      "x_new 2 [ 0.5015625  15.          1.50234375]\n",
      "0.001953125\n",
      "Step 17: x = [ 0.5015625 15.         1.4984375], f(x) = 4.882812499999793e-06, delta = 0.001953125 \n",
      "x_new 0 [ 0.49960938 15.          1.4984375 ]\n",
      "x_new 0 [ 0.5015625 15.         1.4984375]\n",
      "x_new 1 [ 0.49960938 14.99804688  1.4984375 ]\n",
      "x_new 1 [ 0.49960938 15.00195312  1.4984375 ]\n",
      "x_new 2 [ 0.49960938 15.          1.49648438]\n",
      "x_new 2 [ 0.49960938 15.          1.50039063]\n",
      "0.001953125\n",
      "Step 18: x = [ 0.49960938 15.          1.50039063], f(x) = 3.0517578125005205e-07, delta = 0.001953125 \n",
      "x_new 0 [ 0.49765625 15.          1.50039063]\n",
      "x_new 0 [ 0.5015625  15.          1.50039063]\n",
      "x_new 1 [ 0.49960938 14.99804688  1.50039063]\n",
      "x_new 1 [ 0.49960938 15.00195312  1.50039063]\n",
      "x_new 2 [ 0.49960938 15.          1.4984375 ]\n",
      "x_new 2 [ 0.49960938 15.          1.50234375]\n",
      "0.0009765625\n",
      "Step 19: x = [ 0.49960938 15.          1.50039063], f(x) = 3.0517578125005205e-07, delta = 0.0009765625 \n",
      "x_new 0 [ 0.49863281 15.          1.50039063]\n",
      "x_new 0 [ 0.50058594 15.          1.50039063]\n",
      "x_new 1 [ 0.49960938 14.99902344  1.50039063]\n",
      "x_new 1 [ 0.49960938 15.00097656  1.50039063]\n",
      "x_new 2 [ 0.49960938 15.          1.49941406]\n",
      "x_new 2 [ 0.49960938 15.          1.50136719]\n",
      "0.00048828125\n",
      "Step 20: x = [ 0.49960938 15.          1.50039063], f(x) = 3.0517578125005205e-07, delta = 0.00048828125 \n",
      "x_new 0 [ 0.49912109 15.          1.50039063]\n",
      "x_new 0 [ 0.50009766 15.          1.50039063]\n",
      "x_new 1 [ 0.50009766 14.99951172  1.50039063]\n",
      "x_new 1 [ 0.50009766 15.00048828  1.50039063]\n",
      "x_new 2 [ 0.50009766 15.          1.49990234]\n",
      "x_new 2 [ 0.50009766 15.          1.50039063]\n",
      "0.00048828125\n",
      "Step 21: x = [ 0.50009766 15.          1.49990234], f(x) = 1.9073486328111987e-08, delta = 0.00048828125 \n",
      "x_new 0 [ 0.49960938 15.          1.49990234]\n",
      "x_new 0 [ 0.50058594 15.          1.49990234]\n",
      "x_new 1 [ 0.50009766 14.99951172  1.49990234]\n",
      "x_new 1 [ 0.50009766 15.00048828  1.49990234]\n",
      "x_new 2 [ 0.50009766 15.          1.49941406]\n",
      "x_new 2 [ 0.50009766 15.          1.50039063]\n",
      "0.000244140625\n",
      "Step 22: x = [ 0.50009766 15.          1.49990234], f(x) = 1.9073486328111987e-08, delta = 0.000244140625 \n",
      "x_new 0 [ 0.49985352 15.          1.49990234]\n",
      "x_new 0 [ 0.5003418  15.          1.49990234]\n",
      "x_new 1 [ 0.50009766 14.99975586  1.49990234]\n",
      "x_new 1 [ 0.50009766 15.00024414  1.49990234]\n",
      "x_new 2 [ 0.50009766 15.          1.4996582 ]\n",
      "x_new 2 [ 0.50009766 15.          1.50014648]\n",
      "0.0001220703125\n",
      "Step 23: x = [ 0.50009766 15.          1.49990234], f(x) = 1.9073486328111987e-08, delta = 0.0001220703125 \n",
      "x_new 0 [ 0.49997559 15.          1.49990234]\n",
      "x_new 0 [ 0.50009766 15.          1.49990234]\n",
      "x_new 1 [ 0.49997559 14.99987793  1.49990234]\n",
      "x_new 1 [ 0.49997559 15.00012207  1.49990234]\n",
      "x_new 2 [ 0.49997559 15.          1.49978027]\n",
      "x_new 2 [ 0.49997559 15.          1.50002441]\n",
      "0.0001220703125\n",
      "Step 24: x = [ 0.49997559 15.          1.50002441], f(x) = 1.1920928955110652e-09, delta = 0.0001220703125 \n",
      "x_new 0 [ 0.49985352 15.          1.50002441]\n",
      "x_new 0 [ 0.50009766 15.          1.50002441]\n",
      "x_new 1 [ 0.49997559 14.99987793  1.50002441]\n",
      "x_new 1 [ 0.49997559 15.00012207  1.50002441]\n",
      "x_new 2 [ 0.49997559 15.          1.49990234]\n",
      "x_new 2 [ 0.49997559 15.          1.50014648]\n",
      "6.103515625e-05\n",
      "Step 25: x = [ 0.49997559 15.          1.50002441], f(x) = 1.1920928955110652e-09, delta = 6.103515625e-05 \n",
      "x_new 0 [ 0.49991455 15.          1.50002441]\n",
      "x_new 0 [ 0.50003662 15.          1.50002441]\n",
      "x_new 1 [ 0.49997559 14.99993896  1.50002441]\n",
      "x_new 1 [ 0.49997559 15.00006104  1.50002441]\n",
      "x_new 2 [ 0.49997559 15.          1.49996338]\n",
      "x_new 2 [ 0.49997559 15.          1.50008545]\n",
      "3.0517578125e-05\n",
      "Step 26: x = [ 0.49997559 15.          1.50002441], f(x) = 1.1920928955110652e-09, delta = 3.0517578125e-05 \n",
      "x_new 0 [ 0.49994507 15.          1.50002441]\n",
      "x_new 0 [ 0.5000061  15.          1.50002441]\n",
      "x_new 1 [ 0.5000061  14.99996948  1.50002441]\n",
      "x_new 1 [ 0.5000061  15.00003052  1.50002441]\n",
      "x_new 2 [ 0.5000061 15.         1.4999939]\n",
      "x_new 2 [ 0.5000061  15.          1.50002441]\n",
      "3.0517578125e-05\n",
      "Step 27: x = [ 0.5000061 15.         1.4999939], f(x) = 7.450580596842513e-11, delta = 3.0517578125e-05 \n",
      "x_new 0 [ 0.49997559 15.          1.4999939 ]\n",
      "x_new 0 [ 0.50003662 15.          1.4999939 ]\n",
      "x_new 1 [ 0.5000061  14.99996948  1.4999939 ]\n",
      "x_new 1 [ 0.5000061  15.00003052  1.4999939 ]\n",
      "x_new 2 [ 0.5000061  15.          1.49996338]\n",
      "x_new 2 [ 0.5000061  15.          1.50002441]\n",
      "1.52587890625e-05\n",
      "Step 28: x = [ 0.5000061 15.         1.4999939], f(x) = 7.450580596842513e-11, delta = 1.52587890625e-05 \n",
      "x_new 0 [ 0.49999084 15.          1.4999939 ]\n",
      "x_new 0 [ 0.50002136 15.          1.4999939 ]\n",
      "x_new 1 [ 0.5000061  14.99998474  1.4999939 ]\n",
      "x_new 1 [ 0.5000061  15.00001526  1.4999939 ]\n",
      "x_new 2 [ 0.5000061  15.          1.49997864]\n",
      "x_new 2 [ 0.5000061  15.          1.50000916]\n",
      "7.62939453125e-06\n",
      "Step 29: x = [ 0.5000061 15.         1.4999939], f(x) = 7.450580596842513e-11, delta = 7.62939453125e-06 \n",
      "x_new 0 [ 0.49999847 15.          1.4999939 ]\n",
      "x_new 0 [ 0.5000061 15.         1.4999939]\n",
      "x_new 1 [ 0.49999847 14.99999237  1.4999939 ]\n",
      "x_new 1 [ 0.49999847 15.00000763  1.4999939 ]\n",
      "x_new 2 [ 0.49999847 15.          1.49998627]\n",
      "x_new 2 [ 0.49999847 15.          1.50000153]\n",
      "7.62939453125e-06\n",
      "Step 30: x = [ 0.49999847 15.          1.50000153], f(x) = 4.656612873280681e-12, delta = 7.62939453125e-06 \n",
      "x_new 0 [ 0.49999084 15.          1.50000153]\n",
      "x_new 0 [ 0.5000061  15.          1.50000153]\n",
      "x_new 1 [ 0.49999847 14.99999237  1.50000153]\n",
      "x_new 1 [ 0.49999847 15.00000763  1.50000153]\n",
      "x_new 2 [ 0.49999847 15.          1.4999939 ]\n",
      "x_new 2 [ 0.49999847 15.          1.50000916]\n",
      "3.814697265625e-06\n",
      "Step 31: x = [ 0.49999847 15.          1.50000153], f(x) = 4.656612873280681e-12, delta = 3.814697265625e-06 \n",
      "x_new 0 [ 0.49999466 15.          1.50000153]\n",
      "x_new 0 [ 0.50000229 15.          1.50000153]\n",
      "x_new 1 [ 0.49999847 14.99999619  1.50000153]\n",
      "x_new 1 [ 0.49999847 15.00000381  1.50000153]\n",
      "x_new 2 [ 0.49999847 15.          1.49999771]\n",
      "x_new 2 [ 0.49999847 15.          1.50000534]\n",
      "1.9073486328125e-06\n",
      "Step 32: x = [ 0.49999847 15.          1.50000153], f(x) = 4.656612873280681e-12, delta = 1.9073486328125e-06 \n",
      "x_new 0 [ 0.49999657 15.          1.50000153]\n",
      "x_new 0 [ 0.50000038 15.          1.50000153]\n",
      "x_new 1 [ 0.50000038 14.99999809  1.50000153]\n",
      "x_new 1 [ 0.50000038 15.00000191  1.50000153]\n",
      "x_new 2 [ 0.50000038 15.          1.49999962]\n",
      "x_new 2 [ 0.50000038 15.          1.50000153]\n",
      "1.9073486328125e-06\n",
      "Step 33: x = [ 0.50000038 15.          1.49999962], f(x) = 2.9103830451651506e-13, delta = 1.9073486328125e-06 \n",
      "x_new 0 [ 0.49999847 15.          1.49999962]\n",
      "x_new 0 [ 0.50000229 15.          1.49999962]\n",
      "x_new 1 [ 0.50000038 14.99999809  1.49999962]\n",
      "x_new 1 [ 0.50000038 15.00000191  1.49999962]\n",
      "x_new 2 [ 0.50000038 15.          1.49999771]\n",
      "x_new 2 [ 0.50000038 15.          1.50000153]\n",
      "9.5367431640625e-07\n",
      "Step 34: x = [ 0.50000038 15.          1.49999962], f(x) = 2.9103830451651506e-13, delta = 9.5367431640625e-07 \n"
     ]
    }
   ],
   "source": [
    "import numpy as np\n",
    "\n",
    "def objective(x):\n",
    "    a, b, c = x\n",
    "    return (a - 0.5)**2 + (b - 15)**2 + (c - 1.5)**2  # Example function\n",
    "\n",
    "# Bounds for each variable\n",
    "bounds = np.array([[0, 1], [10, 20], [0, 3]])\n",
    "\n",
    "# Initial guess\n",
    "x0 = np.array([0.9, 19, 0.1])\n",
    "\n",
    "def mads(func, x0, bounds, delta=1.0, tol=1e-6, max_iter=100):\n",
    "    \"\"\" Mesh Adaptive Direct Search (MADS) implementation. \"\"\"\n",
    "    n = len(x0)\n",
    "    x = x0.copy()\n",
    "    delta_min = tol\n",
    "    iteration = 0\n",
    "    \n",
    "    while delta > delta_min and iteration < max_iter:\n",
    "        improved = False\n",
    "        \n",
    "        # Generate trial points\n",
    "        for i in range(n):\n",
    "            for direction in [-1, 1]:\n",
    "                x_new = x.copy()\n",
    "                x_new[i] += direction * delta\n",
    "                x_new = np.clip(x_new, bounds[:, 0], bounds[:, 1])  # Enforce bounds\n",
    "                print(\"x_new\", i, x_new)\n",
    "                if func(x_new) < func(x):\n",
    "                    x = x_new\n",
    "                    # delta *=2.0\n",
    "                    improved = True\n",
    "        \n",
    "        # Reduce mesh size if no improvement\n",
    "        if not improved:\n",
    "            delta /= 2.0\n",
    "        print(delta)\n",
    "        iteration += 1\n",
    "        yield x, func(x), iteration, delta\n",
    "\n",
    "# Run MADS optimization\n",
    "mads_iter = mads(objective, x0, bounds)\n",
    "for x, fval, step, delta in mads_iter:\n",
    "    print(f\"Step {step}: x = {x}, f(x) = {fval}, delta = {delta} \")"
   ]
  },
  {
   "cell_type": "code",
   "execution_count": 73,
   "metadata": {},
   "outputs": [
    {
     "data": {
      "text/plain": [
       "18.12"
      ]
     },
     "execution_count": 73,
     "metadata": {},
     "output_type": "execute_result"
    }
   ],
   "source": [
    "objective([ 0.9, 19.,   0.1])"
   ]
  },
  {
   "cell_type": "code",
   "execution_count": 70,
   "metadata": {},
   "outputs": [
    {
     "data": {
      "text/plain": [
       "16.32"
      ]
     },
     "execution_count": 70,
     "metadata": {},
     "output_type": "execute_result"
    }
   ],
   "source": [
    "objective([ 0.9, 19. ,  1.1])"
   ]
  },
  {
   "cell_type": "code",
   "execution_count": null,
   "metadata": {},
   "outputs": [],
   "source": [
    "class MADS:\n",
    "    def __init__(self, x0, bounds, delta=1.0, tol=1e-6, max_iter=100):\n",
    "        self.x = np.array(x0)\n",
    "        self.bounds = np.array(bounds)\n",
    "        self.delta = delta\n",
    "        self.delta_min = tol\n",
    "        self.max_iter = max_iter\n",
    "        self.iteration = 0\n",
    "        self.history = [(self.x.copy(), float('inf'))]  # Store initial point\n",
    "        self.waiting_for_reward = False\n",
    "        self.last_trial = None\n",
    "    \n",
    "    def step(self, reward=None):\n",
    "        \"\"\" Perform one step of MADS. Provide reward when available. \"\"\"\n",
    "        if self.waiting_for_reward:\n",
    "            if reward is None:\n",
    "                raise ValueError(\"Reward must be provided for the last trial step.\")\n",
    "            \n",
    "            # Accept the trial point if the reward is better\n",
    "            if reward < self.history[-1][1]:\n",
    "                self.x = self.last_trial\n",
    "            self.history.append((self.x.copy(), reward))\n",
    "            self.waiting_for_reward = False\n",
    "            \n",
    "        if self.delta <= self.delta_min or self.iteration >= self.max_iter:\n",
    "            return None  # Termination condition\n",
    "        \n",
    "        improved = False\n",
    "        trial_points = []\n",
    "        \n",
    "        for i in range(len(self.x)):\n",
    "            for direction in [-1, 1]:\n",
    "                x_new = self.x.copy()\n",
    "                x_new[i] += direction * self.delta\n",
    "                x_new = np.clip(x_new, self.bounds[:, 0], self.bounds[:, 1])\n",
    "                trial_points.append(x_new)\n",
    "        \n",
    "        self.last_trial = trial_points.pop(0)  # Pick the first trial point\n",
    "        self.waiting_for_reward = True\n",
    "        self.iteration += 1\n",
    "        return self.last_trial"
   ]
  },
  {
   "cell_type": "code",
   "execution_count": 1,
   "metadata": {},
   "outputs": [],
   "source": [
    "import numpy as np\n",
    "\n",
    "class MADS:\n",
    "    def __init__(self, x0, bounds, delta=1.0, tol=1e-6, max_iter=100):\n",
    "        self.x = np.array(x0)\n",
    "        self.bounds = np.array(bounds)\n",
    "        self.delta = delta\n",
    "        self.delta_min = tol\n",
    "        self.max_iter = max_iter\n",
    "        self.iteration = 0\n",
    "        self.history = []\n",
    "        self.waiting_for_reward = False\n",
    "        self.last_trial = None\n",
    "    \n",
    "    def step(self, reward=None):\n",
    "        \"\"\" Perform one step of MADS. Provide reward when available. \"\"\"\n",
    "        if self.waiting_for_reward:\n",
    "            if reward is None:\n",
    "                raise ValueError(\"Reward must be provided for the last trial step.\")\n",
    "            \n",
    "            print(f\"Step {self.iteration}: Received reward = {reward}\")\n",
    "            \n",
    "            # Accept the trial point if the reward is better\n",
    "            if reward < self.history[-1][1]:\n",
    "                self.x = self.last_trial\n",
    "            self.waiting_for_reward = False\n",
    "            \n",
    "        if self.delta <= self.delta_min or self.iteration >= self.max_iter:\n",
    "            print(f\"Final solution: x = {self.x}, f(x) = {reward}\")\n",
    "            return None  # Termination condition\n",
    "        \n",
    "        improved = False\n",
    "        trial_points = []\n",
    "        \n",
    "        for i in range(len(self.x)):\n",
    "            for direction in [-1, 1]:\n",
    "                x_new = self.x.copy()\n",
    "                x_new[i] += direction * self.delta\n",
    "                x_new = np.clip(x_new, self.bounds[:, 0], self.bounds[:, 1])\n",
    "                trial_points.append(x_new)\n",
    "        \n",
    "        self.last_trial = trial_points.pop(0)  # Pick the first trial point\n",
    "        self.history.append((self.x.copy(), float('inf')))  # Placeholder reward\n",
    "        self.waiting_for_reward = True\n",
    "        self.iteration += 1\n",
    "        \n",
    "        print(f\"Step {self.iteration}: Testing x = {self.last_trial}\")\n",
    "        return self.last_trial\n",
    "\n",
    "# Example usage:\n",
    "bounds = [(0, 1), (10, 20), (0, 3)]\n",
    "x0 = [0.8, 12, 1]\n",
    "mads = MADS(x0, bounds)\n",
    "x_next = x0\n"
   ]
  },
  {
   "cell_type": "code",
   "execution_count": 2,
   "metadata": {},
   "outputs": [],
   "source": [
    "def obj_func(x_next):\n",
    "    return (x_next[0] - 0.5)**2 + (x_next[1] - 15)**2 + (x_next[2] - 1.5)**2"
   ]
  },
  {
   "cell_type": "code",
   "execution_count": null,
   "metadata": {},
   "outputs": [
    {
     "name": "stdout",
     "output_type": "stream",
     "text": [
      "Step 1: Testing x = [ 0. 12.  1.]\n"
     ]
    },
    {
     "data": {
      "text/plain": [
       "array([ 0., 12.,  1.])"
      ]
     },
     "execution_count": 3,
     "metadata": {},
     "output_type": "execute_result"
    }
   ],
   "source": [
    "mads.step(obj_func(x0))"
   ]
  },
  {
   "cell_type": "code",
   "execution_count": 4,
   "metadata": {},
   "outputs": [
    {
     "data": {
      "text/plain": [
       "True"
      ]
     },
     "execution_count": 4,
     "metadata": {},
     "output_type": "execute_result"
    }
   ],
   "source": [
    "mads.waiting_for_reward"
   ]
  },
  {
   "cell_type": "code",
   "execution_count": 12,
   "metadata": {},
   "outputs": [
    {
     "name": "stdout",
     "output_type": "stream",
     "text": [
      "candidates [array([31.,  3.,  3.]), array([30.,  4.,  3.]), array([30.,  3.,  4.]), array([29.,  3.,  3.]), array([30.,  2.,  3.]), array([30.,  3.,  2.])]\n",
      "Iteration 0: Best solution [29.  3.  3.]\n",
      "candidates [array([31.,  3.,  3.]), array([29.,  5.,  3.]), array([29.,  3.,  5.]), array([27.,  3.,  3.]), array([29.,  1.,  3.]), array([29.,  3.,  1.])]\n",
      "Iteration 1: Best solution [27.  3.  3.]\n",
      "candidates [array([31.,  3.,  3.]), array([27.,  5.,  3.]), array([27.,  3.,  5.]), array([23.,  3.,  3.]), array([27., -1.,  3.]), array([27.,  3., -1.])]\n",
      "Iteration 2: Best solution [23.  3.  3.]\n",
      "candidates [array([31.,  3.,  3.]), array([23.,  5.,  3.]), array([23.,  3.,  5.]), array([15.,  3.,  3.]), array([23., -5.,  3.]), array([23.,  3., -5.])]\n",
      "Iteration 3: Best solution [15.  3.  3.]\n",
      "candidates [array([31.,  3.,  3.]), array([15.,  5.,  3.]), array([15.,  3.,  5.]), array([-1.,  3.,  3.]), array([15., -5.,  3.]), array([15.,  3., -5.])]\n",
      "Iteration 4: Best solution [-1.  3.  3.]\n",
      "candidates [array([31.,  3.,  3.]), array([-1.,  5.,  3.]), array([-1.,  3.,  5.]), array([-33.,   3.,   3.]), array([-1., -5.,  3.]), array([-1.,  3., -5.])]\n",
      "Iteration 5: Best solution [-1.  3.  3.]\n",
      "candidates [array([15.,  3.,  3.]), array([-1.,  5.,  3.]), array([-1.,  3.,  5.]), array([-17.,   3.,   3.]), array([-1., -5.,  3.]), array([-1.,  3., -5.])]\n",
      "Iteration 6: Best solution [-1.  3.  3.]\n",
      "candidates [array([7., 3., 3.]), array([-1.,  5.,  3.]), array([-1.,  3.,  5.]), array([-9.,  3.,  3.]), array([-1., -5.,  3.]), array([-1.,  3., -5.])]\n",
      "Iteration 7: Best solution [-1.  3.  3.]\n",
      "candidates [array([3., 3., 3.]), array([-1.,  5.,  3.]), array([-1.,  3.,  5.]), array([-5.,  3.,  3.]), array([-1., -1.,  3.]), array([-1.,  3., -1.])]\n",
      "Iteration 8: Best solution [-1. -1.  3.]\n",
      "candidates [array([ 7., -1.,  3.]), array([-1.,  5.,  3.]), array([-1., -1.,  5.]), array([-9., -1.,  3.]), array([-1., -5.,  3.]), array([-1., -1., -5.])]\n",
      "Iteration 9: Best solution [-1. -1.  3.]\n",
      "candidates [array([ 3., -1.,  3.]), array([-1.,  3.,  3.]), array([-1., -1.,  5.]), array([-5., -1.,  3.]), array([-1., -5.,  3.]), array([-1., -1., -1.])]\n",
      "Iteration 10: Best solution [-1. -1. -1.]\n",
      "candidates [array([ 7., -1., -1.]), array([-1.,  5., -1.]), array([-1., -1.,  5.]), array([-9., -1., -1.]), array([-1., -5., -1.]), array([-1., -1., -5.])]\n",
      "Iteration 11: Best solution [-1. -1. -1.]\n",
      "candidates [array([ 3., -1., -1.]), array([-1.,  3., -1.]), array([-1., -1.,  3.]), array([-5., -1., -1.]), array([-1., -5., -1.]), array([-1., -1., -5.])]\n",
      "Iteration 12: Best solution [-1. -1. -1.]\n",
      "candidates [array([ 1., -1., -1.]), array([-1.,  1., -1.]), array([-1., -1.,  1.]), array([-3., -1., -1.]), array([-1., -3., -1.]), array([-1., -1., -3.])]\n",
      "Iteration 13: Best solution [-1. -1. -1.]\n",
      "candidates [array([ 0., -1., -1.]), array([-1.,  0., -1.]), array([-1., -1.,  0.]), array([-2., -1., -1.]), array([-1., -2., -1.]), array([-1., -1., -2.])]\n",
      "Iteration 14: Best solution [ 0. -1. -1.]\n"
     ]
    }
   ],
   "source": [
    "import numpy as np\n",
    "\n",
    "class StepwiseMADS:\n",
    "    def __init__(self, x0, bounds, delta0=1.0, delta_min=1e-3, alpha=2.0, gamma=0.5):\n",
    "        self.x = np.array(x0)\n",
    "        self.bounds = np.array(bounds)\n",
    "        self.delta = delta0\n",
    "        self.delta_min = delta_min\n",
    "        self.alpha = alpha\n",
    "        self.gamma = gamma\n",
    "        self.mesh_size = delta0\n",
    "        self.iteration = 0\n",
    "        self.pending_eval = None\n",
    "    \n",
    "    def get_next_candidate(self):\n",
    "        if self.pending_eval is not None:\n",
    "            raise RuntimeError(\"Previous evaluation result is still pending.\")\n",
    "        \n",
    "        directions = np.eye(len(self.x))\n",
    "        candidates = [self.x + self.mesh_size * d for d in directions] + [self.x - self.mesh_size * d for d in directions]\n",
    "        \n",
    "        candidates = [np.clip(c, self.bounds[:, 0], self.bounds[:, 1]) for c in candidates]\n",
    "        self.pending_eval = candidates\n",
    "        return candidates\n",
    "    \n",
    "    def update_with_result(self, evaluations):\n",
    "        if self.pending_eval is None:\n",
    "            raise RuntimeError(\"No pending evaluations to update with.\")\n",
    "        \n",
    "        best_idx = np.argmin(evaluations)\n",
    "        best_candidate = self.pending_eval[best_idx]\n",
    "        best_value = evaluations[best_idx]\n",
    "        \n",
    "        if best_value < self.evaluate(self.x):\n",
    "            self.x = best_candidate\n",
    "            self.mesh_size *= self.alpha\n",
    "        else:\n",
    "            self.mesh_size *= self.gamma\n",
    "        \n",
    "        self.mesh_size = max(self.mesh_size, self.delta_min)\n",
    "        self.pending_eval = None\n",
    "        self.iteration += 1\n",
    "    \n",
    "    def evaluate(self, x):\n",
    "        return np.sum(x**2)  # Example: minimizing distance from origin\n",
    "    \n",
    "    def get_current_solution(self):\n",
    "        return self.x\n",
    "\n",
    "# Example Usage\n",
    "bounds = np.array([[-50, 50], [-5, 5], [-5, 5]])\n",
    "mads = StepwiseMADS(x0=[30, 3, 3], bounds=bounds)\n",
    "\n",
    "for _ in range(15):  # Run for a few iterations\n",
    "    candidates = mads.get_next_candidate()\n",
    "    print(\"candidates\", candidates)\n",
    "    evaluations = [np.sum(c**2) for c in candidates]  # Simulated evaluation\n",
    "    mads.update_with_result(evaluations)\n",
    "    print(f\"Iteration {_}: Best solution {mads.get_current_solution()}\")\n"
   ]
  },
  {
   "cell_type": "code",
   "execution_count": 16,
   "metadata": {},
   "outputs": [
    {
     "name": "stdout",
     "output_type": "stream",
     "text": [
      " Evaluation of the starting points\n",
      "End of the evaluation of the starting points\n",
      "Success: fmin = [2265.25] (hmin = 9.99999999999999941e-37)\n",
      "Success: fmin = [904.0] (hmin = 9.99999999999999941e-37)\n",
      "\"iteration=  1, bbeval=  5, psize=  [2.0, 2.0], hmin =  1e-36, status:  FEASIBLE , fmin =  [904.0]\n",
      "Success: fmin = [29.0] (hmin = 9.99999999999999941e-37)\n",
      "\"iteration=  2, bbeval=  9, psize=  [4.0, 4.0], hmin =  1e-36, status:  FEASIBLE , fmin =  [29.0]\n",
      "\"iteration=  3, bbeval=  13, psize=  [2.0, 2.0], hmin =  1e-36, status:  FEASIBLE , fmin =  [29.0]\n",
      "Success: fmin = [25.0] (hmin = 9.99999999999999941e-37)\n",
      "\"iteration=  4, bbeval=  17, psize=  [4.0, 4.0], hmin =  1e-36, status:  FEASIBLE , fmin =  [25.0]\n",
      "\"iteration=  5, bbeval=  21, psize=  [2.0, 2.0], hmin =  1e-36, status:  FEASIBLE , fmin =  [25.0]\n",
      "\"iteration=  6, bbeval=  25, psize=  [1.0, 1.0], hmin =  1e-36, status:  FEASIBLE , fmin =  [25.0]\n",
      "\"iteration=  7, bbeval=  29, psize=  [0.5, 0.5], hmin =  1e-36, status:  FEASIBLE , fmin =  [25.0]\n",
      "Success: fmin = [6.5] (hmin = 9.99999999999999941e-37)\n",
      "Success: fmin = [1.5625] (hmin = 9.99999999999999941e-37)\n",
      "\"iteration=  8, bbeval=  33, psize=  [1.0, 1.0], hmin =  1e-36, status:  FEASIBLE , fmin =  [1.5625]\n",
      "\"iteration=  9, bbeval=  37, psize=  [0.5, 0.5], hmin =  1e-36, status:  FEASIBLE , fmin =  [1.5625]\n",
      "\"iteration=  10, bbeval=  41, psize=  [0.25, 0.25], hmin =  1e-36, status:  FEASIBLE , fmin =  [1.5625]\n",
      "\"iteration=  11, bbeval=  45, psize=  [0.125, 0.125], hmin =  1e-36, status:  FEASIBLE , fmin =  [1.5625]\n",
      "Success: fmin = [0.09765625] (hmin = 9.99999999999999941e-37)\n",
      "\"iteration=  12, bbeval=  49, psize=  [0.25, 0.25], hmin =  1e-36, status:  FEASIBLE , fmin =  [0.09765625]\n",
      "\"iteration=  13, bbeval=  53, psize=  [0.125, 0.125], hmin =  1e-36, status:  FEASIBLE , fmin =  [0.09765625]\n",
      "\"iteration=  14, bbeval=  57, psize=  [0.0625, 0.0625], hmin =  1e-36, status:  FEASIBLE , fmin =  [0.09765625]\n",
      "\"iteration=  15, bbeval=  61, psize=  [0.03125, 0.03125], hmin =  1e-36, status:  FEASIBLE , fmin =  [0.09765625]\n",
      "Success: fmin = [0.092624664306640625] (hmin = 9.99999999999999941e-37)\n",
      "Success: fmin = [0.006103515625] (hmin = 9.99999999999999941e-37)\n",
      "\"iteration=  16, bbeval=  65, psize=  [0.0625, 0.0625], hmin =  1e-36, status:  FEASIBLE , fmin =  [0.006103515625]\n",
      "\"iteration=  17, bbeval=  69, psize=  [0.03125, 0.03125], hmin =  1e-36, status:  FEASIBLE , fmin =  [0.006103515625]\n",
      "\"iteration=  18, bbeval=  73, psize=  [0.015625, 0.015625], hmin =  1e-36, status:  FEASIBLE , fmin =  [0.006103515625]\n",
      "\"iteration=  19, bbeval=  77, psize=  [0.0078125, 0.0078125], hmin =  1e-36, status:  FEASIBLE , fmin =  [0.006103515625]\n",
      "Success: fmin = [0.0003814697265625] (hmin = 9.99999999999999941e-37)\n",
      "\"iteration=  20, bbeval=  81, psize=  [0.015625, 0.015625], hmin =  1e-36, status:  FEASIBLE , fmin =  [0.0003814697265625]\n",
      "\"iteration=  21, bbeval=  85, psize=  [0.0078125, 0.0078125], hmin =  1e-36, status:  FEASIBLE , fmin =  [0.0003814697265625]\n",
      "\"iteration=  22, bbeval=  89, psize=  [0.00390625, 0.00390625], hmin =  1e-36, status:  FEASIBLE , fmin =  [0.0003814697265625]\n",
      "\"iteration=  23, bbeval=  93, psize=  [0.001953125, 0.001953125], hmin =  1e-36, status:  FEASIBLE , fmin =  [0.0003814697265625]\n",
      "Success: fmin = [2.384185791015625e-05] (hmin = 9.99999999999999941e-37)\n",
      "\"iteration=  24, bbeval=  97, psize=  [0.00390625, 0.00390625], hmin =  1e-36, status:  FEASIBLE , fmin =  [2.384185791015625e-05]\n",
      "\"iteration=  25, bbeval=  101, psize=  [0.001953125, 0.001953125], hmin =  1e-36, status:  FEASIBLE , fmin =  [2.384185791015625e-05]\n",
      "\"iteration=  26, bbeval=  105, psize=  [0.0009765625, 0.0009765625], hmin =  1e-36, status:  FEASIBLE , fmin =  [2.384185791015625e-05]\n",
      "\"iteration=  27, bbeval=  109, psize=  [0.00048828125, 0.00048828125], hmin =  1e-36, status:  FEASIBLE , fmin =  [2.384185791015625e-05]\n",
      "Success: fmin = [1.490116119384765625e-06] (hmin = 9.99999999999999941e-37)\n",
      "\"iteration=  28, bbeval=  113, psize=  [0.0009765625, 0.0009765625], hmin =  1e-36, status:  FEASIBLE , fmin =  [1.490116119384765625e-06]\n",
      "\"iteration=  29, bbeval=  117, psize=  [0.00048828125, 0.00048828125], hmin =  1e-36, status:  FEASIBLE , fmin =  [1.490116119384765625e-06]\n",
      "\"iteration=  30, bbeval=  121, psize=  [0.000244140625, 0.000244140625], hmin =  1e-36, status:  FEASIBLE , fmin =  [1.490116119384765625e-06]\n",
      "\"iteration=  31, bbeval=  125, psize=  [0.0001220703125, 0.0001220703125], hmin =  1e-36, status:  FEASIBLE , fmin =  [1.490116119384765625e-06]\n",
      "Success: fmin = [9.313225746154785156e-08] (hmin = 9.99999999999999941e-37)\n",
      "\"iteration=  32, bbeval=  129, psize=  [0.000244140625, 0.000244140625], hmin =  1e-36, status:  FEASIBLE , fmin =  [9.313225746154785156e-08]\n",
      "\"iteration=  33, bbeval=  133, psize=  [0.0001220703125, 0.0001220703125], hmin =  1e-36, status:  FEASIBLE , fmin =  [9.313225746154785156e-08]\n",
      "\"iteration=  34, bbeval=  137, psize=  [6.103515625e-05, 6.103515625e-05], hmin =  1e-36, status:  FEASIBLE , fmin =  [9.313225746154785156e-08]\n",
      "\"iteration=  35, bbeval=  141, psize=  [3.0517578125e-05, 3.0517578125e-05], hmin =  1e-36, status:  FEASIBLE , fmin =  [9.313225746154785156e-08]\n",
      "Success: fmin = [5.8207660913467407227e-09] (hmin = 9.99999999999999941e-37)\n",
      "\"iteration=  36, bbeval=  145, psize=  [6.103515625e-05, 6.103515625e-05], hmin =  1e-36, status:  FEASIBLE , fmin =  [5.8207660913467407227e-09]\n",
      "\"iteration=  37, bbeval=  149, psize=  [3.0517578125e-05, 3.0517578125e-05], hmin =  1e-36, status:  FEASIBLE , fmin =  [5.8207660913467407227e-09]\n",
      "\"iteration=  38, bbeval=  153, psize=  [1.52587890625e-05, 1.52587890625e-05], hmin =  1e-36, status:  FEASIBLE , fmin =  [5.8207660913467407227e-09]\n",
      "\"iteration=  39, bbeval=  157, psize=  [7.62939453125e-06, 7.62939453125e-06], hmin =  1e-36, status:  FEASIBLE , fmin =  [5.8207660913467407227e-09]\n",
      "Success: fmin = [3.6379788070917129517e-10] (hmin = 9.99999999999999941e-37)\n",
      "\"iteration=  40, bbeval=  161, psize=  [1.52587890625e-05, 1.52587890625e-05], hmin =  1e-36, status:  FEASIBLE , fmin =  [3.6379788070917129517e-10]\n",
      "\"iteration=  41, bbeval=  165, psize=  [7.62939453125e-06, 7.62939453125e-06], hmin =  1e-36, status:  FEASIBLE , fmin =  [3.6379788070917129517e-10]\n",
      "\"iteration=  42, bbeval=  169, psize=  [3.814697265625e-06, 3.814697265625e-06], hmin =  1e-36, status:  FEASIBLE , fmin =  [3.6379788070917129517e-10]\n",
      "\"iteration=  43, bbeval=  173, psize=  [1.9073486328125e-06, 1.9073486328125e-06], hmin =  1e-36, status:  FEASIBLE , fmin =  [3.6379788070917129517e-10]\n",
      "Success: fmin = [2.2737367544323205948e-11] (hmin = 9.99999999999999941e-37)\n",
      "\"iteration=  44, bbeval=  177, psize=  [3.814697265625e-06, 3.814697265625e-06], hmin =  1e-36, status:  FEASIBLE , fmin =  [2.2737367544323205948e-11]\n",
      "\"iteration=  45, bbeval=  181, psize=  [1.9073486328125e-06, 1.9073486328125e-06], hmin =  1e-36, status:  FEASIBLE , fmin =  [2.2737367544323205948e-11]\n",
      "\"iteration=  46, bbeval=  185, psize=  [9.5367431640625e-07, 9.5367431640625e-07], hmin =  1e-36, status:  FEASIBLE , fmin =  [2.2737367544323205948e-11]\n",
      "\"iteration=  47, bbeval=  189, psize=  [4.76837158203125e-07, 4.76837158203125e-07], hmin =  1e-36, status:  FEASIBLE , fmin =  [2.2737367544323205948e-11]\n",
      "Success: fmin = [1.4210854715202003717e-12] (hmin = 9.99999999999999941e-37)\n",
      "\"iteration=  48, bbeval=  193, psize=  [9.5367431640625e-07, 9.5367431640625e-07], hmin =  1e-36, status:  FEASIBLE , fmin =  [1.4210854715202003717e-12]\n",
      "\"iteration=  49, bbeval=  197, psize=  [4.76837158203125e-07, 4.76837158203125e-07], hmin =  1e-36, status:  FEASIBLE , fmin =  [1.4210854715202003717e-12]\n",
      "\"iteration=  50, bbeval=  201, psize=  [2.384185791015625e-07, 2.384185791015625e-07], hmin =  1e-36, status:  FEASIBLE , fmin =  [1.4210854715202003717e-12]\n",
      "\"iteration=  51, bbeval=  205, psize=  [1.1920928955078125e-07, 1.1920928955078125e-07], hmin =  1e-36, status:  FEASIBLE , fmin =  [1.4210854715202003717e-12]\n",
      "Success: fmin = [8.8817841970012523234e-14] (hmin = 9.99999999999999941e-37)\n",
      "\"iteration=  52, bbeval=  209, psize=  [2.384185791015625e-07, 2.384185791015625e-07], hmin =  1e-36, status:  FEASIBLE , fmin =  [8.8817841970012523234e-14]\n",
      "\"iteration=  53, bbeval=  213, psize=  [1.1920928955078125e-07, 1.1920928955078125e-07], hmin =  1e-36, status:  FEASIBLE , fmin =  [8.8817841970012523234e-14]\n",
      "\"iteration=  54, bbeval=  217, psize=  [5.960464477539063e-08, 5.960464477539063e-08], hmin =  1e-36, status:  FEASIBLE , fmin =  [8.8817841970012523234e-14]\n",
      "\"iteration=  55, bbeval=  221, psize=  [2.9802322387695312e-08, 2.9802322387695312e-08], hmin =  1e-36, status:  FEASIBLE , fmin =  [8.8817841970012523234e-14]\n",
      "Success: fmin = [5.551115123125782702e-15] (hmin = 9.99999999999999941e-37)\n",
      "\"iteration=  56, bbeval=  225, psize=  [5.960464477539063e-08, 5.960464477539063e-08], hmin =  1e-36, status:  FEASIBLE , fmin =  [5.551115123125782702e-15]\n",
      "\"iteration=  57, bbeval=  229, psize=  [2.9802322387695312e-08, 2.9802322387695312e-08], hmin =  1e-36, status:  FEASIBLE , fmin =  [5.551115123125782702e-15]\n",
      "\"iteration=  58, bbeval=  233, psize=  [1.4901161193847656e-08, 1.4901161193847656e-08], hmin =  1e-36, status:  FEASIBLE , fmin =  [5.551115123125782702e-15]\n",
      "\"iteration=  59, bbeval=  237, psize=  [7.450580596923828e-09, 7.450580596923828e-09], hmin =  1e-36, status:  FEASIBLE , fmin =  [5.551115123125782702e-15]\n",
      "Success: fmin = [3.4694469519536141888e-16] (hmin = 9.99999999999999941e-37)\n",
      "\"iteration=  60, bbeval=  241, psize=  [1.4901161193847656e-08, 1.4901161193847656e-08], hmin =  1e-36, status:  FEASIBLE , fmin =  [3.4694469519536141888e-16]\n",
      "\"iteration=  61, bbeval=  245, psize=  [7.450580596923828e-09, 7.450580596923828e-09], hmin =  1e-36, status:  FEASIBLE , fmin =  [3.4694469519536141888e-16]\n",
      "\"iteration=  62, bbeval=  249, psize=  [3.725290298461914e-09, 3.725290298461914e-09], hmin =  1e-36, status:  FEASIBLE , fmin =  [3.4694469519536141888e-16]\n",
      "\"iteration=  63, bbeval=  253, psize=  [1.862645149230957e-09, 1.862645149230957e-09], hmin =  1e-36, status:  FEASIBLE , fmin =  [3.4694469519536141888e-16]\n",
      "Success: fmin = [2.168404344971008868e-17] (hmin = 9.99999999999999941e-37)\n",
      "\"iteration=  64, bbeval=  257, psize=  [3.725290298461914e-09, 3.725290298461914e-09], hmin =  1e-36, status:  FEASIBLE , fmin =  [2.168404344971008868e-17]\n",
      "\"iteration=  65, bbeval=  261, psize=  [1.862645149230957e-09, 1.862645149230957e-09], hmin =  1e-36, status:  FEASIBLE , fmin =  [2.168404344971008868e-17]\n",
      "\"iteration=  66, bbeval=  265, psize=  [9.313225746154785e-10, 9.313225746154785e-10], hmin =  1e-36, status:  FEASIBLE , fmin =  [2.168404344971008868e-17]\n",
      "\"iteration=  67, bbeval=  269, psize=  [4.656612873077393e-10, 4.656612873077393e-10], hmin =  1e-36, status:  FEASIBLE , fmin =  [2.168404344971008868e-17]\n",
      "Success: fmin = [1.3552527156068805425e-18] (hmin = 9.99999999999999941e-37)\n",
      "\"iteration=  68, bbeval=  273, psize=  [9.313225746154785e-10, 9.313225746154785e-10], hmin =  1e-36, status:  FEASIBLE , fmin =  [1.3552527156068805425e-18]\n",
      "\"iteration=  69, bbeval=  277, psize=  [4.656612873077393e-10, 4.656612873077393e-10], hmin =  1e-36, status:  FEASIBLE , fmin =  [1.3552527156068805425e-18]\n",
      "\"iteration=  70, bbeval=  281, psize=  [2.3283064365386963e-10, 2.3283064365386963e-10], hmin =  1e-36, status:  FEASIBLE , fmin =  [1.3552527156068805425e-18]\n",
      "\"iteration=  71, bbeval=  285, psize=  [1.1641532182693481e-10, 1.1641532182693481e-10], hmin =  1e-36, status:  FEASIBLE , fmin =  [1.3552527156068805425e-18]\n",
      "Success: fmin = [8.4703294725430033907e-20] (hmin = 9.99999999999999941e-37)\n",
      "\"iteration=  72, bbeval=  289, psize=  [2.3283064365386963e-10, 2.3283064365386963e-10], hmin =  1e-36, status:  FEASIBLE , fmin =  [8.4703294725430033907e-20]\n",
      "\"iteration=  73, bbeval=  293, psize=  [1.1641532182693481e-10, 1.1641532182693481e-10], hmin =  1e-36, status:  FEASIBLE , fmin =  [8.4703294725430033907e-20]\n",
      "\"iteration=  74, bbeval=  297, psize=  [5.820766091346741e-11, 5.820766091346741e-11], hmin =  1e-36, status:  FEASIBLE , fmin =  [8.4703294725430033907e-20]\n",
      "\"iteration=  75, bbeval=  301, psize=  [2.9103830456733704e-11, 2.9103830456733704e-11], hmin =  1e-36, status:  FEASIBLE , fmin =  [8.4703294725430033907e-20]\n",
      "Success: fmin = [5.293955920339377119e-21] (hmin = 9.99999999999999941e-37)\n",
      "\"iteration=  76, bbeval=  305, psize=  [5.820766091346741e-11, 5.820766091346741e-11], hmin =  1e-36, status:  FEASIBLE , fmin =  [5.293955920339377119e-21]\n",
      "\"iteration=  77, bbeval=  309, psize=  [2.9103830456733704e-11, 2.9103830456733704e-11], hmin =  1e-36, status:  FEASIBLE , fmin =  [5.293955920339377119e-21]\n",
      "\"iteration=  78, bbeval=  313, psize=  [1.4551915228366852e-11, 1.4551915228366852e-11], hmin =  1e-36, status:  FEASIBLE , fmin =  [5.293955920339377119e-21]\n",
      "\"iteration=  79, bbeval=  317, psize=  [7.275957614183426e-12, 7.275957614183426e-12], hmin =  1e-36, status:  FEASIBLE , fmin =  [5.293955920339377119e-21]\n",
      "Success: fmin = [3.3087224502121106995e-22] (hmin = 9.99999999999999941e-37)\n",
      "\"iteration=  80, bbeval=  321, psize=  [1.4551915228366852e-11, 1.4551915228366852e-11], hmin =  1e-36, status:  FEASIBLE , fmin =  [3.3087224502121106995e-22]\n",
      "\"iteration=  81, bbeval=  325, psize=  [7.275957614183426e-12, 7.275957614183426e-12], hmin =  1e-36, status:  FEASIBLE , fmin =  [3.3087224502121106995e-22]\n",
      "\"iteration=  82, bbeval=  329, psize=  [3.637978807091713e-12, 3.637978807091713e-12], hmin =  1e-36, status:  FEASIBLE , fmin =  [3.3087224502121106995e-22]\n",
      "\"iteration=  83, bbeval=  333, psize=  [1.8189894035458565e-12, 1.8189894035458565e-12], hmin =  1e-36, status:  FEASIBLE , fmin =  [3.3087224502121106995e-22]\n",
      "Success: fmin = [2.0679515313825691872e-23] (hmin = 9.99999999999999941e-37)\n",
      "\"iteration=  84, bbeval=  337, psize=  [3.637978807091713e-12, 3.637978807091713e-12], hmin =  1e-36, status:  FEASIBLE , fmin =  [2.0679515313825691872e-23]\n",
      "\"iteration=  85, bbeval=  341, psize=  [1.8189894035458565e-12, 1.8189894035458565e-12], hmin =  1e-36, status:  FEASIBLE , fmin =  [2.0679515313825691872e-23]\n",
      "\"iteration=  86, bbeval=  345, psize=  [9.094947017729282e-13, 9.094947017729282e-13], hmin =  1e-36, status:  FEASIBLE , fmin =  [2.0679515313825691872e-23]\n",
      " end of orthogonal MADS \n",
      " Final objective value: [2.0679515313825691872e-23], hmin= 9.999999999999999999e-37\n",
      "\n",
      " ---Run Summary---\n",
      " Run completed in 0.8300 seconds\n",
      " Random numbers generator's seed 0\n",
      " xmin = [1.0, 0.99999999999954525265]\n",
      " hmin = 9.999999999999999999e-37\n",
      " fmin = [2.0679515313825691872e-23]\n",
      " #bb_eval = 345\n",
      " #iteration = 86\n",
      " nb_success = 26\n",
      " psize = [9.094947017729282e-13, 9.094947017729282e-13]\n",
      " psize_success = [1.8189894035458565e-12, 1.8189894035458565e-12]\n"
     ]
    },
    {
     "data": {
      "text/plain": [
       "({'xmin': [1.0, 0.99999999999954525265],\n",
       "  'fmin': [2.0679515313825691872e-23],\n",
       "  'hmin': 9.999999999999999999e-37,\n",
       "  'nbb_evals': 345,\n",
       "  'niterations': 86,\n",
       "  'nb_success': 26,\n",
       "  'psize': [9.094947017729282e-13, 9.094947017729282e-13],\n",
       "  'psuccess': [1.8189894035458565e-12, 1.8189894035458565e-12],\n",
       "  'msize': [8.271806125530277e-25, 8.271806125530277e-25]},\n",
       " Dirs2n(_poll_set=[CandidatePoint(_n=2, _coords=[0.9999999999981810106, 0.99999999999954525265], _defined=[True, True], _evaluated=True, _f=[1.0166049728276710124e-21], _freal=[1.0166049728276710124e-21], _c_ineq=[0], _c_eq=[], _h=9.999999999999999999e-37, _signature=-3706400538692445471, _dtype=DType(_prec='high', _dtype=<class 'numpy.longdouble'>, _itype=<class 'numpy.int64'>, _zero=1e-18, _warned=False), _var_type=[<VAR_TYPE.REAL: 1>, <VAR_TYPE.REAL: 1>], _sets=None, _var_link=[None, None], _status=<DESIGN_STATUS.FEASIBLE: 1>, _constraints_type=[None], _is_EB_passed=True, _LAMBDA=[1e-18], _RHO=2.2323972485981934e-107, _hmax=9.999999999999999999e-37, _hmin=inf, Eval_time=0.00012432015500962734, source='Current run', Model='Simulation', _hzero=None, _mesh=Omesh(_n=2, _initialMeshSize=Point(_n=2, _coords=[0.3535533905932738, 0.3535533905932738], _defined=[True, True], _evaluated=False, _signature=-8458139203682520985, _dtype=DType(_prec='medium', _dtype=<class 'numpy.float64'>, _itype=<class 'numpy.int64'>, _zero=1e-15, _warned=False), _var_type=None, _sets=None, source='Current run', Model='Simulation'), _initialFrameSize=Point(_n=2, _coords=[0.5, 0.5], _defined=[True, True], _evaluated=False, _signature=-8458139203682520985, _dtype=DType(_prec='medium', _dtype=<class 'numpy.float64'>, _itype=<class 'numpy.int64'>, _zero=1e-15, _warned=False), _var_type=None, _sets=None, source='Current run', Model='Simulation'), _minMeshSize=Point(_n=2, _coords=[1e-09, 1e-09], _defined=[True, True], _evaluated=False, _signature=-5809752760638955159, _dtype=DType(_prec='medium', _dtype=<class 'numpy.float64'>, _itype=<class 'numpy.int64'>, _zero=1e-15, _warned=False), _var_type=None, _sets=None, source='Current run', Model='Simulation'), _minFrameSize=Point(_n=2, _coords=[1e-09, 1e-09], _defined=[True, True], _evaluated=False, _signature=-5809752760638955159, _dtype=DType(_prec='medium', _dtype=<class 'numpy.float64'>, _itype=<class 'numpy.int64'>, _zero=1e-15, _warned=False), _var_type=None, _sets=None, source='Current run', Model='Simulation'), _lowerBound=Point(_n=2, _coords=[-2.5, -2.0], _defined=None, _evaluated=False, _signature=0, _dtype=DType(_prec='medium', _dtype=<class 'numpy.float64'>, _itype=<class 'numpy.int64'>, _zero=1e-15, _warned=False), _var_type=None, _sets=None, source='Current run', Model='Simulation'), _upperBound=Point(_n=2, _coords=[2.5, 3.0], _defined=None, _evaluated=False, _signature=0, _dtype=DType(_prec='medium', _dtype=<class 'numpy.float64'>, _itype=<class 'numpy.int64'>, _zero=1e-15, _warned=False), _var_type=None, _sets=None, source='Current run', Model='Simulation'), _isFinest=True, _r=Point(_n=2, _coords=[1, 1], _defined=[True, True], _evaluated=False, _signature=8389048192121911274, _dtype=DType(_prec='medium', _dtype=<class 'numpy.float64'>, _itype=<class 'numpy.int64'>, _zero=1e-15, _warned=False), _var_type=None, _sets=None, source='Current run', Model='Simulation'), _rMin=Point(_n=2, _coords=[1, 1], _defined=[True, True], _evaluated=False, _signature=8389048192121911274, _dtype=DType(_prec='medium', _dtype=<class 'numpy.float64'>, _itype=<class 'numpy.int64'>, _zero=1e-15, _warned=False), _var_type=None, _sets=None, source='Current run', Model='Simulation'), _rMax=Point(_n=2, _coords=[1, 1], _defined=[True, True], _evaluated=False, _signature=8389048192121911274, _dtype=DType(_prec='medium', _dtype=<class 'numpy.float64'>, _itype=<class 'numpy.int64'>, _zero=1e-15, _warned=False), _var_type=None, _sets=None, source='Current run', Model='Simulation'), _limitMinMeshIndex=-50, _limitMaxMeshIndex=50, _pbParams=Parameters(_n=2, baseline=[-2.0, -2.0], lb=[-2.5, -2.0], ub=[2.5, 3.0], var_names=['theta', 'p'], fun_names=['fobj'], scaling=[5.0, 4], post_dir='./post', var_type=['REAL', 'REAL'], var_sets=None, constants=None, constants_name=None, Failure_stop=None, problem_name='unknown', best_known=None, constraints_type=None, function_weights=[1.0], h_max=0, RHO=5e-05, LAMBDA=[1e-18], name='undefined', nobj=1, meshType='ORTHO', fixed_variables=None, granularity=Point(_n=2, _coords=[0.0, 0.0], _defined=[True, True], _evaluated=False, _signature=-8458139203682520985, _dtype=DType(_prec='medium', _dtype=<class 'numpy.float64'>, _itype=<class 'numpy.int64'>, _zero=1e-15, _warned=False), _var_type=None, _sets=None, source='Current run', Model='Simulation'), minMeshSize=Point(_n=2, _coords=[1e-09, 1e-09], _defined=[True, True], _evaluated=False, _signature=-5809752760638955159, _dtype=DType(_prec='medium', _dtype=<class 'numpy.float64'>, _itype=<class 'numpy.int64'>, _zero=1e-15, _warned=False), _var_type=None, _sets=None, source='Current run', Model='Simulation'), minFrameSize=Point(_n=2, _coords=[1e-09, 1e-09], _defined=[True, True], _evaluated=False, _signature=-5809752760638955159, _dtype=DType(_prec='medium', _dtype=<class 'numpy.float64'>, _itype=<class 'numpy.int64'>, _zero=1e-15, _warned=False), _var_type=None, _sets=None, source='Current run', Model='Simulation'), initialMeshSize=Point(_n=2, _coords=[0.3535533905932738, 0.3535533905932738], _defined=[True, True], _evaluated=False, _signature=-8458139203682520985, _dtype=DType(_prec='medium', _dtype=<class 'numpy.float64'>, _itype=<class 'numpy.int64'>, _zero=1e-15, _warned=False), _var_type=None, _sets=None, source='Current run', Model='Simulation'), initialFrameSize=Point(_n=2, _coords=[0.5, 0.5], _defined=[True, True], _evaluated=False, _signature=-8458139203682520985, _dtype=DType(_prec='medium', _dtype=<class 'numpy.float64'>, _itype=<class 'numpy.int64'>, _zero=1e-15, _warned=False), _var_type=None, _sets=None, source='Current run', Model='Simulation'), warningInitialFrameSizeReset=True, x0=Point(_n=2, _coords=[-2.0, -2.0], _defined=[True, True], _evaluated=False, _signature=960947337673586213, _dtype=DType(_prec='medium', _dtype=<class 'numpy.float64'>, _itype=<class 'numpy.int64'>, _zero=1e-15, _warned=False), _var_type=None, _sets=None, source='Current run', Model='Simulation'), _initialized_and_checked=True, isPareto=False, incumbentincumbentSelectionParam=1, barrierInitializedFromCache=True), _rho=[549755813888.0, 549755813888.0], _dtype=DType(_prec='medium', _dtype=<class 'numpy.float64'>, _itype=<class 'numpy.int64'>, _zero=1e-15, _warned=False), _meshSize=Point(_n=2, _coords=[3.308722450212111e-24, 3.308722450212111e-24], _defined=[True, True], _evaluated=False, _signature=-8458139203682520985, _dtype=DType(_prec='medium', _dtype=<class 'numpy.float64'>, _itype=<class 'numpy.int64'>, _zero=1e-15, _warned=False), _var_type=None, _sets=None, source='Current run', Model='Simulation'), _frameSize=Point(_n=2, _coords=[1.8189894035458565e-12, 1.8189894035458565e-12], _defined=[True, True], _evaluated=False, _signature=8389048192121911274, _dtype=DType(_prec='medium', _dtype=<class 'numpy.float64'>, _itype=<class 'numpy.int64'>, _zero=1e-15, _warned=False), _var_type=None, _sets=None, source='Current run', Model='Simulation'), _exp=Point(_n=2, _coords=None, _defined=None, _evaluated=False, _signature=0, _dtype=DType(_prec='medium', _dtype=<class 'numpy.float64'>, _itype=<class 'numpy.int64'>, _zero=1e-15, _warned=False), _var_type=None, _sets=None, source='Current run', Model='Simulation'), _mantissa=Point(_n=2, _coords=None, _defined=None, _evaluated=False, _signature=0, _dtype=DType(_prec='medium', _dtype=<class 'numpy.float64'>, _itype=<class 'numpy.int64'>, _zero=1e-15, _warned=False), _var_type=None, _sets=None, source='Current run', Model='Simulation'), _maximumFrameSize=Point(_n=2, _coords=None, _defined=None, _evaluated=False, _signature=0, _dtype=DType(_prec='medium', _dtype=<class 'numpy.float64'>, _itype=<class 'numpy.int64'>, _zero=1e-15, _warned=False), _var_type=None, _sets=None, source='Current run', Model='Simulation'), successfulFrameSize=Point(_n=2, _coords=None, _defined=None, _evaluated=False, _signature=0, _dtype=DType(_prec='medium', _dtype=<class 'numpy.float64'>, _itype=<class 'numpy.int64'>, _zero=1e-15, _warned=False), _var_type=None, _sets=None, source='Current run', Model='Simulation')), _direction=Point(_n=2, _coords=[-1.8189894035458564758e-12, 0.0], _defined=[True, True], _evaluated=False, _signature=7247316419952065477, _dtype=DType(_prec='medium', _dtype=<class 'numpy.float64'>, _itype=<class 'numpy.int64'>, _zero=1e-15, _warned=False), _var_type=None, _sets=None, source='Current run', Model='Simulation'), _fs=Point(_n=1, _coords=[1.0166049728276710124e-21], _defined=[True], _evaluated=False, _signature=-7416581342345001128, _dtype=DType(_prec='medium', _dtype=<class 'numpy.float64'>, _itype=<class 'numpy.int64'>, _zero=1e-15, _warned=False), _var_type=None, _sets=None, source='Current run', Model='Simulation'), evalNo=342), CandidatePoint(_n=2, _coords=[1.0, 0.9999999999972715159], _defined=[True, True], _evaluated=True, _f=[7.444625512977249074e-22], _freal=[7.444625512977249074e-22], _c_ineq=[0], _c_eq=[], _h=9.999999999999999999e-37, _signature=4074427913001641380, _dtype=DType(_prec='high', _dtype=<class 'numpy.longdouble'>, _itype=<class 'numpy.int64'>, _zero=1e-18, _warned=False), _var_type=[<VAR_TYPE.REAL: 1>, <VAR_TYPE.REAL: 1>], _sets=None, _var_link=[None, None], _status=<DESIGN_STATUS.FEASIBLE: 1>, _constraints_type=[None], _is_EB_passed=True, _LAMBDA=[1e-18], _RHO=1.1161986242990967e-107, _hmax=9.999999999999999999e-37, _hmin=inf, Eval_time=0.00010590115562081337, source='Current run', Model='Simulation', _hzero=None, _mesh=Omesh(_n=2, _initialMeshSize=Point(_n=2, _coords=[0.3535533905932738, 0.3535533905932738], _defined=[True, True], _evaluated=False, _signature=-8458139203682520985, _dtype=DType(_prec='medium', _dtype=<class 'numpy.float64'>, _itype=<class 'numpy.int64'>, _zero=1e-15, _warned=False), _var_type=None, _sets=None, source='Current run', Model='Simulation'), _initialFrameSize=Point(_n=2, _coords=[0.5, 0.5], _defined=[True, True], _evaluated=False, _signature=-8458139203682520985, _dtype=DType(_prec='medium', _dtype=<class 'numpy.float64'>, _itype=<class 'numpy.int64'>, _zero=1e-15, _warned=False), _var_type=None, _sets=None, source='Current run', Model='Simulation'), _minMeshSize=Point(_n=2, _coords=[1e-09, 1e-09], _defined=[True, True], _evaluated=False, _signature=-5809752760638955159, _dtype=DType(_prec='medium', _dtype=<class 'numpy.float64'>, _itype=<class 'numpy.int64'>, _zero=1e-15, _warned=False), _var_type=None, _sets=None, source='Current run', Model='Simulation'), _minFrameSize=Point(_n=2, _coords=[1e-09, 1e-09], _defined=[True, True], _evaluated=False, _signature=-5809752760638955159, _dtype=DType(_prec='medium', _dtype=<class 'numpy.float64'>, _itype=<class 'numpy.int64'>, _zero=1e-15, _warned=False), _var_type=None, _sets=None, source='Current run', Model='Simulation'), _lowerBound=Point(_n=2, _coords=[-2.5, -2.0], _defined=None, _evaluated=False, _signature=0, _dtype=DType(_prec='medium', _dtype=<class 'numpy.float64'>, _itype=<class 'numpy.int64'>, _zero=1e-15, _warned=False), _var_type=None, _sets=None, source='Current run', Model='Simulation'), _upperBound=Point(_n=2, _coords=[2.5, 3.0], _defined=None, _evaluated=False, _signature=0, _dtype=DType(_prec='medium', _dtype=<class 'numpy.float64'>, _itype=<class 'numpy.int64'>, _zero=1e-15, _warned=False), _var_type=None, _sets=None, source='Current run', Model='Simulation'), _isFinest=True, _r=Point(_n=2, _coords=[1, 1], _defined=[True, True], _evaluated=False, _signature=8389048192121911274, _dtype=DType(_prec='medium', _dtype=<class 'numpy.float64'>, _itype=<class 'numpy.int64'>, _zero=1e-15, _warned=False), _var_type=None, _sets=None, source='Current run', Model='Simulation'), _rMin=Point(_n=2, _coords=[1, 1], _defined=[True, True], _evaluated=False, _signature=8389048192121911274, _dtype=DType(_prec='medium', _dtype=<class 'numpy.float64'>, _itype=<class 'numpy.int64'>, _zero=1e-15, _warned=False), _var_type=None, _sets=None, source='Current run', Model='Simulation'), _rMax=Point(_n=2, _coords=[1, 1], _defined=[True, True], _evaluated=False, _signature=8389048192121911274, _dtype=DType(_prec='medium', _dtype=<class 'numpy.float64'>, _itype=<class 'numpy.int64'>, _zero=1e-15, _warned=False), _var_type=None, _sets=None, source='Current run', Model='Simulation'), _limitMinMeshIndex=-50, _limitMaxMeshIndex=50, _pbParams=Parameters(_n=2, baseline=[-2.0, -2.0], lb=[-2.5, -2.0], ub=[2.5, 3.0], var_names=['theta', 'p'], fun_names=['fobj'], scaling=[5.0, 4], post_dir='./post', var_type=['REAL', 'REAL'], var_sets=None, constants=None, constants_name=None, Failure_stop=None, problem_name='unknown', best_known=None, constraints_type=None, function_weights=[1.0], h_max=0, RHO=5e-05, LAMBDA=[1e-18], name='undefined', nobj=1, meshType='ORTHO', fixed_variables=None, granularity=Point(_n=2, _coords=[0.0, 0.0], _defined=[True, True], _evaluated=False, _signature=-8458139203682520985, _dtype=DType(_prec='medium', _dtype=<class 'numpy.float64'>, _itype=<class 'numpy.int64'>, _zero=1e-15, _warned=False), _var_type=None, _sets=None, source='Current run', Model='Simulation'), minMeshSize=Point(_n=2, _coords=[1e-09, 1e-09], _defined=[True, True], _evaluated=False, _signature=-5809752760638955159, _dtype=DType(_prec='medium', _dtype=<class 'numpy.float64'>, _itype=<class 'numpy.int64'>, _zero=1e-15, _warned=False), _var_type=None, _sets=None, source='Current run', Model='Simulation'), minFrameSize=Point(_n=2, _coords=[1e-09, 1e-09], _defined=[True, True], _evaluated=False, _signature=-5809752760638955159, _dtype=DType(_prec='medium', _dtype=<class 'numpy.float64'>, _itype=<class 'numpy.int64'>, _zero=1e-15, _warned=False), _var_type=None, _sets=None, source='Current run', Model='Simulation'), initialMeshSize=Point(_n=2, _coords=[0.3535533905932738, 0.3535533905932738], _defined=[True, True], _evaluated=False, _signature=-8458139203682520985, _dtype=DType(_prec='medium', _dtype=<class 'numpy.float64'>, _itype=<class 'numpy.int64'>, _zero=1e-15, _warned=False), _var_type=None, _sets=None, source='Current run', Model='Simulation'), initialFrameSize=Point(_n=2, _coords=[0.5, 0.5], _defined=[True, True], _evaluated=False, _signature=-8458139203682520985, _dtype=DType(_prec='medium', _dtype=<class 'numpy.float64'>, _itype=<class 'numpy.int64'>, _zero=1e-15, _warned=False), _var_type=None, _sets=None, source='Current run', Model='Simulation'), warningInitialFrameSizeReset=True, x0=Point(_n=2, _coords=[-2.0, -2.0], _defined=[True, True], _evaluated=False, _signature=960947337673586213, _dtype=DType(_prec='medium', _dtype=<class 'numpy.float64'>, _itype=<class 'numpy.int64'>, _zero=1e-15, _warned=False), _var_type=None, _sets=None, source='Current run', Model='Simulation'), _initialized_and_checked=True, isPareto=False, incumbentincumbentSelectionParam=1, barrierInitializedFromCache=True), _rho=[549755813888.0, 549755813888.0], _dtype=DType(_prec='medium', _dtype=<class 'numpy.float64'>, _itype=<class 'numpy.int64'>, _zero=1e-15, _warned=False), _meshSize=Point(_n=2, _coords=[3.308722450212111e-24, 3.308722450212111e-24], _defined=[True, True], _evaluated=False, _signature=-8458139203682520985, _dtype=DType(_prec='medium', _dtype=<class 'numpy.float64'>, _itype=<class 'numpy.int64'>, _zero=1e-15, _warned=False), _var_type=None, _sets=None, source='Current run', Model='Simulation'), _frameSize=Point(_n=2, _coords=[1.8189894035458565e-12, 1.8189894035458565e-12], _defined=[True, True], _evaluated=False, _signature=8389048192121911274, _dtype=DType(_prec='medium', _dtype=<class 'numpy.float64'>, _itype=<class 'numpy.int64'>, _zero=1e-15, _warned=False), _var_type=None, _sets=None, source='Current run', Model='Simulation'), _exp=Point(_n=2, _coords=None, _defined=None, _evaluated=False, _signature=0, _dtype=DType(_prec='medium', _dtype=<class 'numpy.float64'>, _itype=<class 'numpy.int64'>, _zero=1e-15, _warned=False), _var_type=None, _sets=None, source='Current run', Model='Simulation'), _mantissa=Point(_n=2, _coords=None, _defined=None, _evaluated=False, _signature=0, _dtype=DType(_prec='medium', _dtype=<class 'numpy.float64'>, _itype=<class 'numpy.int64'>, _zero=1e-15, _warned=False), _var_type=None, _sets=None, source='Current run', Model='Simulation'), _maximumFrameSize=Point(_n=2, _coords=None, _defined=None, _evaluated=False, _signature=0, _dtype=DType(_prec='medium', _dtype=<class 'numpy.float64'>, _itype=<class 'numpy.int64'>, _zero=1e-15, _warned=False), _var_type=None, _sets=None, source='Current run', Model='Simulation'), successfulFrameSize=Point(_n=2, _coords=None, _defined=None, _evaluated=False, _signature=0, _dtype=DType(_prec='medium', _dtype=<class 'numpy.float64'>, _itype=<class 'numpy.int64'>, _zero=1e-15, _warned=False), _var_type=None, _sets=None, source='Current run', Model='Simulation')), _direction=Point(_n=2, _coords=[0.0, -2.2737367544323205948e-12], _defined=[True, True], _evaluated=False, _signature=5536735849576336132, _dtype=DType(_prec='medium', _dtype=<class 'numpy.float64'>, _itype=<class 'numpy.int64'>, _zero=1e-15, _warned=False), _var_type=None, _sets=None, source='Current run', Model='Simulation'), _fs=Point(_n=1, _coords=[7.444625512977249074e-22], _defined=[True], _evaluated=False, _signature=1074765955737986392, _dtype=DType(_prec='medium', _dtype=<class 'numpy.float64'>, _itype=<class 'numpy.int64'>, _zero=1e-15, _warned=False), _var_type=None, _sets=None, source='Current run', Model='Simulation'), evalNo=343), CandidatePoint(_n=2, _coords=[1.0, 1.0000000000018189894], _defined=[True, True], _evaluated=True, _f=[3.3087224502121106995e-22], _freal=[3.3087224502121106995e-22], _c_ineq=[0], _c_eq=[], _h=9.999999999999999999e-37, _signature=1044425495302245692, _dtype=DType(_prec='high', _dtype=<class 'numpy.longdouble'>, _itype=<class 'numpy.int64'>, _zero=1e-18, _warned=False), _var_type=[<VAR_TYPE.REAL: 1>, <VAR_TYPE.REAL: 1>], _sets=None, _var_link=[None, None], _status=<DESIGN_STATUS.FEASIBLE: 1>, _constraints_type=[None], _is_EB_passed=True, _LAMBDA=[1e-18], _RHO=5.5809931214954836e-108, _hmax=9.999999999999999999e-37, _hmin=inf, Eval_time=0.00010013091377913952, source='Current run', Model='Simulation', _hzero=None, _mesh=Omesh(_n=2, _initialMeshSize=Point(_n=2, _coords=[0.3535533905932738, 0.3535533905932738], _defined=[True, True], _evaluated=False, _signature=-8458139203682520985, _dtype=DType(_prec='medium', _dtype=<class 'numpy.float64'>, _itype=<class 'numpy.int64'>, _zero=1e-15, _warned=False), _var_type=None, _sets=None, source='Current run', Model='Simulation'), _initialFrameSize=Point(_n=2, _coords=[0.5, 0.5], _defined=[True, True], _evaluated=False, _signature=-8458139203682520985, _dtype=DType(_prec='medium', _dtype=<class 'numpy.float64'>, _itype=<class 'numpy.int64'>, _zero=1e-15, _warned=False), _var_type=None, _sets=None, source='Current run', Model='Simulation'), _minMeshSize=Point(_n=2, _coords=[1e-09, 1e-09], _defined=[True, True], _evaluated=False, _signature=-5809752760638955159, _dtype=DType(_prec='medium', _dtype=<class 'numpy.float64'>, _itype=<class 'numpy.int64'>, _zero=1e-15, _warned=False), _var_type=None, _sets=None, source='Current run', Model='Simulation'), _minFrameSize=Point(_n=2, _coords=[1e-09, 1e-09], _defined=[True, True], _evaluated=False, _signature=-5809752760638955159, _dtype=DType(_prec='medium', _dtype=<class 'numpy.float64'>, _itype=<class 'numpy.int64'>, _zero=1e-15, _warned=False), _var_type=None, _sets=None, source='Current run', Model='Simulation'), _lowerBound=Point(_n=2, _coords=[-2.5, -2.0], _defined=None, _evaluated=False, _signature=0, _dtype=DType(_prec='medium', _dtype=<class 'numpy.float64'>, _itype=<class 'numpy.int64'>, _zero=1e-15, _warned=False), _var_type=None, _sets=None, source='Current run', Model='Simulation'), _upperBound=Point(_n=2, _coords=[2.5, 3.0], _defined=None, _evaluated=False, _signature=0, _dtype=DType(_prec='medium', _dtype=<class 'numpy.float64'>, _itype=<class 'numpy.int64'>, _zero=1e-15, _warned=False), _var_type=None, _sets=None, source='Current run', Model='Simulation'), _isFinest=True, _r=Point(_n=2, _coords=[1, 1], _defined=[True, True], _evaluated=False, _signature=8389048192121911274, _dtype=DType(_prec='medium', _dtype=<class 'numpy.float64'>, _itype=<class 'numpy.int64'>, _zero=1e-15, _warned=False), _var_type=None, _sets=None, source='Current run', Model='Simulation'), _rMin=Point(_n=2, _coords=[1, 1], _defined=[True, True], _evaluated=False, _signature=8389048192121911274, _dtype=DType(_prec='medium', _dtype=<class 'numpy.float64'>, _itype=<class 'numpy.int64'>, _zero=1e-15, _warned=False), _var_type=None, _sets=None, source='Current run', Model='Simulation'), _rMax=Point(_n=2, _coords=[1, 1], _defined=[True, True], _evaluated=False, _signature=8389048192121911274, _dtype=DType(_prec='medium', _dtype=<class 'numpy.float64'>, _itype=<class 'numpy.int64'>, _zero=1e-15, _warned=False), _var_type=None, _sets=None, source='Current run', Model='Simulation'), _limitMinMeshIndex=-50, _limitMaxMeshIndex=50, _pbParams=Parameters(_n=2, baseline=[-2.0, -2.0], lb=[-2.5, -2.0], ub=[2.5, 3.0], var_names=['theta', 'p'], fun_names=['fobj'], scaling=[5.0, 4], post_dir='./post', var_type=['REAL', 'REAL'], var_sets=None, constants=None, constants_name=None, Failure_stop=None, problem_name='unknown', best_known=None, constraints_type=None, function_weights=[1.0], h_max=0, RHO=5e-05, LAMBDA=[1e-18], name='undefined', nobj=1, meshType='ORTHO', fixed_variables=None, granularity=Point(_n=2, _coords=[0.0, 0.0], _defined=[True, True], _evaluated=False, _signature=-8458139203682520985, _dtype=DType(_prec='medium', _dtype=<class 'numpy.float64'>, _itype=<class 'numpy.int64'>, _zero=1e-15, _warned=False), _var_type=None, _sets=None, source='Current run', Model='Simulation'), minMeshSize=Point(_n=2, _coords=[1e-09, 1e-09], _defined=[True, True], _evaluated=False, _signature=-5809752760638955159, _dtype=DType(_prec='medium', _dtype=<class 'numpy.float64'>, _itype=<class 'numpy.int64'>, _zero=1e-15, _warned=False), _var_type=None, _sets=None, source='Current run', Model='Simulation'), minFrameSize=Point(_n=2, _coords=[1e-09, 1e-09], _defined=[True, True], _evaluated=False, _signature=-5809752760638955159, _dtype=DType(_prec='medium', _dtype=<class 'numpy.float64'>, _itype=<class 'numpy.int64'>, _zero=1e-15, _warned=False), _var_type=None, _sets=None, source='Current run', Model='Simulation'), initialMeshSize=Point(_n=2, _coords=[0.3535533905932738, 0.3535533905932738], _defined=[True, True], _evaluated=False, _signature=-8458139203682520985, _dtype=DType(_prec='medium', _dtype=<class 'numpy.float64'>, _itype=<class 'numpy.int64'>, _zero=1e-15, _warned=False), _var_type=None, _sets=None, source='Current run', Model='Simulation'), initialFrameSize=Point(_n=2, _coords=[0.5, 0.5], _defined=[True, True], _evaluated=False, _signature=-8458139203682520985, _dtype=DType(_prec='medium', _dtype=<class 'numpy.float64'>, _itype=<class 'numpy.int64'>, _zero=1e-15, _warned=False), _var_type=None, _sets=None, source='Current run', Model='Simulation'), warningInitialFrameSizeReset=True, x0=Point(_n=2, _coords=[-2.0, -2.0], _defined=[True, True], _evaluated=False, _signature=960947337673586213, _dtype=DType(_prec='medium', _dtype=<class 'numpy.float64'>, _itype=<class 'numpy.int64'>, _zero=1e-15, _warned=False), _var_type=None, _sets=None, source='Current run', Model='Simulation'), _initialized_and_checked=True, isPareto=False, incumbentincumbentSelectionParam=1, barrierInitializedFromCache=True), _rho=[549755813888.0, 549755813888.0], _dtype=DType(_prec='medium', _dtype=<class 'numpy.float64'>, _itype=<class 'numpy.int64'>, _zero=1e-15, _warned=False), _meshSize=Point(_n=2, _coords=[3.308722450212111e-24, 3.308722450212111e-24], _defined=[True, True], _evaluated=False, _signature=-8458139203682520985, _dtype=DType(_prec='medium', _dtype=<class 'numpy.float64'>, _itype=<class 'numpy.int64'>, _zero=1e-15, _warned=False), _var_type=None, _sets=None, source='Current run', Model='Simulation'), _frameSize=Point(_n=2, _coords=[1.8189894035458565e-12, 1.8189894035458565e-12], _defined=[True, True], _evaluated=False, _signature=8389048192121911274, _dtype=DType(_prec='medium', _dtype=<class 'numpy.float64'>, _itype=<class 'numpy.int64'>, _zero=1e-15, _warned=False), _var_type=None, _sets=None, source='Current run', Model='Simulation'), _exp=Point(_n=2, _coords=None, _defined=None, _evaluated=False, _signature=0, _dtype=DType(_prec='medium', _dtype=<class 'numpy.float64'>, _itype=<class 'numpy.int64'>, _zero=1e-15, _warned=False), _var_type=None, _sets=None, source='Current run', Model='Simulation'), _mantissa=Point(_n=2, _coords=None, _defined=None, _evaluated=False, _signature=0, _dtype=DType(_prec='medium', _dtype=<class 'numpy.float64'>, _itype=<class 'numpy.int64'>, _zero=1e-15, _warned=False), _var_type=None, _sets=None, source='Current run', Model='Simulation'), _maximumFrameSize=Point(_n=2, _coords=None, _defined=None, _evaluated=False, _signature=0, _dtype=DType(_prec='medium', _dtype=<class 'numpy.float64'>, _itype=<class 'numpy.int64'>, _zero=1e-15, _warned=False), _var_type=None, _sets=None, source='Current run', Model='Simulation'), successfulFrameSize=Point(_n=2, _coords=None, _defined=None, _evaluated=False, _signature=0, _dtype=DType(_prec='medium', _dtype=<class 'numpy.float64'>, _itype=<class 'numpy.int64'>, _zero=1e-15, _warned=False), _var_type=None, _sets=None, source='Current run', Model='Simulation')), _direction=Point(_n=2, _coords=[0.0, 2.2737367544323205948e-12], _defined=[True, True], _evaluated=False, _signature=-8404627566216194614, _dtype=DType(_prec='medium', _dtype=<class 'numpy.float64'>, _itype=<class 'numpy.int64'>, _zero=1e-15, _warned=False), _var_type=None, _sets=None, source='Current run', Model='Simulation'), _fs=Point(_n=1, _coords=[3.3087224502121106995e-22], _defined=[True], _evaluated=False, _signature=-3218342385276813992, _dtype=DType(_prec='medium', _dtype=<class 'numpy.float64'>, _itype=<class 'numpy.int64'>, _zero=1e-15, _warned=False), _var_type=None, _sets=None, source='Current run', Model='Simulation'), evalNo=344), CandidatePoint(_n=2, _coords=[1.0000000000018189894, 0.99999999999954525265], _defined=[True, True], _evaluated=True, _f=[1.6783494628700931523e-21], _freal=[1.6783494628700931523e-21], _c_ineq=[0], _c_eq=[], _h=9.999999999999999999e-37, _signature=6869228000542932905, _dtype=DType(_prec='high', _dtype=<class 'numpy.longdouble'>, _itype=<class 'numpy.int64'>, _zero=1e-18, _warned=False), _var_type=[<VAR_TYPE.REAL: 1>, <VAR_TYPE.REAL: 1>], _sets=None, _var_link=[None, None], _status=<DESIGN_STATUS.FEASIBLE: 1>, _constraints_type=[None], _is_EB_passed=True, _LAMBDA=[1e-18], _RHO=2.7904965607477418e-108, _hmax=9.999999999999999999e-37, _hmin=inf, Eval_time=9.768013842403889e-05, source='Current run', Model='Simulation', _hzero=None, _mesh=Omesh(_n=2, _initialMeshSize=Point(_n=2, _coords=[0.3535533905932738, 0.3535533905932738], _defined=[True, True], _evaluated=False, _signature=-8458139203682520985, _dtype=DType(_prec='medium', _dtype=<class 'numpy.float64'>, _itype=<class 'numpy.int64'>, _zero=1e-15, _warned=False), _var_type=None, _sets=None, source='Current run', Model='Simulation'), _initialFrameSize=Point(_n=2, _coords=[0.5, 0.5], _defined=[True, True], _evaluated=False, _signature=-8458139203682520985, _dtype=DType(_prec='medium', _dtype=<class 'numpy.float64'>, _itype=<class 'numpy.int64'>, _zero=1e-15, _warned=False), _var_type=None, _sets=None, source='Current run', Model='Simulation'), _minMeshSize=Point(_n=2, _coords=[1e-09, 1e-09], _defined=[True, True], _evaluated=False, _signature=-5809752760638955159, _dtype=DType(_prec='medium', _dtype=<class 'numpy.float64'>, _itype=<class 'numpy.int64'>, _zero=1e-15, _warned=False), _var_type=None, _sets=None, source='Current run', Model='Simulation'), _minFrameSize=Point(_n=2, _coords=[1e-09, 1e-09], _defined=[True, True], _evaluated=False, _signature=-5809752760638955159, _dtype=DType(_prec='medium', _dtype=<class 'numpy.float64'>, _itype=<class 'numpy.int64'>, _zero=1e-15, _warned=False), _var_type=None, _sets=None, source='Current run', Model='Simulation'), _lowerBound=Point(_n=2, _coords=[-2.5, -2.0], _defined=None, _evaluated=False, _signature=0, _dtype=DType(_prec='medium', _dtype=<class 'numpy.float64'>, _itype=<class 'numpy.int64'>, _zero=1e-15, _warned=False), _var_type=None, _sets=None, source='Current run', Model='Simulation'), _upperBound=Point(_n=2, _coords=[2.5, 3.0], _defined=None, _evaluated=False, _signature=0, _dtype=DType(_prec='medium', _dtype=<class 'numpy.float64'>, _itype=<class 'numpy.int64'>, _zero=1e-15, _warned=False), _var_type=None, _sets=None, source='Current run', Model='Simulation'), _isFinest=True, _r=Point(_n=2, _coords=[1, 1], _defined=[True, True], _evaluated=False, _signature=8389048192121911274, _dtype=DType(_prec='medium', _dtype=<class 'numpy.float64'>, _itype=<class 'numpy.int64'>, _zero=1e-15, _warned=False), _var_type=None, _sets=None, source='Current run', Model='Simulation'), _rMin=Point(_n=2, _coords=[1, 1], _defined=[True, True], _evaluated=False, _signature=8389048192121911274, _dtype=DType(_prec='medium', _dtype=<class 'numpy.float64'>, _itype=<class 'numpy.int64'>, _zero=1e-15, _warned=False), _var_type=None, _sets=None, source='Current run', Model='Simulation'), _rMax=Point(_n=2, _coords=[1, 1], _defined=[True, True], _evaluated=False, _signature=8389048192121911274, _dtype=DType(_prec='medium', _dtype=<class 'numpy.float64'>, _itype=<class 'numpy.int64'>, _zero=1e-15, _warned=False), _var_type=None, _sets=None, source='Current run', Model='Simulation'), _limitMinMeshIndex=-50, _limitMaxMeshIndex=50, _pbParams=Parameters(_n=2, baseline=[-2.0, -2.0], lb=[-2.5, -2.0], ub=[2.5, 3.0], var_names=['theta', 'p'], fun_names=['fobj'], scaling=[5.0, 4], post_dir='./post', var_type=['REAL', 'REAL'], var_sets=None, constants=None, constants_name=None, Failure_stop=None, problem_name='unknown', best_known=None, constraints_type=None, function_weights=[1.0], h_max=0, RHO=5e-05, LAMBDA=[1e-18], name='undefined', nobj=1, meshType='ORTHO', fixed_variables=None, granularity=Point(_n=2, _coords=[0.0, 0.0], _defined=[True, True], _evaluated=False, _signature=-8458139203682520985, _dtype=DType(_prec='medium', _dtype=<class 'numpy.float64'>, _itype=<class 'numpy.int64'>, _zero=1e-15, _warned=False), _var_type=None, _sets=None, source='Current run', Model='Simulation'), minMeshSize=Point(_n=2, _coords=[1e-09, 1e-09], _defined=[True, True], _evaluated=False, _signature=-5809752760638955159, _dtype=DType(_prec='medium', _dtype=<class 'numpy.float64'>, _itype=<class 'numpy.int64'>, _zero=1e-15, _warned=False), _var_type=None, _sets=None, source='Current run', Model='Simulation'), minFrameSize=Point(_n=2, _coords=[1e-09, 1e-09], _defined=[True, True], _evaluated=False, _signature=-5809752760638955159, _dtype=DType(_prec='medium', _dtype=<class 'numpy.float64'>, _itype=<class 'numpy.int64'>, _zero=1e-15, _warned=False), _var_type=None, _sets=None, source='Current run', Model='Simulation'), initialMeshSize=Point(_n=2, _coords=[0.3535533905932738, 0.3535533905932738], _defined=[True, True], _evaluated=False, _signature=-8458139203682520985, _dtype=DType(_prec='medium', _dtype=<class 'numpy.float64'>, _itype=<class 'numpy.int64'>, _zero=1e-15, _warned=False), _var_type=None, _sets=None, source='Current run', Model='Simulation'), initialFrameSize=Point(_n=2, _coords=[0.5, 0.5], _defined=[True, True], _evaluated=False, _signature=-8458139203682520985, _dtype=DType(_prec='medium', _dtype=<class 'numpy.float64'>, _itype=<class 'numpy.int64'>, _zero=1e-15, _warned=False), _var_type=None, _sets=None, source='Current run', Model='Simulation'), warningInitialFrameSizeReset=True, x0=Point(_n=2, _coords=[-2.0, -2.0], _defined=[True, True], _evaluated=False, _signature=960947337673586213, _dtype=DType(_prec='medium', _dtype=<class 'numpy.float64'>, _itype=<class 'numpy.int64'>, _zero=1e-15, _warned=False), _var_type=None, _sets=None, source='Current run', Model='Simulation'), _initialized_and_checked=True, isPareto=False, incumbentincumbentSelectionParam=1, barrierInitializedFromCache=True), _rho=[549755813888.0, 549755813888.0], _dtype=DType(_prec='medium', _dtype=<class 'numpy.float64'>, _itype=<class 'numpy.int64'>, _zero=1e-15, _warned=False), _meshSize=Point(_n=2, _coords=[3.308722450212111e-24, 3.308722450212111e-24], _defined=[True, True], _evaluated=False, _signature=-8458139203682520985, _dtype=DType(_prec='medium', _dtype=<class 'numpy.float64'>, _itype=<class 'numpy.int64'>, _zero=1e-15, _warned=False), _var_type=None, _sets=None, source='Current run', Model='Simulation'), _frameSize=Point(_n=2, _coords=[1.8189894035458565e-12, 1.8189894035458565e-12], _defined=[True, True], _evaluated=False, _signature=8389048192121911274, _dtype=DType(_prec='medium', _dtype=<class 'numpy.float64'>, _itype=<class 'numpy.int64'>, _zero=1e-15, _warned=False), _var_type=None, _sets=None, source='Current run', Model='Simulation'), _exp=Point(_n=2, _coords=None, _defined=None, _evaluated=False, _signature=0, _dtype=DType(_prec='medium', _dtype=<class 'numpy.float64'>, _itype=<class 'numpy.int64'>, _zero=1e-15, _warned=False), _var_type=None, _sets=None, source='Current run', Model='Simulation'), _mantissa=Point(_n=2, _coords=None, _defined=None, _evaluated=False, _signature=0, _dtype=DType(_prec='medium', _dtype=<class 'numpy.float64'>, _itype=<class 'numpy.int64'>, _zero=1e-15, _warned=False), _var_type=None, _sets=None, source='Current run', Model='Simulation'), _maximumFrameSize=Point(_n=2, _coords=None, _defined=None, _evaluated=False, _signature=0, _dtype=DType(_prec='medium', _dtype=<class 'numpy.float64'>, _itype=<class 'numpy.int64'>, _zero=1e-15, _warned=False), _var_type=None, _sets=None, source='Current run', Model='Simulation'), successfulFrameSize=Point(_n=2, _coords=None, _defined=None, _evaluated=False, _signature=0, _dtype=DType(_prec='medium', _dtype=<class 'numpy.float64'>, _itype=<class 'numpy.int64'>, _zero=1e-15, _warned=False), _var_type=None, _sets=None, source='Current run', Model='Simulation')), _direction=Point(_n=2, _coords=[1.8189894035458564758e-12, 0.0], _defined=[True, True], _evaluated=False, _signature=13724444200266871, _dtype=DType(_prec='medium', _dtype=<class 'numpy.float64'>, _itype=<class 'numpy.int64'>, _zero=1e-15, _warned=False), _var_type=None, _sets=None, source='Current run', Model='Simulation'), _fs=Point(_n=1, _coords=[1.6783494628700931523e-21], _defined=[True], _evaluated=False, _signature=-5996299764656978088, _dtype=DType(_prec='medium', _dtype=<class 'numpy.float64'>, _itype=<class 'numpy.int64'>, _zero=1e-15, _warned=False), _var_type=None, _sets=None, source='Current run', Model='Simulation'), evalNo=345)], _poll_dirs=[[-1.8189894035458564758e-12, 0.0], [0.0, -2.2737367544323205948e-12], [0.0, 2.2737367544323205948e-12], [1.8189894035458564758e-12, 0.0]], _point_index=[0, 1, 2, 3, 0, 1, 2, 3, 0, 1, 2, 3, 0, 1, 2, 3, 0, 1, 2, 3, 0, 1, 2, 3, 0, 1, 2, 3, 0, 1, 2, 3, 0, 1, 2, 3, 0, 1, 2, 3, 0, 1, 2, 3, 0, 1, 2, 3, 0, 1, 2, 3, 0, 1, 2, 3, 0, 1, 2, 3, 0, 1, 2, 3, 0, 1, 2, 3, 0, 1, 2, 3, 0, 1, 2, 3, 0, 1, 2, 3, 0, 1, 2, 3, 0, 1, 2, 3, 0, 1, 2, 3, 0, 1, 2, 3, 0, 1, 2, 3, 0, 1, 2, 3, 0, 1, 2, 3, 0, 1, 2, 3, 0, 1, 2, 3, 0, 1, 2, 3, 0, 1, 2, 3, 0, 1, 2, 3, 0, 1, 2, 3, 0, 1, 2, 3, 0, 1, 2, 3, 0, 1, 2, 3, 0, 1, 2, 3, 0, 1, 2, 3, 0, 1, 2, 3, 0, 1, 2, 3, 0, 1, 2, 3, 0, 1, 2, 3, 0, 1, 2, 3, 0, 1, 2, 3, 0, 1, 2, 3, 0, 1, 2, 3, 0, 1, 2, 3, 0, 1, 2, 3, 0, 1, 2, 3, 0, 1, 2, 3, 0, 1, 2, 3, 0, 1, 2, 3, 0, 1, 2, 3, 0, 1, 2, 3, 0, 1, 2, 3, 0, 1, 2, 3, 0, 1, 2, 3, 0, 1, 2, 3, 0, 1, 2, 3, 0, 1, 2, 3, 0, 1, 2, 3, 0, 1, 2, 3, 0, 1, 2, 3, 0, 1, 2, 3, 0, 1, 2, 3, 0, 1, 2, 3, 0, 1, 2, 3, 0, 1, 2, 3, 0, 1, 2, 3, 0, 1, 2, 3, 0, 1, 2, 3, 0, 1, 2, 3, 0, 1, 2, 3, 0, 1, 2, 3, 0, 1, 2, 3, 0, 1, 2, 3, 0, 1, 2, 3, 0, 1, 2, 3, 0, 1, 2, 3, 0, 1, 2, 3, 0, 1, 2, 3, 0, 1, 2, 3, 0, 1, 2, 3, 0, 1, 2, 3, 0, 1, 2, 3, 0, 1, 2, 3], _n=2, _defined=[False], scaling=[[1.0, 0.0], [0.0, 1.25]], _xmin=CandidatePoint(_n=2, _coords=[1.0, 0.99999999999954525265], _defined=[True, True], _evaluated=True, _f=[2.0679515313825691872e-23], _freal=[2.0679515313825691872e-23], _c_ineq=[0], _c_eq=[], _h=9.999999999999999999e-37, _signature=4127939550467967751, _dtype=DType(_prec='high', _dtype=<class 'numpy.longdouble'>, _itype=<class 'numpy.int64'>, _zero=1e-18, _warned=False), _var_type=[<VAR_TYPE.REAL: 1>, <VAR_TYPE.REAL: 1>], _sets=None, _var_link=[None, None], _status=<DESIGN_STATUS.FEASIBLE: 1>, _constraints_type=[None], _is_EB_passed=True, _LAMBDA=[1e-18], _RHO=2.8574684782056876e-105, _hmax=9.999999999999999999e-37, _hmin=inf, Eval_time=9.508104994893074e-05, source='Current run', Model='Simulation', _hzero=None, _mesh=Omesh(_n=2, _initialMeshSize=Point(_n=2, _coords=[0.3535533905932738, 0.3535533905932738], _defined=[True, True], _evaluated=False, _signature=-8458139203682520985, _dtype=DType(_prec='medium', _dtype=<class 'numpy.float64'>, _itype=<class 'numpy.int64'>, _zero=1e-15, _warned=False), _var_type=None, _sets=None, source='Current run', Model='Simulation'), _initialFrameSize=Point(_n=2, _coords=[0.5, 0.5], _defined=[True, True], _evaluated=False, _signature=-8458139203682520985, _dtype=DType(_prec='medium', _dtype=<class 'numpy.float64'>, _itype=<class 'numpy.int64'>, _zero=1e-15, _warned=False), _var_type=None, _sets=None, source='Current run', Model='Simulation'), _minMeshSize=Point(_n=2, _coords=[1e-09, 1e-09], _defined=[True, True], _evaluated=False, _signature=-5809752760638955159, _dtype=DType(_prec='medium', _dtype=<class 'numpy.float64'>, _itype=<class 'numpy.int64'>, _zero=1e-15, _warned=False), _var_type=None, _sets=None, source='Current run', Model='Simulation'), _minFrameSize=Point(_n=2, _coords=[1e-09, 1e-09], _defined=[True, True], _evaluated=False, _signature=-5809752760638955159, _dtype=DType(_prec='medium', _dtype=<class 'numpy.float64'>, _itype=<class 'numpy.int64'>, _zero=1e-15, _warned=False), _var_type=None, _sets=None, source='Current run', Model='Simulation'), _lowerBound=Point(_n=2, _coords=[-2.5, -2.0], _defined=None, _evaluated=False, _signature=0, _dtype=DType(_prec='medium', _dtype=<class 'numpy.float64'>, _itype=<class 'numpy.int64'>, _zero=1e-15, _warned=False), _var_type=None, _sets=None, source='Current run', Model='Simulation'), _upperBound=Point(_n=2, _coords=[2.5, 3.0], _defined=None, _evaluated=False, _signature=0, _dtype=DType(_prec='medium', _dtype=<class 'numpy.float64'>, _itype=<class 'numpy.int64'>, _zero=1e-15, _warned=False), _var_type=None, _sets=None, source='Current run', Model='Simulation'), _isFinest=True, _r=Point(_n=2, _coords=[1, 1], _defined=[True, True], _evaluated=False, _signature=8389048192121911274, _dtype=DType(_prec='medium', _dtype=<class 'numpy.float64'>, _itype=<class 'numpy.int64'>, _zero=1e-15, _warned=False), _var_type=None, _sets=None, source='Current run', Model='Simulation'), _rMin=Point(_n=2, _coords=[1, 1], _defined=[True, True], _evaluated=False, _signature=8389048192121911274, _dtype=DType(_prec='medium', _dtype=<class 'numpy.float64'>, _itype=<class 'numpy.int64'>, _zero=1e-15, _warned=False), _var_type=None, _sets=None, source='Current run', Model='Simulation'), _rMax=Point(_n=2, _coords=[1, 1], _defined=[True, True], _evaluated=False, _signature=8389048192121911274, _dtype=DType(_prec='medium', _dtype=<class 'numpy.float64'>, _itype=<class 'numpy.int64'>, _zero=1e-15, _warned=False), _var_type=None, _sets=None, source='Current run', Model='Simulation'), _limitMinMeshIndex=-50, _limitMaxMeshIndex=50, _pbParams=Parameters(_n=2, baseline=[-2.0, -2.0], lb=[-2.5, -2.0], ub=[2.5, 3.0], var_names=['theta', 'p'], fun_names=['fobj'], scaling=[5.0, 4], post_dir='./post', var_type=['REAL', 'REAL'], var_sets=None, constants=None, constants_name=None, Failure_stop=None, problem_name='unknown', best_known=None, constraints_type=None, function_weights=[1.0], h_max=0, RHO=5e-05, LAMBDA=[1e-18], name='undefined', nobj=1, meshType='ORTHO', fixed_variables=None, granularity=Point(_n=2, _coords=[0.0, 0.0], _defined=[True, True], _evaluated=False, _signature=-8458139203682520985, _dtype=DType(_prec='medium', _dtype=<class 'numpy.float64'>, _itype=<class 'numpy.int64'>, _zero=1e-15, _warned=False), _var_type=None, _sets=None, source='Current run', Model='Simulation'), minMeshSize=Point(_n=2, _coords=[1e-09, 1e-09], _defined=[True, True], _evaluated=False, _signature=-5809752760638955159, _dtype=DType(_prec='medium', _dtype=<class 'numpy.float64'>, _itype=<class 'numpy.int64'>, _zero=1e-15, _warned=False), _var_type=None, _sets=None, source='Current run', Model='Simulation'), minFrameSize=Point(_n=2, _coords=[1e-09, 1e-09], _defined=[True, True], _evaluated=False, _signature=-5809752760638955159, _dtype=DType(_prec='medium', _dtype=<class 'numpy.float64'>, _itype=<class 'numpy.int64'>, _zero=1e-15, _warned=False), _var_type=None, _sets=None, source='Current run', Model='Simulation'), initialMeshSize=Point(_n=2, _coords=[0.3535533905932738, 0.3535533905932738], _defined=[True, True], _evaluated=False, _signature=-8458139203682520985, _dtype=DType(_prec='medium', _dtype=<class 'numpy.float64'>, _itype=<class 'numpy.int64'>, _zero=1e-15, _warned=False), _var_type=None, _sets=None, source='Current run', Model='Simulation'), initialFrameSize=Point(_n=2, _coords=[0.5, 0.5], _defined=[True, True], _evaluated=False, _signature=-8458139203682520985, _dtype=DType(_prec='medium', _dtype=<class 'numpy.float64'>, _itype=<class 'numpy.int64'>, _zero=1e-15, _warned=False), _var_type=None, _sets=None, source='Current run', Model='Simulation'), warningInitialFrameSizeReset=True, x0=Point(_n=2, _coords=[-2.0, -2.0], _defined=[True, True], _evaluated=False, _signature=960947337673586213, _dtype=DType(_prec='medium', _dtype=<class 'numpy.float64'>, _itype=<class 'numpy.int64'>, _zero=1e-15, _warned=False), _var_type=None, _sets=None, source='Current run', Model='Simulation'), _initialized_and_checked=True, isPareto=False, incumbentincumbentSelectionParam=1, barrierInitializedFromCache=True), _rho=[549755813888.0, 549755813888.0], _dtype=DType(_prec='medium', _dtype=<class 'numpy.float64'>, _itype=<class 'numpy.int64'>, _zero=1e-15, _warned=False), _meshSize=Point(_n=2, _coords=[3.308722450212111e-24, 3.308722450212111e-24], _defined=[True, True], _evaluated=False, _signature=-8458139203682520985, _dtype=DType(_prec='medium', _dtype=<class 'numpy.float64'>, _itype=<class 'numpy.int64'>, _zero=1e-15, _warned=False), _var_type=None, _sets=None, source='Current run', Model='Simulation'), _frameSize=Point(_n=2, _coords=[1.8189894035458565e-12, 1.8189894035458565e-12], _defined=[True, True], _evaluated=False, _signature=8389048192121911274, _dtype=DType(_prec='medium', _dtype=<class 'numpy.float64'>, _itype=<class 'numpy.int64'>, _zero=1e-15, _warned=False), _var_type=None, _sets=None, source='Current run', Model='Simulation'), _exp=Point(_n=2, _coords=None, _defined=None, _evaluated=False, _signature=0, _dtype=DType(_prec='medium', _dtype=<class 'numpy.float64'>, _itype=<class 'numpy.int64'>, _zero=1e-15, _warned=False), _var_type=None, _sets=None, source='Current run', Model='Simulation'), _mantissa=Point(_n=2, _coords=None, _defined=None, _evaluated=False, _signature=0, _dtype=DType(_prec='medium', _dtype=<class 'numpy.float64'>, _itype=<class 'numpy.int64'>, _zero=1e-15, _warned=False), _var_type=None, _sets=None, source='Current run', Model='Simulation'), _maximumFrameSize=Point(_n=2, _coords=None, _defined=None, _evaluated=False, _signature=0, _dtype=DType(_prec='medium', _dtype=<class 'numpy.float64'>, _itype=<class 'numpy.int64'>, _zero=1e-15, _warned=False), _var_type=None, _sets=None, source='Current run', Model='Simulation'), successfulFrameSize=Point(_n=2, _coords=None, _defined=None, _evaluated=False, _signature=0, _dtype=DType(_prec='medium', _dtype=<class 'numpy.float64'>, _itype=<class 'numpy.int64'>, _zero=1e-15, _warned=False), _var_type=None, _sets=None, source='Current run', Model='Simulation')), _direction=Point(_n=2, _coords=[0.0, -2.2737367544323205948e-12], _defined=[True, True], _evaluated=False, _signature=5536735849576336132, _dtype=DType(_prec='medium', _dtype=<class 'numpy.float64'>, _itype=<class 'numpy.int64'>, _zero=1e-15, _warned=False), _var_type=None, _sets=None, source='Current run', Model='Simulation'), _fs=Point(_n=1, _coords=[2.0679515313825691872e-23], _defined=[True], _evaluated=False, _signature=7183555778801229656, _dtype=DType(_prec='medium', _dtype=<class 'numpy.float64'>, _itype=<class 'numpy.int64'>, _zero=1e-15, _warned=False), _var_type=None, _sets=None, source='Current run', Model='Simulation'), evalNo=335), _x_sc=CandidatePoint(_n=0, _coords=[], _defined=[False], _evaluated=False, _f=[inf], _freal=[inf], _c_ineq=[], _c_eq=[], _h=inf, _signature=0, _dtype=DType(_prec='medium', _dtype=<class 'numpy.float64'>, _itype=<class 'numpy.int64'>, _zero=1e-15, _warned=False), _var_type=None, _sets=None, _var_link=None, _status=<DESIGN_STATUS.UNEVALUATED: 4>, _constraints_type=None, _is_EB_passed=False, _LAMBDA=None, _RHO=5e-05, _hmax=1.0, _hmin=inf, Eval_time=0.0, source='Current run', Model='Simulation', _hzero=None, _mesh=Omesh(_n=2, _initialMeshSize=Point(_n=2, _coords=[0.3535533905932738, 0.3535533905932738], _defined=[True, True], _evaluated=False, _signature=-8458139203682520985, _dtype=DType(_prec='medium', _dtype=<class 'numpy.float64'>, _itype=<class 'numpy.int64'>, _zero=1e-15, _warned=False), _var_type=None, _sets=None, source='Current run', Model='Simulation'), _initialFrameSize=Point(_n=2, _coords=[0.5, 0.5], _defined=[True, True], _evaluated=False, _signature=-8458139203682520985, _dtype=DType(_prec='medium', _dtype=<class 'numpy.float64'>, _itype=<class 'numpy.int64'>, _zero=1e-15, _warned=False), _var_type=None, _sets=None, source='Current run', Model='Simulation'), _minMeshSize=Point(_n=2, _coords=[1e-09, 1e-09], _defined=[True, True], _evaluated=False, _signature=-5809752760638955159, _dtype=DType(_prec='medium', _dtype=<class 'numpy.float64'>, _itype=<class 'numpy.int64'>, _zero=1e-15, _warned=False), _var_type=None, _sets=None, source='Current run', Model='Simulation'), _minFrameSize=Point(_n=2, _coords=[1e-09, 1e-09], _defined=[True, True], _evaluated=False, _signature=-5809752760638955159, _dtype=DType(_prec='medium', _dtype=<class 'numpy.float64'>, _itype=<class 'numpy.int64'>, _zero=1e-15, _warned=False), _var_type=None, _sets=None, source='Current run', Model='Simulation'), _lowerBound=Point(_n=2, _coords=[-2.5, -2.0], _defined=None, _evaluated=False, _signature=0, _dtype=DType(_prec='medium', _dtype=<class 'numpy.float64'>, _itype=<class 'numpy.int64'>, _zero=1e-15, _warned=False), _var_type=None, _sets=None, source='Current run', Model='Simulation'), _upperBound=Point(_n=2, _coords=[2.5, 3.0], _defined=None, _evaluated=False, _signature=0, _dtype=DType(_prec='medium', _dtype=<class 'numpy.float64'>, _itype=<class 'numpy.int64'>, _zero=1e-15, _warned=False), _var_type=None, _sets=None, source='Current run', Model='Simulation'), _isFinest=True, _r=Point(_n=2, _coords=[1, 1], _defined=[True, True], _evaluated=False, _signature=8389048192121911274, _dtype=DType(_prec='medium', _dtype=<class 'numpy.float64'>, _itype=<class 'numpy.int64'>, _zero=1e-15, _warned=False), _var_type=None, _sets=None, source='Current run', Model='Simulation'), _rMin=Point(_n=2, _coords=[1, 1], _defined=[True, True], _evaluated=False, _signature=8389048192121911274, _dtype=DType(_prec='medium', _dtype=<class 'numpy.float64'>, _itype=<class 'numpy.int64'>, _zero=1e-15, _warned=False), _var_type=None, _sets=None, source='Current run', Model='Simulation'), _rMax=Point(_n=2, _coords=[1, 1], _defined=[True, True], _evaluated=False, _signature=8389048192121911274, _dtype=DType(_prec='medium', _dtype=<class 'numpy.float64'>, _itype=<class 'numpy.int64'>, _zero=1e-15, _warned=False), _var_type=None, _sets=None, source='Current run', Model='Simulation'), _limitMinMeshIndex=-50, _limitMaxMeshIndex=50, _pbParams=Parameters(_n=2, baseline=[-2.0, -2.0], lb=[-2.5, -2.0], ub=[2.5, 3.0], var_names=['theta', 'p'], fun_names=['fobj'], scaling=[5.0, 4], post_dir='./post', var_type=['REAL', 'REAL'], var_sets=None, constants=None, constants_name=None, Failure_stop=None, problem_name='unknown', best_known=None, constraints_type=None, function_weights=[1.0], h_max=0, RHO=5e-05, LAMBDA=[0.0], name='undefined', nobj=1, meshType='ORTHO', fixed_variables=None, granularity=Point(_n=2, _coords=[0.0, 0.0], _defined=[True, True], _evaluated=False, _signature=-8458139203682520985, _dtype=DType(_prec='medium', _dtype=<class 'numpy.float64'>, _itype=<class 'numpy.int64'>, _zero=1e-15, _warned=False), _var_type=None, _sets=None, source='Current run', Model='Simulation'), minMeshSize=Point(_n=2, _coords=[1e-09, 1e-09], _defined=[True, True], _evaluated=False, _signature=-5809752760638955159, _dtype=DType(_prec='medium', _dtype=<class 'numpy.float64'>, _itype=<class 'numpy.int64'>, _zero=1e-15, _warned=False), _var_type=None, _sets=None, source='Current run', Model='Simulation'), minFrameSize=Point(_n=2, _coords=[1e-09, 1e-09], _defined=[True, True], _evaluated=False, _signature=-5809752760638955159, _dtype=DType(_prec='medium', _dtype=<class 'numpy.float64'>, _itype=<class 'numpy.int64'>, _zero=1e-15, _warned=False), _var_type=None, _sets=None, source='Current run', Model='Simulation'), initialMeshSize=Point(_n=2, _coords=[0.3535533905932738, 0.3535533905932738], _defined=[True, True], _evaluated=False, _signature=-8458139203682520985, _dtype=DType(_prec='medium', _dtype=<class 'numpy.float64'>, _itype=<class 'numpy.int64'>, _zero=1e-15, _warned=False), _var_type=None, _sets=None, source='Current run', Model='Simulation'), initialFrameSize=Point(_n=2, _coords=[0.5, 0.5], _defined=[True, True], _evaluated=False, _signature=-8458139203682520985, _dtype=DType(_prec='medium', _dtype=<class 'numpy.float64'>, _itype=<class 'numpy.int64'>, _zero=1e-15, _warned=False), _var_type=None, _sets=None, source='Current run', Model='Simulation'), warningInitialFrameSizeReset=True, x0=Point(_n=2, _coords=[-2.0, -2.0], _defined=[True, True], _evaluated=False, _signature=960947337673586213, _dtype=DType(_prec='medium', _dtype=<class 'numpy.float64'>, _itype=<class 'numpy.int64'>, _zero=1e-15, _warned=False), _var_type=None, _sets=None, source='Current run', Model='Simulation'), _initialized_and_checked=True, isPareto=False, incumbentincumbentSelectionParam=1, barrierInitializedFromCache=True), _rho=[1.0, 1.0], _dtype=DType(_prec='medium', _dtype=<class 'numpy.float64'>, _itype=<class 'numpy.int64'>, _zero=1e-15, _warned=False), _meshSize=Point(_n=2, _coords=[1.0, 1.0], _defined=[True, True], _evaluated=False, _signature=-8458139203682520985, _dtype=DType(_prec='medium', _dtype=<class 'numpy.float64'>, _itype=<class 'numpy.int64'>, _zero=1e-15, _warned=False), _var_type=None, _sets=None, source='Current run', Model='Simulation'), _frameSize=Point(_n=2, _coords=[1.0, 1.0], _defined=[True, True], _evaluated=False, _signature=8389048192121911274, _dtype=DType(_prec='medium', _dtype=<class 'numpy.float64'>, _itype=<class 'numpy.int64'>, _zero=1e-15, _warned=False), _var_type=None, _sets=None, source='Current run', Model='Simulation'), _exp=Point(_n=2, _coords=None, _defined=None, _evaluated=False, _signature=0, _dtype=DType(_prec='medium', _dtype=<class 'numpy.float64'>, _itype=<class 'numpy.int64'>, _zero=1e-15, _warned=False), _var_type=None, _sets=None, source='Current run', Model='Simulation'), _mantissa=Point(_n=2, _coords=None, _defined=None, _evaluated=False, _signature=0, _dtype=DType(_prec='medium', _dtype=<class 'numpy.float64'>, _itype=<class 'numpy.int64'>, _zero=1e-15, _warned=False), _var_type=None, _sets=None, source='Current run', Model='Simulation'), _maximumFrameSize=Point(_n=2, _coords=None, _defined=None, _evaluated=False, _signature=0, _dtype=DType(_prec='medium', _dtype=<class 'numpy.float64'>, _itype=<class 'numpy.int64'>, _zero=1e-15, _warned=False), _var_type=None, _sets=None, source='Current run', Model='Simulation'), successfulFrameSize=Point(_n=2, _coords=None, _defined=None, _evaluated=False, _signature=0, _dtype=DType(_prec='medium', _dtype=<class 'numpy.float64'>, _itype=<class 'numpy.int64'>, _zero=1e-15, _warned=False), _var_type=None, _sets=None, source='Current run', Model='Simulation')), _direction=None, _fs=None, evalNo=0), _nb_success=26, _bb_eval=345, _psize=[1.8189894035458565e-12, 1.8189894035458565e-12], _iter=86, hashtable=Cache(_hash_ID=[], _best_hash_ID=[], _cache_dict={}, _n_dim=2, _isPareto=False, ND_points=None), _check_cache=False, _display=True, _store_cache=False, mesh=Omesh(_n=2, _initialMeshSize=Point(_n=2, _coords=[0.3535533905932738, 0.3535533905932738], _defined=[True, True], _evaluated=False, _signature=-8458139203682520985, _dtype=DType(_prec='medium', _dtype=<class 'numpy.float64'>, _itype=<class 'numpy.int64'>, _zero=1e-15, _warned=False), _var_type=None, _sets=None, source='Current run', Model='Simulation'), _initialFrameSize=Point(_n=2, _coords=[0.5, 0.5], _defined=[True, True], _evaluated=False, _signature=-8458139203682520985, _dtype=DType(_prec='medium', _dtype=<class 'numpy.float64'>, _itype=<class 'numpy.int64'>, _zero=1e-15, _warned=False), _var_type=None, _sets=None, source='Current run', Model='Simulation'), _minMeshSize=Point(_n=2, _coords=[1e-09, 1e-09], _defined=[True, True], _evaluated=False, _signature=-5809752760638955159, _dtype=DType(_prec='medium', _dtype=<class 'numpy.float64'>, _itype=<class 'numpy.int64'>, _zero=1e-15, _warned=False), _var_type=None, _sets=None, source='Current run', Model='Simulation'), _minFrameSize=Point(_n=2, _coords=[1e-09, 1e-09], _defined=[True, True], _evaluated=False, _signature=-5809752760638955159, _dtype=DType(_prec='medium', _dtype=<class 'numpy.float64'>, _itype=<class 'numpy.int64'>, _zero=1e-15, _warned=False), _var_type=None, _sets=None, source='Current run', Model='Simulation'), _lowerBound=Point(_n=2, _coords=[-2.5, -2.0], _defined=None, _evaluated=False, _signature=0, _dtype=DType(_prec='medium', _dtype=<class 'numpy.float64'>, _itype=<class 'numpy.int64'>, _zero=1e-15, _warned=False), _var_type=None, _sets=None, source='Current run', Model='Simulation'), _upperBound=Point(_n=2, _coords=[2.5, 3.0], _defined=None, _evaluated=False, _signature=0, _dtype=DType(_prec='medium', _dtype=<class 'numpy.float64'>, _itype=<class 'numpy.int64'>, _zero=1e-15, _warned=False), _var_type=None, _sets=None, source='Current run', Model='Simulation'), _isFinest=True, _r=Point(_n=2, _coords=[1, 1], _defined=[True, True], _evaluated=False, _signature=8389048192121911274, _dtype=DType(_prec='medium', _dtype=<class 'numpy.float64'>, _itype=<class 'numpy.int64'>, _zero=1e-15, _warned=False), _var_type=None, _sets=None, source='Current run', Model='Simulation'), _rMin=Point(_n=2, _coords=[1, 1], _defined=[True, True], _evaluated=False, _signature=8389048192121911274, _dtype=DType(_prec='medium', _dtype=<class 'numpy.float64'>, _itype=<class 'numpy.int64'>, _zero=1e-15, _warned=False), _var_type=None, _sets=None, source='Current run', Model='Simulation'), _rMax=Point(_n=2, _coords=[1, 1], _defined=[True, True], _evaluated=False, _signature=8389048192121911274, _dtype=DType(_prec='medium', _dtype=<class 'numpy.float64'>, _itype=<class 'numpy.int64'>, _zero=1e-15, _warned=False), _var_type=None, _sets=None, source='Current run', Model='Simulation'), _limitMinMeshIndex=-50, _limitMaxMeshIndex=50, _pbParams=Parameters(_n=2, baseline=[-2.0, -2.0], lb=[-2.5, -2.0], ub=[2.5, 3.0], var_names=['theta', 'p'], fun_names=['fobj'], scaling=[5.0, 4], post_dir='./post', var_type=['REAL', 'REAL'], var_sets=None, constants=None, constants_name=None, Failure_stop=None, problem_name='unknown', best_known=None, constraints_type=None, function_weights=[1.0], h_max=0, RHO=5e-05, LAMBDA=[1e-18], name='undefined', nobj=1, meshType='ORTHO', fixed_variables=None, granularity=Point(_n=2, _coords=[0.0, 0.0], _defined=[True, True], _evaluated=False, _signature=-8458139203682520985, _dtype=DType(_prec='medium', _dtype=<class 'numpy.float64'>, _itype=<class 'numpy.int64'>, _zero=1e-15, _warned=False), _var_type=None, _sets=None, source='Current run', Model='Simulation'), minMeshSize=Point(_n=2, _coords=[1e-09, 1e-09], _defined=[True, True], _evaluated=False, _signature=-5809752760638955159, _dtype=DType(_prec='medium', _dtype=<class 'numpy.float64'>, _itype=<class 'numpy.int64'>, _zero=1e-15, _warned=False), _var_type=None, _sets=None, source='Current run', Model='Simulation'), minFrameSize=Point(_n=2, _coords=[1e-09, 1e-09], _defined=[True, True], _evaluated=False, _signature=-5809752760638955159, _dtype=DType(_prec='medium', _dtype=<class 'numpy.float64'>, _itype=<class 'numpy.int64'>, _zero=1e-15, _warned=False), _var_type=None, _sets=None, source='Current run', Model='Simulation'), initialMeshSize=Point(_n=2, _coords=[0.3535533905932738, 0.3535533905932738], _defined=[True, True], _evaluated=False, _signature=-8458139203682520985, _dtype=DType(_prec='medium', _dtype=<class 'numpy.float64'>, _itype=<class 'numpy.int64'>, _zero=1e-15, _warned=False), _var_type=None, _sets=None, source='Current run', Model='Simulation'), initialFrameSize=Point(_n=2, _coords=[0.5, 0.5], _defined=[True, True], _evaluated=False, _signature=-8458139203682520985, _dtype=DType(_prec='medium', _dtype=<class 'numpy.float64'>, _itype=<class 'numpy.int64'>, _zero=1e-15, _warned=False), _var_type=None, _sets=None, source='Current run', Model='Simulation'), warningInitialFrameSizeReset=True, x0=Point(_n=2, _coords=[-2.0, -2.0], _defined=[True, True], _evaluated=False, _signature=960947337673586213, _dtype=DType(_prec='medium', _dtype=<class 'numpy.float64'>, _itype=<class 'numpy.int64'>, _zero=1e-15, _warned=False), _var_type=None, _sets=None, source='Current run', Model='Simulation'), _initialized_and_checked=True, isPareto=False, incumbentincumbentSelectionParam=1, barrierInitializedFromCache=True), _rho=[1099511627776.0, 1099511627776.0], _dtype=DType(_prec='medium', _dtype=<class 'numpy.float64'>, _itype=<class 'numpy.int64'>, _zero=1e-15, _warned=False), _meshSize=Point(_n=2, _coords=[8.271806125530277e-25, 8.271806125530277e-25], _defined=[True, True], _evaluated=False, _signature=-8458139203682520985, _dtype=DType(_prec='medium', _dtype=<class 'numpy.float64'>, _itype=<class 'numpy.int64'>, _zero=1e-15, _warned=False), _var_type=None, _sets=None, source='Current run', Model='Simulation'), _frameSize=Point(_n=2, _coords=[9.094947017729282e-13, 9.094947017729282e-13], _defined=[True, True], _evaluated=False, _signature=8389048192121911274, _dtype=DType(_prec='medium', _dtype=<class 'numpy.float64'>, _itype=<class 'numpy.int64'>, _zero=1e-15, _warned=False), _var_type=None, _sets=None, source='Current run', Model='Simulation'), _exp=Point(_n=2, _coords=None, _defined=None, _evaluated=False, _signature=0, _dtype=DType(_prec='medium', _dtype=<class 'numpy.float64'>, _itype=<class 'numpy.int64'>, _zero=1e-15, _warned=False), _var_type=None, _sets=None, source='Current run', Model='Simulation'), _mantissa=Point(_n=2, _coords=None, _defined=None, _evaluated=False, _signature=0, _dtype=DType(_prec='medium', _dtype=<class 'numpy.float64'>, _itype=<class 'numpy.int64'>, _zero=1e-15, _warned=False), _var_type=None, _sets=None, source='Current run', Model='Simulation'), _maximumFrameSize=Point(_n=2, _coords=None, _defined=None, _evaluated=False, _signature=0, _dtype=DType(_prec='medium', _dtype=<class 'numpy.float64'>, _itype=<class 'numpy.int64'>, _zero=1e-15, _warned=False), _var_type=None, _sets=None, source='Current run', Model='Simulation'), successfulFrameSize=Point(_n=2, _coords=None, _defined=None, _evaluated=False, _signature=0, _dtype=DType(_prec='medium', _dtype=<class 'numpy.float64'>, _itype=<class 'numpy.int64'>, _zero=1e-15, _warned=False), _var_type=None, _sets=None, source='Current run', Model='Simulation')), _opportunistic=False, _eval_budget=100000, _dtype=DType(_prec='high', _dtype=<class 'numpy.longdouble'>, _itype=<class 'numpy.int64'>, _zero=1e-18, _warned=False), bb_handle=Evaluator(blackbox=<function rosen at 0x7aa252f6dea0>, commandOptions=None, internal=None, path='..\\\\tests\\\\Rosen', input='input.inp', output='output.out', constants=None, bb_eval=345, _dtype=DType(_prec='high', _dtype=<class 'numpy.longdouble'>, _itype=<class 'numpy.int64'>, _zero=1e-18, _warned=False), timeout=1000000.0), _success=<SUCCESS_TYPES.US: 1>, _seed=0, _terminate=False, _bb_output=[1.6783494628700931523e-21, [0]], Failure_stop=None, RHO=1.3952482803738709e-108, LAMBDA=[1e-18], hmax=9.999999999999999999e-37, log=logger(log=<RootLogger root (DEBUG)>, isVerbose=False), n_successes=26))"
      ]
     },
     "execution_count": 16,
     "metadata": {},
     "output_type": "execute_result"
    }
   ],
   "source": [
    "from OMADS import POLL, SEARCH, MADS\n",
    "from typing import Callable\n",
    "\n",
    "def rosen(x):\n",
    "   x = np.asarray(x)\n",
    "   y = [np.sum(100.0 * (x[1:] - x[:-1] ** 2.0) ** 2.0 + (1 - x[:-1]) ** 2.0,\n",
    "         axis=0), [0]]\n",
    "   return y\n",
    "\n",
    "x0 = [-2.0,-2.0]\n",
    "fun: Callable = rosen\n",
    "eval = {\"blackbox\": fun}\n",
    "param = {\"baseline\": x0,\n",
    "            \"lb\": [-2.5, 1.],\n",
    "            \"ub\": [2.5, 3.],\n",
    "            \"var_names\": [\"theta\", \"p\"],\n",
    "            \"scaling\": [5.0, 4],\n",
    "            \"post_dir\": \"./post\"}\n",
    "options = {\"seed\": 0, \"budget\": 100000, \"tol\": 1e-12, \"display\": True}\n",
    "\n",
    "data = {\"evaluator\": eval, \"param\": param, \"options\": options}\n",
    "\n",
    "POLL.main(data)"
   ]
  },
  {
   "cell_type": "code",
   "execution_count": 134,
   "metadata": {},
   "outputs": [],
   "source": [
    "class MADS:\n",
    "    def __init__(self, x0, bounds, delta=1.0, tol=1e-6, max_iter=100):\n",
    "        self.x = np.array(x0)\n",
    "        self.bounds = np.array(bounds)\n",
    "        self.delta = delta\n",
    "        self.delta_min = tol\n",
    "        self.max_iter = max_iter\n",
    "        self.iteration = 0\n",
    "        self.history = []\n",
    "        self.waiting_for_reward = False\n",
    "        self.last_trial = None\n",
    "        self.trial_points = self.get_trial_points()\n",
    "    \n",
    "    def get_trial_points(self):  \n",
    "        trial_points = []  \n",
    "        for i in range(len(self.x)):\n",
    "            for direction in [-1, 1]:\n",
    "                x_new = self.x.copy()\n",
    "                x_new[i] += direction * self.delta\n",
    "                x_new = np.clip(x_new, self.bounds[:, 0], self.bounds[:, 1])\n",
    "                trial_points.append(x_new) \n",
    "        return trial_points\n",
    "    \n",
    "    def step(self, reward=None):\n",
    "        \"\"\" Perform one step of MADS. Provide reward when available. \"\"\"\n",
    "        if self.waiting_for_reward:\n",
    "            if reward is None:\n",
    "                raise ValueError(\"Reward must be provided for the last trial step.\")\n",
    "            \n",
    "            print(f\"Step {self.iteration}: Received reward = {reward}\")\n",
    "            self.history.append((self.x.copy(), reward)) \n",
    "            \n",
    "            # Accept the trial point if the reward is better\n",
    "            # print(\"min([i[1] for i in self.history])\", min([i[1] for i in self.history]))\n",
    "            if reward < min([i[1] for i in self.history]):\n",
    "                self.x = self.last_trial\n",
    "                \n",
    "\n",
    "                \n",
    "            self.waiting_for_reward = False\n",
    "        if len(self.trial_points)>0:\n",
    "            self.last_trial = self.trial_points.pop(0)\n",
    "        else:\n",
    "            self.trial_points = self.get_trial_points()\n",
    "            self.last_trial = self.trial_points.pop(0)\n",
    "            self.delta /=2\n",
    "        self.waiting_for_reward = True\n",
    "        self.iteration += 1\n",
    "        return self.last_trial"
   ]
  },
  {
   "cell_type": "code",
   "execution_count": 135,
   "metadata": {},
   "outputs": [],
   "source": [
    "# Example usage:\n",
    "bounds = [(0, 10), (10, 20), (0, 3)]\n",
    "x0 = [2, 12, 1]"
   ]
  },
  {
   "cell_type": "code",
   "execution_count": 136,
   "metadata": {},
   "outputs": [],
   "source": [
    "mads = MADS(x0, bounds)"
   ]
  },
  {
   "cell_type": "code",
   "execution_count": 137,
   "metadata": {},
   "outputs": [],
   "source": [
    "def obj_func(x_next):\n",
    "    return (x_next[0] - 0.5)**2 + (x_next[1] - 15)**2 + (x_next[2] - 1.5)**2"
   ]
  },
  {
   "cell_type": "code",
   "execution_count": 138,
   "metadata": {},
   "outputs": [
    {
     "name": "stdout",
     "output_type": "stream",
     "text": [
      "x [ 1 12  1]\n",
      "Step 1: Received reward = 9.5\n",
      "x [ 3 12  1]\n",
      "Step 2: Received reward = 15.5\n",
      "x [ 2 11  1]\n",
      "Step 3: Received reward = 18.5\n",
      "x [ 2 13  1]\n",
      "Step 4: Received reward = 6.5\n",
      "x [ 2 12  0]\n",
      "Step 5: Received reward = 13.5\n",
      "x [ 2 12  2]\n",
      "Step 6: Received reward = 11.5\n",
      "x [ 1 12  1]\n",
      "Step 7: Received reward = 9.5\n",
      "x [ 3 12  1]\n",
      "Step 8: Received reward = 15.5\n",
      "x [ 2 11  1]\n",
      "Step 9: Received reward = 18.5\n",
      "x [ 2 13  1]\n",
      "Step 10: Received reward = 6.5\n",
      "x [ 2 12  0]\n",
      "Step 11: Received reward = 13.5\n",
      "x [ 2 12  2]\n",
      "Step 12: Received reward = 11.5\n",
      "x [ 1 12  1]\n",
      "Step 13: Received reward = 9.5\n",
      "x [ 2 12  1]\n",
      "Step 14: Received reward = 11.5\n",
      "x [ 2 11  1]\n",
      "Step 15: Received reward = 18.5\n",
      "x [ 2 12  1]\n",
      "Step 16: Received reward = 11.5\n",
      "x [ 2 12  0]\n",
      "Step 17: Received reward = 13.5\n",
      "x [ 2 12  1]\n",
      "Step 18: Received reward = 11.5\n",
      "x [ 1 12  1]\n",
      "Step 19: Received reward = 9.5\n",
      "x [ 2 12  1]\n"
     ]
    }
   ],
   "source": [
    "x = x0\n",
    "for i in range(20):\n",
    "    x = mads.step(obj_func(x))\n",
    "    print(\"x\", x)\n",
    "    # print(\"trial_points\", mads.trial_points)\n",
    "    # print(\"x\", mads.x)\n",
    "    # print(\"history\", mads.history)"
   ]
  },
  {
   "cell_type": "code",
   "execution_count": 50,
   "metadata": {},
   "outputs": [
    {
     "name": "stdout",
     "output_type": "stream",
     "text": [
      "Step 1: Received reward = 21.5\n"
     ]
    },
    {
     "data": {
      "text/plain": [
       "array([ 6, 12,  1])"
      ]
     },
     "execution_count": 50,
     "metadata": {},
     "output_type": "execute_result"
    }
   ],
   "source": [
    "mads.step(obj_func([4,12,1]))"
   ]
  },
  {
   "cell_type": "code",
   "execution_count": 51,
   "metadata": {},
   "outputs": [
    {
     "name": "stdout",
     "output_type": "stream",
     "text": [
      "Step 2: Received reward = 39.5\n"
     ]
    },
    {
     "data": {
      "text/plain": [
       "array([ 5, 11,  1])"
      ]
     },
     "execution_count": 51,
     "metadata": {},
     "output_type": "execute_result"
    }
   ],
   "source": [
    "mads.step(obj_func([ 6, 12,  1]))"
   ]
  },
  {
   "cell_type": "code",
   "execution_count": 53,
   "metadata": {},
   "outputs": [
    {
     "name": "stdout",
     "output_type": "stream",
     "text": [
      "Step 3: Received reward = 36.5\n"
     ]
    },
    {
     "data": {
      "text/plain": [
       "array([ 5, 13,  1])"
      ]
     },
     "execution_count": 53,
     "metadata": {},
     "output_type": "execute_result"
    }
   ],
   "source": [
    "mads.step(obj_func([ 5, 11,  1]))"
   ]
  },
  {
   "cell_type": "code",
   "execution_count": 54,
   "metadata": {},
   "outputs": [
    {
     "name": "stdout",
     "output_type": "stream",
     "text": [
      "Step 4: Received reward = 24.5\n"
     ]
    },
    {
     "data": {
      "text/plain": [
       "array([ 5, 12,  0])"
      ]
     },
     "execution_count": 54,
     "metadata": {},
     "output_type": "execute_result"
    }
   ],
   "source": [
    "mads.step(obj_func([ 5, 13,  1]))"
   ]
  },
  {
   "cell_type": "code",
   "execution_count": null,
   "metadata": {},
   "outputs": [],
   "source": [
    "while True:\n",
    "    x_next = mads.get_next_trial()\n",
    "    print(\"x_next\",x_next)\n",
    "    if x_next is None:\n",
    "        break\n",
    "    \n",
    "    # Simulate delayed function evaluation\n",
    "    reward = (x_next[0] - 0.5)**2 + (x_next[1] - 15)**2 + (x_next[2] - 1.5)**2\n",
    "    print(reward)\n",
    "    mads.update_with_reward(reward)"
   ]
  },
  {
   "cell_type": "code",
   "execution_count": 1,
   "metadata": {},
   "outputs": [],
   "source": [
    "a = [1,2,3]"
   ]
  },
  {
   "cell_type": "code",
   "execution_count": 2,
   "metadata": {},
   "outputs": [
    {
     "data": {
      "text/plain": [
       "3"
      ]
     },
     "execution_count": 2,
     "metadata": {},
     "output_type": "execute_result"
    }
   ],
   "source": [
    "a.pop()"
   ]
  },
  {
   "cell_type": "code",
   "execution_count": 3,
   "metadata": {},
   "outputs": [
    {
     "data": {
      "text/plain": [
       "array([[1., 0., 0., 0., 0.],\n",
       "       [0., 1., 0., 0., 0.],\n",
       "       [0., 0., 1., 0., 0.],\n",
       "       [0., 0., 0., 1., 0.],\n",
       "       [0., 0., 0., 0., 1.]])"
      ]
     },
     "execution_count": 3,
     "metadata": {},
     "output_type": "execute_result"
    }
   ],
   "source": [
    "np.eye(5)"
   ]
  },
  {
   "cell_type": "code",
   "execution_count": 4,
   "metadata": {},
   "outputs": [],
   "source": [
    "x = [ 0.9, 19.,   0. ]\n",
    "mesh_size = 1\n",
    "directions = np.eye(len(x))"
   ]
  },
  {
   "cell_type": "code",
   "execution_count": 5,
   "metadata": {},
   "outputs": [],
   "source": [
    "candidates = [x + mesh_size * d for d in directions] + [x - mesh_size * d for d in directions]"
   ]
  },
  {
   "cell_type": "code",
   "execution_count": 55,
   "metadata": {},
   "outputs": [
    {
     "data": {
      "text/plain": [
       "[array([ 1.9, 19. ,  0. ]),\n",
       " array([ 0.9, 20. ,  0. ]),\n",
       " array([ 0.9, 19. ,  1. ]),\n",
       " array([-0.1, 19. ,  0. ]),\n",
       " array([ 0.9, 18. ,  0. ]),\n",
       " array([ 0.9, 19. , -1. ])]"
      ]
     },
     "execution_count": 55,
     "metadata": {},
     "output_type": "execute_result"
    }
   ],
   "source": [
    "candidates"
   ]
  },
  {
   "cell_type": "code",
   "execution_count": 62,
   "metadata": {},
   "outputs": [],
   "source": [
    "bounds = np.array([(-3, 4), (10, 20), (0.5, 3)])"
   ]
  },
  {
   "cell_type": "code",
   "execution_count": 63,
   "metadata": {},
   "outputs": [],
   "source": [
    "org_can = np.array([np.clip(c, bounds[:, 0], bounds[:, 1]) for c in candidates])"
   ]
  },
  {
   "cell_type": "code",
   "execution_count": 64,
   "metadata": {},
   "outputs": [
    {
     "data": {
      "text/plain": [
       "array([[ 1.9, 19. ,  0.5],\n",
       "       [ 0.9, 20. ,  0.5],\n",
       "       [ 0.9, 19. ,  1. ],\n",
       "       [-0.1, 19. ,  0.5],\n",
       "       [ 0.9, 18. ,  0.5],\n",
       "       [ 0.9, 19. ,  0.5]])"
      ]
     },
     "execution_count": 64,
     "metadata": {},
     "output_type": "execute_result"
    }
   ],
   "source": [
    "org_can"
   ]
  },
  {
   "cell_type": "code",
   "execution_count": 47,
   "metadata": {},
   "outputs": [],
   "source": [
    "org_can = np.array(candidates)"
   ]
  },
  {
   "cell_type": "code",
   "execution_count": 48,
   "metadata": {},
   "outputs": [
    {
     "data": {
      "text/plain": [
       "array([ -3,  10, -10])"
      ]
     },
     "execution_count": 48,
     "metadata": {},
     "output_type": "execute_result"
    }
   ],
   "source": [
    "bounds[:, 0]"
   ]
  },
  {
   "cell_type": "code",
   "execution_count": 49,
   "metadata": {},
   "outputs": [
    {
     "data": {
      "text/plain": [
       "array([ 0.,  0.,  1.,  0.,  0., -1.])"
      ]
     },
     "execution_count": 49,
     "metadata": {},
     "output_type": "execute_result"
    }
   ],
   "source": [
    "org_can[:, 2]"
   ]
  },
  {
   "cell_type": "code",
   "execution_count": 50,
   "metadata": {},
   "outputs": [],
   "source": [
    "norm_can = []"
   ]
  },
  {
   "cell_type": "code",
   "execution_count": 51,
   "metadata": {},
   "outputs": [],
   "source": [
    "for i in range(len(candidates[0])):\n",
    "    norm_can.append( np.clip(org_can[:, i], bounds[i][0], bounds[i][1]) )"
   ]
  },
  {
   "cell_type": "code",
   "execution_count": 52,
   "metadata": {},
   "outputs": [],
   "source": [
    "norm_can = np.array(norm_can)"
   ]
  },
  {
   "cell_type": "code",
   "execution_count": 53,
   "metadata": {},
   "outputs": [],
   "source": [
    "norm_can = norm_can.T"
   ]
  },
  {
   "cell_type": "code",
   "execution_count": 54,
   "metadata": {},
   "outputs": [
    {
     "data": {
      "text/plain": [
       "array([[ 1.9, 19. ,  0. ],\n",
       "       [ 0.9, 20. ,  0. ],\n",
       "       [ 0.9, 19. ,  1. ],\n",
       "       [-0.1, 19. ,  0. ],\n",
       "       [ 0.9, 18. ,  0. ],\n",
       "       [ 0.9, 19. , -1. ]])"
      ]
     },
     "execution_count": 54,
     "metadata": {},
     "output_type": "execute_result"
    }
   ],
   "source": [
    "norm_can"
   ]
  },
  {
   "cell_type": "code",
   "execution_count": null,
   "metadata": {},
   "outputs": [],
   "source": []
  }
 ],
 "metadata": {
  "kernelspec": {
   "display_name": "fl310",
   "language": "python",
   "name": "python3"
  },
  "language_info": {
   "codemirror_mode": {
    "name": "ipython",
    "version": 3
   },
   "file_extension": ".py",
   "mimetype": "text/x-python",
   "name": "python",
   "nbconvert_exporter": "python",
   "pygments_lexer": "ipython3",
   "version": "3.10.16"
  }
 },
 "nbformat": 4,
 "nbformat_minor": 2
}
