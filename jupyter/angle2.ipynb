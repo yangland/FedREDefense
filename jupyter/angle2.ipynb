{
 "cells": [
  {
   "cell_type": "code",
   "execution_count": 14,
   "metadata": {},
   "outputs": [],
   "source": [
    "import torch\n",
    "import math"
   ]
  },
  {
   "cell_type": "code",
   "execution_count": 10,
   "metadata": {},
   "outputs": [],
   "source": [
    "def rotate_towards(a, b, gamma):\n",
    "    \"\"\"\n",
    "    Rotates tensor 'a' towards tensor 'b' by angle gamma (in degrees).\n",
    "    \"\"\"\n",
    "    shape = a.size()\n",
    "    a = torch.flatten(a)\n",
    "    b = torch.flatten(b)\n",
    "\n",
    "    cos_theta = torch.dot(a, b) / (torch.norm(a) * torch.norm(b))\n",
    "    print(\"cos_theta\", cos_theta)\n",
    "    theta = torch.acos(torch.clamp(cos_theta, -1.0, 1.0))\n",
    "    gamma_rad = torch.deg2rad(torch.tensor(gamma))\n",
    "    \n",
    "    if theta < gamma_rad:\n",
    "        return b  # If gamma exceeds the angle between, return b\n",
    "    \n",
    "    direction = b - a\n",
    "    direction = direction / torch.norm(direction)  # Normalize direction\n",
    "    rotated_a = a + torch.norm(a) * torch.tan(gamma_rad) * direction\n",
    "    \n",
    "    return rotated_a.view(shape)"
   ]
  },
  {
   "cell_type": "code",
   "execution_count": 21,
   "metadata": {},
   "outputs": [],
   "source": [
    "a = torch.tensor([1.0,0.0])\n",
    "b = torch.tensor([0.0,1.0])\n",
    "gamma = 90"
   ]
  },
  {
   "cell_type": "code",
   "execution_count": 22,
   "metadata": {},
   "outputs": [
    {
     "name": "stdout",
     "output_type": "stream",
     "text": [
      "cos_theta tensor(0.)\n"
     ]
    },
    {
     "data": {
      "text/plain": [
       "tensor([ 16176717., -16176716.])"
      ]
     },
     "execution_count": 22,
     "metadata": {},
     "output_type": "execute_result"
    }
   ],
   "source": [
    "rotate_towards(a, b, gamma)"
   ]
  },
  {
   "cell_type": "code",
   "execution_count": 19,
   "metadata": {},
   "outputs": [],
   "source": [
    "gamma_rad = torch.deg2rad(torch.tensor(180))"
   ]
  },
  {
   "cell_type": "code",
   "execution_count": 20,
   "metadata": {},
   "outputs": [
    {
     "data": {
      "text/plain": [
       "tensor(3.1416)"
      ]
     },
     "execution_count": 20,
     "metadata": {},
     "output_type": "execute_result"
    }
   ],
   "source": [
    "gamma_rad "
   ]
  },
  {
   "cell_type": "code",
   "execution_count": 44,
   "metadata": {},
   "outputs": [
    {
     "name": "stdout",
     "output_type": "stream",
     "text": [
      "tensor([-4.3711e-08,  1.0000e+00])\n",
      "tensor([-4.3711e-08,  1.0000e+00,  0.0000e+00])\n"
     ]
    }
   ],
   "source": [
    "import torch\n",
    "\n",
    "import torch\n",
    "\n",
    "def rotate_towards(a: torch.Tensor, b: torch.Tensor, gamma: float) -> torch.Tensor:\n",
    "    \"\"\"\n",
    "    Rotates tensor 'a' towards tensor 'b' by an angle 'gamma' (in degrees) in N-dimensional space.\n",
    "\n",
    "    Parameters:\n",
    "        a (torch.Tensor): The input tensor to be rotated.\n",
    "        b (torch.Tensor): The target tensor to rotate towards.\n",
    "        gamma (float): The rotation angle in degrees.\n",
    "\n",
    "    Returns:\n",
    "        torch.Tensor: The rotated tensor.\n",
    "    \"\"\"\n",
    "    if torch.count_nonzero(a)==0:\n",
    "        return a\n",
    "    \n",
    "    shape = a.size()\n",
    "    a = torch.flatten(a)\n",
    "    b = torch.flatten(b)\n",
    "    \n",
    "    # Normalize vectors\n",
    "    a = a / a.norm(dim=-1, keepdim=True)\n",
    "    b = b / b.norm(dim=-1, keepdim=True)\n",
    "    \n",
    "    # Compute the rotation axis (perpendicular component of b relative to a)\n",
    "    v = b - (a * (a * b).sum(dim=-1, keepdim=True))  # Remove parallel component\n",
    "    v_norm = v.norm(dim=-1, keepdim=True)\n",
    "    \n",
    "    # If v_norm is zero, a and b are already aligned, return a\n",
    "    if torch.all(v_norm < 1e-8):\n",
    "        return a\n",
    "\n",
    "    v = v / v_norm  # Normalize rotation axis\n",
    "    \n",
    "    # Compute cosine and sine of the rotation angle\n",
    "    gamma_rad = torch.deg2rad(torch.tensor(gamma, dtype=a.dtype, device=a.device))\n",
    "    cos_gamma = torch.cos(gamma_rad)\n",
    "    sin_gamma = torch.sin(gamma_rad)\n",
    "    \n",
    "    # Rodrigues' rotation formula\n",
    "    rotated_a = cos_gamma * a + sin_gamma * v + (1 - cos_gamma) * (v * (v * a).sum(dim=-1, keepdim=True))\n",
    "\n",
    "    return (rotated_a * a.norm(dim=-1, keepdim=True)).view(shape)  # Rescale to original magnitude\n",
    "\n",
    "# Test cases\n",
    "a_2d = torch.tensor([1.0, 0.0])\n",
    "b_2d = torch.tensor([0.0, 1.0])\n",
    "gamma = 90\n",
    "\n",
    "a_3d = torch.tensor([1.0, 0.0, 0.0])\n",
    "b_3d = torch.tensor([0.0, 1.0, 0.0])\n",
    "\n",
    "print(rotate_towards(a_2d, b_2d, gamma))  # Expected ~[0, 1]\n",
    "print(rotate_towards(a_3d, b_3d, gamma))  # Expected ~[0, 1, 0]\n",
    "\n",
    "\n"
   ]
  },
  {
   "cell_type": "code",
   "execution_count": 47,
   "metadata": {},
   "outputs": [
    {
     "name": "stdout",
     "output_type": "stream",
     "text": [
      "tensor([[nan, nan],\n",
      "        [nan, nan]])\n"
     ]
    }
   ],
   "source": [
    "# Test case\n",
    "a = torch.tensor([[0.0, 0.0], [0.0, 0.0]])\n",
    "b = torch.tensor([[0.0, 1.0], [0.0, 0.0]])\n",
    "gamma = 3600\n",
    "\n",
    "rotated_a = rotate_towards(a, b, gamma)\n",
    "print(rotated_a)  # Expected output: tensor([0.0, 1.0])"
   ]
  },
  {
   "cell_type": "code",
   "execution_count": 49,
   "metadata": {},
   "outputs": [],
   "source": [
    "a = torch.tensor([\n",
    "    [[ 2.9963e-04,  3.9493e-04, -5.2467e-05],\n",
    "              [ 1.3937e-04,  1.8504e-04, -2.4397e-04],\n",
    "          [ 2.0497e-04,  1.0249e-03,  8.5719e-04]],\n",
    "\n",
    "         [[ 2.8294e-06,  1.2447e-04,  1.5370e-04],\n",
    "          [ 9.8873e-05,  8.0010e-05,  3.6165e-04],\n",
    "          [ 4.3490e-04, -7.6380e-05,  1.0160e-03]],\n",
    "\n",
    "         [[ 3.9777e-04,  5.5658e-04,  4.1153e-04],\n",
    "          [ 4.3705e-04,  6.8596e-04,  9.1332e-04],\n",
    "          [ 2.2702e-04,  1.0338e-03,  1.7728e-03]]]\n",
    ")"
   ]
  },
  {
   "cell_type": "code",
   "execution_count": 56,
   "metadata": {},
   "outputs": [],
   "source": [
    "rotated_a = rotate_towards(a, torch.rand(a.shape), 1)"
   ]
  },
  {
   "cell_type": "code",
   "execution_count": 57,
   "metadata": {},
   "outputs": [
    {
     "data": {
      "text/plain": [
       "tensor([[[ 0.0976,  0.1247, -0.0156],\n",
       "         [ 0.0475,  0.0612, -0.0737],\n",
       "         [ 0.0711,  0.3260,  0.2720]],\n",
       "\n",
       "        [[ 0.0087,  0.0403,  0.0493],\n",
       "         [ 0.0352,  0.0311,  0.1174],\n",
       "         [ 0.1362, -0.0222,  0.3168]],\n",
       "\n",
       "        [[ 0.1247,  0.1772,  0.1325],\n",
       "         [ 0.1385,  0.2162,  0.2913],\n",
       "         [ 0.0782,  0.3276,  0.5564]]])"
      ]
     },
     "execution_count": 57,
     "metadata": {},
     "output_type": "execute_result"
    }
   ],
   "source": [
    "rotated_a"
   ]
  },
  {
   "cell_type": "code",
   "execution_count": 7,
   "metadata": {},
   "outputs": [
    {
     "name": "stdout",
     "output_type": "stream",
     "text": [
      "Closest cosine similarity: 0.9998592734336853\n"
     ]
    }
   ],
   "source": [
    "import torch\n",
    "import torch.nn.functional as F\n",
    "\n",
    "def closest_cosine_similarity(v, tensor_set):\n",
    "    \"\"\"\n",
    "    Compute the highest cosine similarity between v and any tensor in tensor_set.\n",
    "    \n",
    "    Args:\n",
    "        v (torch.Tensor): The target tensor.\n",
    "        tensor_set (torch.Tensor): A 2D tensor where each row is a candidate tensor.\n",
    "    \n",
    "    Returns:\n",
    "        float: The maximum cosine similarity value.\n",
    "    \"\"\"\n",
    "    # Normalize vectors\n",
    "    v_norm = F.normalize(v, dim=0)  # Shape: (d,)\n",
    "    tensor_set_norm = F.normalize(tensor_set, dim=1)  # Shape: (m, d)\n",
    "\n",
    "    # Compute cosine similarities\n",
    "    cos_sim = torch.matmul(tensor_set_norm, v_norm)  # Shape: (m,)\n",
    "    \n",
    "    # Get the maximum similarity\n",
    "    return torch.max(cos_sim).item()\n",
    "\n",
    "# Example usage\n",
    "v = torch.tensor([1.0, 2.0, 3.0])\n",
    "tensor_set = torch.tensor([[1.1, 2.1, 3.1], \n",
    "                           [1.7, 2.2, 3.0], \n",
    "                           [0.5, 2.0, 1.5]])  # Each row is a candidate tensor\n",
    "\n",
    "max_cos_sim = closest_cosine_similarity(v, tensor_set)\n",
    "print(\"Closest cosine similarity:\", max_cos_sim)\n"
   ]
  },
  {
   "cell_type": "code",
   "execution_count": 1,
   "metadata": {},
   "outputs": [
    {
     "name": "stdout",
     "output_type": "stream",
     "text": [
      "Closest cosine similarity: 0.9999998807907104\n",
      "Closest tensor: tensor([0.5000, 1.0000, 1.5000])\n"
     ]
    }
   ],
   "source": [
    "import torch\n",
    "import torch.nn.functional as F\n",
    "\n",
    "def closest_tensor_cosine_similarity(v, tensor_set):\n",
    "    \"\"\"\n",
    "    Find the tensor in tensor_set that has the highest cosine similarity with v\n",
    "    and return both the highest similarity and the closest tensor.\n",
    "    \n",
    "    Args:\n",
    "        v (torch.Tensor): The target tensor.\n",
    "        tensor_set (torch.Tensor): A 2D tensor where each row is a candidate tensor.\n",
    "    \n",
    "    Returns:\n",
    "        float: The maximum cosine similarity value.\n",
    "        torch.Tensor: The closest tensor.\n",
    "    \"\"\"\n",
    "    # Normalize vectors\n",
    "    v_norm = F.normalize(v, dim=0)  # Shape: (d,)\n",
    "    tensor_set_norm = F.normalize(tensor_set, dim=1)  # Shape: (m, d)\n",
    "\n",
    "    # Compute cosine similarities\n",
    "    cos_sim = torch.matmul(tensor_set_norm, v_norm)  # Shape: (m,)\n",
    "\n",
    "    # Get the index of the maximum similarity\n",
    "    max_index = torch.argmax(cos_sim).item()\n",
    "    \n",
    "    # Retrieve the closest tensor\n",
    "    closest_tensor = tensor_set[max_index]\n",
    "    \n",
    "    return cos_sim[max_index].item(), closest_tensor\n",
    "\n",
    "# Example usage\n",
    "v = torch.tensor([1.0, 2.0, 3.0])\n",
    "tensor_set = torch.tensor([[0.9, 2.1, 3.1], \n",
    "                           [1.1, 2.2, 3.0], \n",
    "                           [0.5, 1.0, 1.5]])  # Each row is a candidate tensor\n",
    "\n",
    "max_cos_sim, closest_tensor = closest_tensor_cosine_similarity(v, tensor_set)\n",
    "print(\"Closest cosine similarity:\", max_cos_sim)\n",
    "print(\"Closest tensor:\", closest_tensor)\n"
   ]
  }
 ],
 "metadata": {
  "kernelspec": {
   "display_name": "fl39",
   "language": "python",
   "name": "python3"
  },
  "language_info": {
   "codemirror_mode": {
    "name": "ipython",
    "version": 3
   },
   "file_extension": ".py",
   "mimetype": "text/x-python",
   "name": "python",
   "nbconvert_exporter": "python",
   "pygments_lexer": "ipython3",
   "version": "3.9.20"
  }
 },
 "nbformat": 4,
 "nbformat_minor": 2
}
