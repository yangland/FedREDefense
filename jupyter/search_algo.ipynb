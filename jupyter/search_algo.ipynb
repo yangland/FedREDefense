{
 "cells": [
  {
   "cell_type": "code",
   "execution_count": 8,
   "metadata": {},
   "outputs": [
    {
     "name": "stdout",
     "output_type": "stream",
     "text": [
      "Step 1: x = [ 0.9 18.   1.1], f(x) = 9.32\n",
      "Step 2: x = [ 0.9 17.   1.1], f(x) = 4.32\n",
      "Step 3: x = [ 0.9 16.   1.1], f(x) = 1.32\n",
      "Step 4: x = [ 0.9 15.   1.1], f(x) = 0.31999999999999995\n",
      "Step 5: x = [ 0.9 15.   1.1], f(x) = 0.31999999999999995\n",
      "Step 6: x = [ 0.4 15.   1.6], f(x) = 0.02000000000000001\n",
      "Step 7: x = [ 0.4 15.   1.6], f(x) = 0.02000000000000001\n",
      "Step 8: x = [ 0.4 15.   1.6], f(x) = 0.02000000000000001\n",
      "Step 9: x = [ 0.525 15.     1.475], f(x) = 0.0012499999999999968\n",
      "Step 10: x = [ 0.525 15.     1.475], f(x) = 0.0012499999999999968\n",
      "Step 11: x = [ 0.525 15.     1.475], f(x) = 0.0012499999999999968\n",
      "Step 12: x = [ 0.49375 15.       1.50625], f(x) = 7.812500000000083e-05\n",
      "Step 13: x = [ 0.49375 15.       1.50625], f(x) = 7.812500000000083e-05\n",
      "Step 14: x = [ 0.49375 15.       1.50625], f(x) = 7.812500000000083e-05\n",
      "Step 15: x = [ 0.5015625 15.         1.4984375], f(x) = 4.882812499999793e-06\n",
      "Step 16: x = [ 0.5015625 15.         1.4984375], f(x) = 4.882812499999793e-06\n",
      "Step 17: x = [ 0.5015625 15.         1.4984375], f(x) = 4.882812499999793e-06\n",
      "Step 18: x = [ 0.49960938 15.          1.50039063], f(x) = 3.0517578125005205e-07\n",
      "Step 19: x = [ 0.49960938 15.          1.50039063], f(x) = 3.0517578125005205e-07\n",
      "Step 20: x = [ 0.49960938 15.          1.50039063], f(x) = 3.0517578125005205e-07\n",
      "Step 21: x = [ 0.50009766 15.          1.49990234], f(x) = 1.9073486328111987e-08\n",
      "Step 22: x = [ 0.50009766 15.          1.49990234], f(x) = 1.9073486328111987e-08\n",
      "Step 23: x = [ 0.50009766 15.          1.49990234], f(x) = 1.9073486328111987e-08\n",
      "Step 24: x = [ 0.49997559 15.          1.50002441], f(x) = 1.1920928955110652e-09\n",
      "Step 25: x = [ 0.49997559 15.          1.50002441], f(x) = 1.1920928955110652e-09\n",
      "Step 26: x = [ 0.49997559 15.          1.50002441], f(x) = 1.1920928955110652e-09\n",
      "Step 27: x = [ 0.5000061 15.         1.4999939], f(x) = 7.450580596842513e-11\n",
      "Step 28: x = [ 0.5000061 15.         1.4999939], f(x) = 7.450580596842513e-11\n",
      "Step 29: x = [ 0.5000061 15.         1.4999939], f(x) = 7.450580596842513e-11\n",
      "Step 30: x = [ 0.49999847 15.          1.50000153], f(x) = 4.656612873280681e-12\n",
      "Step 31: x = [ 0.49999847 15.          1.50000153], f(x) = 4.656612873280681e-12\n",
      "Step 32: x = [ 0.49999847 15.          1.50000153], f(x) = 4.656612873280681e-12\n",
      "Step 33: x = [ 0.50000038 15.          1.49999962], f(x) = 2.9103830451651506e-13\n",
      "Step 34: x = [ 0.50000038 15.          1.49999962], f(x) = 2.9103830451651506e-13\n"
     ]
    }
   ],
   "source": [
    "import numpy as np\n",
    "\n",
    "def objective(x):\n",
    "    a, b, c = x\n",
    "    return (a - 0.5)**2 + (b - 15)**2 + (c - 1.5)**2  # Example function\n",
    "\n",
    "# Bounds for each variable\n",
    "bounds = np.array([[0, 1], [10, 20], [0, 3]])\n",
    "\n",
    "# Initial guess\n",
    "x0 = np.array([0.9, 19, 0.1])\n",
    "\n",
    "def mads(func, x0, bounds, delta=1.0, tol=1e-6, max_iter=100):\n",
    "    \"\"\" Mesh Adaptive Direct Search (MADS) implementation. \"\"\"\n",
    "    n = len(x0)\n",
    "    x = x0.copy()\n",
    "    delta_min = tol\n",
    "    iteration = 0\n",
    "    \n",
    "    while delta > delta_min and iteration < max_iter:\n",
    "        improved = False\n",
    "        \n",
    "        # Generate trial points\n",
    "        for i in range(n):\n",
    "            for direction in [-1, 1]:\n",
    "                x_new = x.copy()\n",
    "                x_new[i] += direction * delta\n",
    "                x_new = np.clip(x_new, bounds[:, 0], bounds[:, 1])  # Enforce bounds\n",
    "                \n",
    "                if func(x_new) < func(x):\n",
    "                    x = x_new\n",
    "                    improved = True\n",
    "        \n",
    "        # Reduce mesh size if no improvement\n",
    "        if not improved:\n",
    "            delta /= 2.0\n",
    "        \n",
    "        iteration += 1\n",
    "        yield x, func(x), iteration\n",
    "\n",
    "# Run MADS optimization\n",
    "mads_iter = mads(objective, x0, bounds)\n",
    "for x, fval, step in mads_iter:\n",
    "    print(f\"Step {step}: x = {x}, f(x) = {fval}\")"
   ]
  },
  {
   "cell_type": "code",
   "execution_count": null,
   "metadata": {},
   "outputs": [],
   "source": []
  }
 ],
 "metadata": {
  "kernelspec": {
   "display_name": "fl310",
   "language": "python",
   "name": "python3"
  },
  "language_info": {
   "codemirror_mode": {
    "name": "ipython",
    "version": 3
   },
   "file_extension": ".py",
   "mimetype": "text/x-python",
   "name": "python",
   "nbconvert_exporter": "python",
   "pygments_lexer": "ipython3",
   "version": "3.10.16"
  }
 },
 "nbformat": 4,
 "nbformat_minor": 2
}
