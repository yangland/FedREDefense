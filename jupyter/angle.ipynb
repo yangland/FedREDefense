{
 "cells": [
  {
   "cell_type": "code",
   "execution_count": 15,
   "metadata": {},
   "outputs": [],
   "source": [
    "import torch\n",
    "import torch.nn as nn"
   ]
  },
  {
   "cell_type": "code",
   "execution_count": 7,
   "metadata": {},
   "outputs": [],
   "source": [
    "# input1 = torch.randn(100, 128)\n",
    "# input2 = torch.randn(100, 128)\n",
    "input1 = torch.tensor([0.0,1.0, 0.0])\n",
    "input2 = torch.tensor([0.0,-1.0, 1.0])\n",
    "cos = nn.CosineSimilarity(dim=0, eps=1e-6)\n",
    "output = cos(input1, input2)"
   ]
  },
  {
   "cell_type": "code",
   "execution_count": 8,
   "metadata": {},
   "outputs": [
    {
     "data": {
      "text/plain": [
       "tensor(-0.7071)"
      ]
     },
     "execution_count": 8,
     "metadata": {},
     "output_type": "execute_result"
    }
   ],
   "source": [
    "output"
   ]
  },
  {
   "cell_type": "code",
   "execution_count": 1,
   "metadata": {},
   "outputs": [],
   "source": [
    "a = [1,2,3]"
   ]
  },
  {
   "cell_type": "code",
   "execution_count": 4,
   "metadata": {},
   "outputs": [],
   "source": [
    "b = [x / sum(a) for x in a]"
   ]
  },
  {
   "cell_type": "code",
   "execution_count": 5,
   "metadata": {},
   "outputs": [
    {
     "data": {
      "text/plain": [
       "[0.16666666666666666, 0.3333333333333333, 0.5]"
      ]
     },
     "execution_count": 5,
     "metadata": {},
     "output_type": "execute_result"
    }
   ],
   "source": [
    "b"
   ]
  },
  {
   "cell_type": "code",
   "execution_count": 24,
   "metadata": {},
   "outputs": [],
   "source": [
    "y = torch.tensor([1,2,3,4,5,0])"
   ]
  },
  {
   "cell_type": "code",
   "execution_count": 25,
   "metadata": {},
   "outputs": [],
   "source": [
    "y[y==5] =9"
   ]
  },
  {
   "cell_type": "code",
   "execution_count": 26,
   "metadata": {},
   "outputs": [
    {
     "data": {
      "text/plain": [
       "tensor([1, 2, 3, 4, 9, 0])"
      ]
     },
     "execution_count": 26,
     "metadata": {},
     "output_type": "execute_result"
    }
   ],
   "source": [
    "y"
   ]
  },
  {
   "cell_type": "code",
   "execution_count": 8,
   "metadata": {},
   "outputs": [
    {
     "name": "stdout",
     "output_type": "stream",
     "text": [
      "(3_w,6)-aCMA-ES (mu_w=2.0,w_1=63%) in dimension 2 (seed=300796, Thu Jan 30 11:46:32 2025)\n",
      "Iterat #Fevals   function value  axis ratio  sigma  min&max std  t[m:s]\n",
      "    1      6 1.260837423831868e+04 1.0e+00 5.31e-01  5e-01  6e-01 0:00.0\n"
     ]
    },
    {
     "name": "stdout",
     "output_type": "stream",
     "text": [
      "    2     12 1.009450979915790e+04 1.3e+00 6.16e-01  5e-01  8e-01 0:00.0\n",
      "    3     18 2.541861729348199e+03 1.7e+00 7.44e-01  5e-01  1e+00 0:00.0\n",
      "  100    600 2.181517843868159e+00 1.2e+02 9.23e+00  6e-02  3e-01 0:00.1\n",
      "  200   1200 7.098412431028711e-09 3.6e+01 8.92e+00  3e-04  6e-04 0:00.1\n",
      "  236   1416 4.671621543416694e-16 5.2e+01 2.50e-02  3e-08  7e-08 0:00.1\n",
      "Optimal point: [1.         0.99999999]\n",
      "Function value at optimum: 4.31218728967293e-17\n"
     ]
    }
   ],
   "source": [
    "import cma\n",
    "import numpy as np\n",
    "\n",
    "# Example objective function (Rosenbrock function)\n",
    "def objective(x):\n",
    "    return (1 - x[0])**2 + 100 * (x[1] - x[0]**2)**2  # Rosenbrock function\n",
    "\n",
    "# Initial guess and step size\n",
    "x0 = [2.0, 20]  # Starting point\n",
    "sigma = 0.5      # Initial standard deviation\n",
    "\n",
    "# Run CMA-ES optimization\n",
    "es = cma.CMAEvolutionStrategy(x0, sigma)\n",
    "es.optimize(objective)\n",
    "\n",
    "# Best solution found\n",
    "best_x, best_f = es.result.xbest, es.result.fbest\n",
    "print(\"Optimal point:\", best_x)\n",
    "print(\"Function value at optimum:\", best_f)\n"
   ]
  },
  {
   "cell_type": "code",
   "execution_count": 7,
   "metadata": {},
   "outputs": [
    {
     "name": "stdout",
     "output_type": "stream",
     "text": [
      "Optimal point: [1. 1.]\n",
      "Function value at optimum: 0.0\n"
     ]
    }
   ],
   "source": [
    "import numpy as np\n",
    "from scipy.optimize import minimize\n",
    "\n",
    "# Example objective function (Rosenbrock function)\n",
    "def objective(x):\n",
    "    return (1 - x[0])**2 + 100 * (x[1] - x[0]**2)**2  # Rosenbrock function\n",
    "\n",
    "# Initial guess\n",
    "x0 = np.array([2, 20])\n",
    "\n",
    "# Run Powell's method\n",
    "result = minimize(objective, x0, method='Powell')\n",
    "\n",
    "# Output results\n",
    "print(\"Optimal point:\", result.x)\n",
    "print(\"Function value at optimum:\", result.fun)\n"
   ]
  },
  {
   "cell_type": "code",
   "execution_count": 10,
   "metadata": {},
   "outputs": [
    {
     "name": "stdout",
     "output_type": "stream",
     "text": [
      "iter: 30\n",
      "Optimal x: [1.99918327 2.00198708]\n",
      "Optimal f(x): 4.6155127347459446e-06\n"
     ]
    }
   ],
   "source": [
    "import numpy as np\n",
    "\n",
    "def neulmead(f, x0, alpha=1.0, gamma=2.0, rho=0.5, sigma=0.5, max_iter=200, tol=1e-6):\n",
    "    \"\"\"\n",
    "    NeulMead optimization method (a robust variation of Nelder-Mead).\n",
    "\n",
    "    Parameters:\n",
    "    - f: Function to minimize.\n",
    "    - x0: Initial guess (array-like, shape (n,)).\n",
    "    - alpha: Reflection coefficient.\n",
    "    - gamma: Expansion coefficient.\n",
    "    - rho: Contraction coefficient.\n",
    "    - sigma: Shrink coefficient.\n",
    "    - max_iter: Maximum number of iterations.\n",
    "    - tol: Tolerance for stopping criterion.\n",
    "\n",
    "    Returns:\n",
    "    - x_opt: Optimized parameters.\n",
    "    - f_opt: Function value at x_opt.\n",
    "    \"\"\"\n",
    "    n = len(x0)\n",
    "    simplex = np.vstack([x0 + (np.eye(n) * 0.05)[i] for i in range(n)] + [x0])\n",
    "    f_values = np.array([f(x) for x in simplex])\n",
    "\n",
    "    for _ in range(max_iter):\n",
    "        order = np.argsort(f_values)\n",
    "        simplex, f_values = simplex[order], f_values[order]\n",
    "        centroid = np.mean(simplex[:-1], axis=0)\n",
    "\n",
    "        # Reflection\n",
    "        x_r = centroid + alpha * (centroid - simplex[-1])\n",
    "        f_r = f(x_r)\n",
    "\n",
    "        if f_values[0] <= f_r < f_values[-2]:\n",
    "            simplex[-1], f_values[-1] = x_r, f_r\n",
    "        elif f_r < f_values[0]:  # Expansion\n",
    "            x_e = centroid + gamma * (x_r - centroid)\n",
    "            f_e = f(x_e)\n",
    "            if f_e < f_r:\n",
    "                simplex[-1], f_values[-1] = x_e, f_e\n",
    "            else:\n",
    "                simplex[-1], f_values[-1] = x_r, f_r\n",
    "        else:  # Contraction\n",
    "            x_c = centroid + rho * (simplex[-1] - centroid)\n",
    "            f_c = f(x_c)\n",
    "            if f_c < f_values[-1]:\n",
    "                simplex[-1], f_values[-1] = x_c, f_c\n",
    "            else:  # Shrink\n",
    "                for i in range(1, len(simplex)):\n",
    "                    simplex[i] = simplex[0] + sigma * (simplex[i] - simplex[0])\n",
    "                    f_values[i] = f(simplex[i])\n",
    "        \n",
    "        if np.std(f_values) < tol:\n",
    "            print(\"iter:\", _)\n",
    "            break\n",
    "\n",
    "    return simplex[0], f_values[0]\n",
    "\n",
    "# Example usage\n",
    "def test_function(x):\n",
    "    return np.sum((x - 2) ** 2)  # Simple quadratic function\n",
    "\n",
    "x_opt, f_opt = neulmead(test_function, np.array([0.0, 0.0]))\n",
    "print(\"Optimal x:\", x_opt)\n",
    "print(\"Optimal f(x):\", f_opt)"
   ]
  },
  {
   "cell_type": "code",
   "execution_count": 28,
   "metadata": {},
   "outputs": [],
   "source": [
    "import math"
   ]
  },
  {
   "cell_type": "code",
   "execution_count": 34,
   "metadata": {},
   "outputs": [
    {
     "name": "stdout",
     "output_type": "stream",
     "text": [
      "Rotated a: tensor([0., 1., 1., 6.])\n"
     ]
    }
   ],
   "source": [
    "def rotate_towards(a, b, gamma):\n",
    "    \"\"\"\n",
    "    Rotates tensor 'a' towards tensor 'b' by angle gamma (in degrees).\n",
    "    \"\"\"\n",
    "    cos_theta = torch.dot(a, b) / (torch.norm(a) * torch.norm(b))\n",
    "    theta = torch.acos(torch.clamp(cos_theta, -1.0, 1.0))\n",
    "    gamma_rad = torch.deg2rad(torch.tensor(gamma))\n",
    "    \n",
    "    if theta < gamma_rad:\n",
    "        return b  # If gamma exceeds the angle between, return b\n",
    "    \n",
    "    direction = b - a\n",
    "    direction = direction / torch.norm(direction)  # Normalize direction\n",
    "    rotated_a = a + torch.norm(a) * torch.tan(gamma_rad) * direction\n",
    "    \n",
    "    return rotated_a\n",
    "\n",
    "# Example usage\n",
    "a = torch.tensor([1.0, 0.0, 1.0, 9])\n",
    "b = torch.tensor([0.0, 1.0, 1.0, 6])\n",
    "gamma = 30  # degrees\n",
    "rotated_a = rotate_towards(a, b, gamma)\n",
    "print(\"Rotated a:\", rotated_a)"
   ]
  },
  {
   "cell_type": "code",
   "execution_count": 35,
   "metadata": {},
   "outputs": [
    {
     "data": {
      "text/plain": [
       "tensor(0.9793)"
      ]
     },
     "execution_count": 35,
     "metadata": {},
     "output_type": "execute_result"
    }
   ],
   "source": [
    "cos = nn.CosineSimilarity(dim=0, eps=1e-6)\n",
    "cos(a, b)"
   ]
  },
  {
   "cell_type": "code",
   "execution_count": null,
   "metadata": {},
   "outputs": [],
   "source": []
  },
  {
   "cell_type": "code",
   "execution_count": 36,
   "metadata": {},
   "outputs": [
    {
     "data": {
      "text/plain": [
       "60.00000000000001"
      ]
     },
     "execution_count": 36,
     "metadata": {},
     "output_type": "execute_result"
    }
   ],
   "source": [
    "math.degrees(math.acos(0.5))"
   ]
  },
  {
   "cell_type": "code",
   "execution_count": null,
   "metadata": {},
   "outputs": [],
   "source": []
  },
  {
   "cell_type": "code",
   "execution_count": 27,
   "metadata": {},
   "outputs": [
    {
     "data": {
      "image/png": "[encoded data removed]",
      "text/plain": [
       "<Figure size 640x480 with 1 Axes>"
      ]
     },
     "metadata": {},
     "output_type": "display_data"
    }
   ],
   "source": [
    "import matplotlib.pyplot as plt\n",
    "from mpl_toolkits.mplot3d import axes3d\n",
    "\n",
    "ax = plt.figure().add_subplot(projection='3d')\n",
    "X, Y, Z = axes3d.get_test_data(0.05)\n",
    "\n",
    "# Plot the 3D surface\n",
    "ax.plot_surface(X, Y, Z, edgecolor='royalblue', lw=0.5, rstride=8, cstride=8,\n",
    "                alpha=0.3)\n",
    "\n",
    "# Plot projections of the contours for each dimension.  By choosing offsets\n",
    "# that match the appropriate axes limits, the projected contours will sit on\n",
    "# the 'walls' of the graph.\n",
    "# ax.contour(X, Y, Z, zdir='z', offset=-100, cmap='coolwarm')\n",
    "# ax.contour(X, Y, Z, zdir='x', offset=-40, cmap='coolwarm')\n",
    "# ax.contour(X, Y, Z, zdir='y', offset=40, cmap='coolwarm')\n",
    "\n",
    "ax.set(xlim=(-40, 40), ylim=(-40, 40), zlim=(-100, 100),\n",
    "       xlabel='X', ylabel='Y', zlabel='Z')\n",
    "\n",
    "plt.show()"
   ]
  },
  {
   "cell_type": "code",
   "execution_count": 41,
   "metadata": {},
   "outputs": [],
   "source": [
    "a = torch.tensor([ 2.6334e-05,  4.1566e-06,  8.7498e-05,  1.0083e-04,  5.1120e-05,\n",
    "         1.0223e-04,  3.3792e-05,  1.0695e-04,  7.1013e-05,  1.1091e-04,\n",
    "         5.1811e-05,  1.3284e-04,  1.0802e-04,  7.4881e-06,  1.2698e-04,\n",
    "         1.2682e-04,  1.0134e-04,  7.8735e-05,  1.0413e-04, -1.1226e-05,\n",
    "         5.1107e-05,  6.2365e-05,  2.5321e-05,  1.5365e-05,  1.1577e-04,\n",
    "         8.9040e-05,  1.0258e-05,  7.0652e-05,  3.0189e-05,  4.4059e-05,\n",
    "         9.1012e-05,  4.3029e-05,  7.4705e-05,  7.9663e-05,  6.4591e-05,\n",
    "         8.7708e-05,  8.6665e-05,  9.6984e-05,  5.0450e-05,  1.2116e-04,\n",
    "         7.6938e-05,  8.1121e-05,  9.8699e-05,  1.0159e-04,  8.1915e-05,\n",
    "         7.1423e-05,  8.4561e-05,  8.8718e-05,  1.0510e-04,  1.5280e-04,\n",
    "         9.9001e-05,  4.8117e-05,  9.9475e-05,  3.4699e-05,  8.4239e-05,\n",
    "         4.2345e-05,  1.0974e-04,  1.5191e-05,  6.6854e-05,  1.8889e-05,\n",
    "         4.5400e-05,  2.9589e-05,  5.5035e-05,  2.0311e-05,  4.1357e-05,\n",
    "         2.8886e-05,  1.6235e-04,  2.9683e-05,  7.6886e-05,  8.4378e-05,\n",
    "         1.0917e-04,  4.5853e-05,  3.4324e-05,  8.7669e-05,  9.2533e-05,\n",
    "         1.0171e-04,  1.8552e-05,  3.0184e-05,  1.2147e-04,  1.4038e-04,\n",
    "         7.8533e-05,  6.8670e-05, -1.9638e-06,  4.3618e-05,  4.7967e-05,\n",
    "         9.4937e-05,  7.4856e-05,  7.7681e-05,  2.4784e-05,  1.3561e-05,\n",
    "         5.8205e-05,  8.4109e-08,  5.9756e-05,  9.5086e-05,  1.6371e-04,\n",
    "         8.5549e-05,  3.4177e-05,  1.1012e-04,  1.0723e-04,  4.0546e-05,\n",
    "         8.6735e-05,  7.4113e-05,  6.7653e-05,  5.2472e-05,  9.6756e-05,\n",
    "         5.4007e-05,  1.3269e-04,  9.3670e-05,  9.5274e-05,  2.8861e-05,\n",
    "         5.4118e-05,  1.2182e-04,  1.0780e-04,  7.7659e-05,  2.7915e-05,\n",
    "         2.1970e-05,  6.2158e-05,  2.0853e-05,  6.6509e-05,  6.4003e-05,\n",
    "         8.9614e-05,  5.4073e-05,  1.0582e-04,  9.1320e-05,  9.7568e-05,\n",
    "         7.3683e-05,  5.7643e-05,  1.0524e-04], device='cuda:0')\n",
    "\n",
    "b = torch.tensor([1., 0., 0., 0., 0., 0., 0., 0., 0., 0., 0., 0., 0., 0., 0., 0., 0., 0., 0., 0., 0., 0., 0., 0.,\n",
    "        0., 0., 0., 0., 0., 0., 0., 0., 0., 0., 0., 0., 0., 0., 0., 0., 0., 0., 0., 0., 0., 0., 0., 0.,\n",
    "        0., 0., 0., 0., 0., 0., 0., 0., 0., 0., 0., 0., 0., 0., 0., 0., 0., 0., 0., 0., 0., 0., 0., 0.,\n",
    "        0., 0., 0., 0., 0., 0., 0., 0., 0., 0., 0., 0., 0., 0., 0., 0., 0., 0., 0., 0., 0., 0., 0., 0.,\n",
    "        0., 0., 0., 0., 0., 0., 0., 0., 0., 0., 0., 0., 0., 0., 0., 0., 0., 0., 0., 0., 0., 0., 0., 0.,\n",
    "        0., 0., 0., 0., 0., 0., 0., 0.], device='cuda:0')"
   ]
  },
  {
   "cell_type": "code",
   "execution_count": 42,
   "metadata": {},
   "outputs": [
    {
     "data": {
      "text/plain": [
       "tensor(0.0291, device='cuda:0')"
      ]
     },
     "execution_count": 42,
     "metadata": {},
     "output_type": "execute_result"
    }
   ],
   "source": [
    "cos = nn.CosineSimilarity(dim=0, eps=1e-20)\n",
    "cos(a, b)"
   ]
  },
  {
   "cell_type": "code",
   "execution_count": 47,
   "metadata": {},
   "outputs": [],
   "source": [
    "a = None\n",
    "b = 3"
   ]
  },
  {
   "cell_type": "code",
   "execution_count": 48,
   "metadata": {},
   "outputs": [
    {
     "data": {
      "text/plain": [
       "False"
      ]
     },
     "execution_count": 48,
     "metadata": {},
     "output_type": "execute_result"
    }
   ],
   "source": [
    "a != None"
   ]
  },
  {
   "cell_type": "code",
   "execution_count": 49,
   "metadata": {},
   "outputs": [
    {
     "data": {
      "text/plain": [
       "True"
      ]
     },
     "execution_count": 49,
     "metadata": {},
     "output_type": "execute_result"
    }
   ],
   "source": [
    "b != None"
   ]
  },
  {
   "cell_type": "code",
   "execution_count": 60,
   "metadata": {},
   "outputs": [
    {
     "name": "stdout",
     "output_type": "stream",
     "text": [
      "Optimization terminated successfully.\n",
      "         Current function value: 0.000000\n",
      "         Iterations: 3\n",
      "         Function evaluations: 36\n",
      "         Gradient evaluations: 9\n",
      "Optimal solution: [ 0.49999999 15.          1.49999999]\n",
      "Objective function value: 1.2489710108130293e-16\n"
     ]
    }
   ],
   "source": [
    "import numpy as np\n",
    "from scipy.optimize import minimize\n",
    "\n",
    "def bounded_nelder_mead(func, bounds, x0=None, options=None):\n",
    "    \"\"\"\n",
    "    Bounded Nelder-Mead optimization using projection to keep points within bounds.\n",
    "    \n",
    "    Parameters:\n",
    "    - func: Objective function to minimize.\n",
    "    - bounds: List of (lower, upper) bounds for each variable.\n",
    "    - x0: Initial starting point (optional, defaults to center of bounds).\n",
    "    - options: Dictionary of options for scipy.optimize.minimize.\n",
    "    \n",
    "    Returns:\n",
    "    - Optimization result from scipy.optimize.minimize.\n",
    "    \"\"\"\n",
    "    \n",
    "    # Define a wrapper function that projects points into bounds\n",
    "    def bounded_func(x):\n",
    "        x = np.clip(x, [b[0] for b in bounds], [b[1] for b in bounds])\n",
    "        return func(x)\n",
    "    \n",
    "    # Default initial guess: middle of the bounds\n",
    "    if x0 is None:\n",
    "        x0 = np.array([(b[0] + b[1]) / 2 for b in bounds])\n",
    "    \n",
    "    # Perform optimization\n",
    "    res = minimize(\n",
    "        bounded_func, x0, method=\"CG\", options=options\n",
    "    )\n",
    "    \n",
    "    # Ensure final result respects bounds\n",
    "    res.x = np.clip(res.x, [b[0] for b in bounds], [b[1] for b in bounds])\n",
    "    return res\n",
    "\n",
    "# Example objective function\n",
    "def objective(x):\n",
    "    a, b, c = x  # Extract variables\n",
    "    return (a - 0.5)**2 + (b - 15)**2 + (c - 1.5)**2  # A sample quadratic function\n",
    "\n",
    "# Define variable bounds: a[0,1], b[10,20], c[0,3]\n",
    "bounds = [(0, 1), (10, 200), (0, 3)]\n",
    "\n",
    "# Run optimization\n",
    "result = bounded_nelder_mead(objective, bounds, options={\"disp\":True})\n",
    "\n",
    "# Print result\n",
    "print(\"Optimal solution:\", result.x)\n",
    "print(\"Objective function value:\", result.fun)"
   ]
  },
  {
   "cell_type": "code",
   "execution_count": 86,
   "metadata": {},
   "outputs": [
    {
     "name": "stdout",
     "output_type": "stream",
     "text": [
      "   1    0.500000    10.000035    1.500000   -124.997370\n",
      "   2    0.500000    10.000000    1.500192   -124.999991\n",
      "   3    0.500000    10.000000    1.500000   -125.000000\n",
      "Optimization terminated successfully.\n",
      "         Current function value: -125.000000\n",
      "         Iterations: 3\n",
      "         Function evaluations: 243\n",
      "Optimal solution: [ 0.5        10.          1.50000001]\n",
      "Function value at optimum: -124.99999999967413\n"
     ]
    }
   ],
   "source": [
    "import numpy as np\n",
    "from scipy.optimize import minimize\n",
    "Nfeval = 1\n",
    "\n",
    "def objective(x):\n",
    "    a, b, c = x\n",
    "    return (a - 0.5)**2 + (b - 15)**3 + (c - 1.5)**2  # Example function\n",
    "\n",
    "def callbackF(Xi):\n",
    "    global Nfeval\n",
    "    print ('{0:4d}   {1: 3.6f}   {2: 3.6f}   {3: 3.6f}   {4: 3.6f}'.format(Nfeval, Xi[0], Xi[1], Xi[2], objective(Xi)) )\n",
    "    Nfeval += 1\n",
    "\n",
    "# Bounds for each variable: (lower, upper)\n",
    "bounds = [(0, 5), (10, 90), (-4, 3)]\n",
    "\n",
    "# Initial guess (should be within bounds)\n",
    "x0 = [0.5, 85, -3.9]\n",
    "\n",
    "# Run Powell's method with bounds\n",
    "result = minimize(objective, x0, method='Powell', bounds=bounds, callback=callbackF, options={\"disp\":True, \"return_all\": True} )\n",
    "\n",
    "\n",
    "\n",
    "# Output the result\n",
    "print(\"Optimal solution:\", result.x)\n",
    "print(\"Function value at optimum:\", result.fun)\n"
   ]
  },
  {
   "cell_type": "code",
   "execution_count": 72,
   "metadata": {},
   "outputs": [
    {
     "data": {
      "text/plain": [
       " message: Optimization terminated successfully.\n",
       " success: True\n",
       "  status: 0\n",
       "     fun: 1.3065508742723008e-29\n",
       "       x: [ 5.000e-01  1.500e+01  1.500e+00]\n",
       "     nit: 2\n",
       "   direc: [[ 1.000e+00  0.000e+00  0.000e+00]\n",
       "           [ 0.000e+00  0.000e+00  1.000e+00]\n",
       "           [-1.710e-29 -1.943e-15  1.249e-16]]\n",
       "    nfev: 101\n",
       " allvecs: [array([ 5.000e-01,  8.500e+01, -3.000e+00]), array([ 5.000e-01,  1.500e+01,  1.500e+00]), array([ 5.000e-01,  1.500e+01,  1.500e+00])]"
      ]
     },
     "execution_count": 72,
     "metadata": {},
     "output_type": "execute_result"
    }
   ],
   "source": [
    "result"
   ]
  },
  {
   "cell_type": "code",
   "execution_count": 77,
   "metadata": {},
   "outputs": [
    {
     "name": "stdout",
     "output_type": "stream",
     "text": [
      "Iter    X1          X2          X3         f(X)     \n",
      "   1    1.022987    1.057849    1.134862    0.041767\n",
      "   2    1.022371    1.058610    1.134477    0.040907\n",
      "   3    1.012026    1.031387    1.070837    0.011310\n",
      "   4    0.997529    0.996771    0.993285    0.000315\n",
      "   5    0.997469    0.995079    0.990240    0.000033\n",
      "   6    0.998048    0.996186    0.992605    0.000024\n",
      "   7    0.998769    0.997551    0.995328    0.000012\n",
      "   8    0.999992    0.999948    0.999974    0.000001\n",
      "   9    1.000043    1.000076    1.000170    0.000000\n",
      "  10    1.000001    1.000003    1.000006    0.000000\n",
      "  11    1.000000    1.000001    1.000001    0.000000\n",
      "  12    1.000000    0.999999    0.999998    0.000000\n",
      "         Current function value: 0.000000\n",
      "         Iterations: 12\n",
      "         Function evaluations: 232\n",
      "         Gradient evaluations: 55\n"
     ]
    },
    {
     "name": "stderr",
     "output_type": "stream",
     "text": [
      "/ntuzfs/liyang/miniconda3/envs/fl310/lib/python3.10/site-packages/scipy/optimize/_optimize.py:1313: OptimizeWarning: Desired error not necessarily achieved due to precision loss.\n",
      "  res = _minimize_bfgs(f, x0, args, fprime, callback=callback, **opts)\n"
     ]
    }
   ],
   "source": [
    "import numpy as np\n",
    "from scipy.optimize import fmin_bfgs\n",
    "\n",
    "Nfeval = 1\n",
    "\n",
    "def rosen(X): #Rosenbrock function\n",
    "    return (1.0 - X[0])**2 + 100.0 * (X[1] - X[0]**2)**2 + \\\n",
    "           (1.0 - X[1])**2 + 100.0 * (X[2] - X[1]**2)**2\n",
    "\n",
    "def callbackF(Xi):\n",
    "    global Nfeval\n",
    "    print ('{0:4d}   {1: 3.6f}   {2: 3.6f}   {3: 3.6f}   {4: 3.6f}'.format(Nfeval, Xi[0], Xi[1], Xi[2], rosen(Xi)) )\n",
    "    Nfeval += 1\n",
    "\n",
    "print ('{0:4s}   {1:9s}   {2:9s}   {3:9s}   {4:9s}'.format('Iter', ' X1', ' X2', ' X3', 'f(X)') )   \n",
    "x0 = np.array([1.1, 1.1, 1.1], dtype=np.double)\n",
    "[xopt, fopt, gopt, Bopt, func_calls, grad_calls, warnflg] = \\\n",
    "    fmin_bfgs(rosen, \n",
    "              x0, \n",
    "              callback=callbackF, \n",
    "              maxiter=2000, \n",
    "              full_output=True, \n",
    "              retall=False)"
   ]
  },
  {
   "cell_type": "code",
   "execution_count": 88,
   "metadata": {},
   "outputs": [
    {
     "name": "stdout",
     "output_type": "stream",
     "text": [
      "def _minimize_powell(func, x0, args=(), callback=None, bounds=None,\n",
      "                     xtol=1e-4, ftol=1e-4, maxiter=None, maxfev=None,\n",
      "                     disp=False, direc=None, return_all=False,\n",
      "                     **unknown_options):\n",
      "    \"\"\"\n",
      "    Minimization of scalar function of one or more variables using the\n",
      "    modified Powell algorithm.\n",
      "\n",
      "    Parameters\n",
      "    ----------\n",
      "    fun : callable\n",
      "        The objective function to be minimized::\n",
      "\n",
      "            fun(x, *args) -> float\n",
      "\n",
      "        where ``x`` is a 1-D array with shape (n,) and ``args``\n",
      "        is a tuple of the fixed parameters needed to completely\n",
      "        specify the function.\n",
      "    x0 : ndarray, shape (n,)\n",
      "        Initial guess. Array of real elements of size (n,),\n",
      "        where ``n`` is the number of independent variables.\n",
      "    args : tuple, optional\n",
      "        Extra arguments passed to the objective function and its\n",
      "        derivatives (`fun`, `jac` and `hess` functions).\n",
      "    method : str or callable, optional\n",
      "        The present documentation is specific to ``method='powell'``, but other\n",
      "        options are available. See documentation for `scipy.optimize.minimize`.\n",
      "    bounds : sequence or `Bounds`, optional\n",
      "        Bounds on decision variables. There are two ways to specify the bounds:\n",
      "\n",
      "        1. Instance of `Bounds` class.\n",
      "        2. Sequence of ``(min, max)`` pairs for each element in `x`. None\n",
      "           is used to specify no bound.\n",
      "\n",
      "        If bounds are not provided, then an unbounded line search will be used.\n",
      "        If bounds are provided and the initial guess is within the bounds, then\n",
      "        every function evaluation throughout the minimization procedure will be\n",
      "        within the bounds. If bounds are provided, the initial guess is outside\n",
      "        the bounds, and `direc` is full rank (or left to default), then some\n",
      "        function evaluations during the first iteration may be outside the\n",
      "        bounds, but every function evaluation after the first iteration will be\n",
      "        within the bounds. If `direc` is not full rank, then some parameters\n",
      "        may not be optimized and the solution is not guaranteed to be within\n",
      "        the bounds.\n",
      "\n",
      "    options : dict, optional\n",
      "        A dictionary of solver options. All methods accept the following\n",
      "        generic options:\n",
      "\n",
      "        maxiter : int\n",
      "            Maximum number of iterations to perform. Depending on the\n",
      "            method each iteration may use several function evaluations.\n",
      "        disp : bool\n",
      "            Set to True to print convergence messages.\n",
      "\n",
      "        See method-specific options for ``method='powell'`` below.\n",
      "    callback : callable, optional\n",
      "        Called after each iteration. The signature is::\n",
      "\n",
      "            callback(xk)\n",
      "\n",
      "        where ``xk`` is the current parameter vector.\n",
      "\n",
      "    Returns\n",
      "    -------\n",
      "    res : OptimizeResult\n",
      "        The optimization result represented as a ``OptimizeResult`` object.\n",
      "        Important attributes are: ``x`` the solution array, ``success`` a\n",
      "        Boolean flag indicating if the optimizer exited successfully and\n",
      "        ``message`` which describes the cause of the termination. See\n",
      "        `OptimizeResult` for a description of other attributes.\n",
      "\n",
      "    Options\n",
      "    -------\n",
      "    disp : bool\n",
      "        Set to True to print convergence messages.\n",
      "    xtol : float\n",
      "        Relative error in solution `xopt` acceptable for convergence.\n",
      "    ftol : float\n",
      "        Relative error in ``fun(xopt)`` acceptable for convergence.\n",
      "    maxiter, maxfev : int\n",
      "        Maximum allowed number of iterations and function evaluations.\n",
      "        Will default to ``N*1000``, where ``N`` is the number of\n",
      "        variables, if neither `maxiter` or `maxfev` is set. If both\n",
      "        `maxiter` and `maxfev` are set, minimization will stop at the\n",
      "        first reached.\n",
      "    direc : ndarray\n",
      "        Initial set of direction vectors for the Powell method.\n",
      "    return_all : bool, optional\n",
      "        Set to True to return a list of the best solution at each of the\n",
      "        iterations.\n",
      "    \"\"\"\n",
      "    _check_unknown_options(unknown_options)\n",
      "    maxfun = maxfev\n",
      "    retall = return_all\n",
      "\n",
      "    x = asarray(x0).flatten()\n",
      "    if retall:\n",
      "        allvecs = [x]\n",
      "    N = len(x)\n",
      "    # If neither are set, then set both to default\n",
      "    if maxiter is None and maxfun is None:\n",
      "        maxiter = N * 1000\n",
      "        maxfun = N * 1000\n",
      "    elif maxiter is None:\n",
      "        # Convert remaining Nones, to np.inf, unless the other is np.inf, in\n",
      "        # which case use the default to avoid unbounded iteration\n",
      "        if maxfun == np.inf:\n",
      "            maxiter = N * 1000\n",
      "        else:\n",
      "            maxiter = np.inf\n",
      "    elif maxfun is None:\n",
      "        if maxiter == np.inf:\n",
      "            maxfun = N * 1000\n",
      "        else:\n",
      "            maxfun = np.inf\n",
      "\n",
      "    # we need to use a mutable object here that we can update in the\n",
      "    # wrapper function\n",
      "    fcalls, func = _wrap_scalar_function_maxfun_validation(func, args, maxfun)\n",
      "\n",
      "    if direc is None:\n",
      "        direc = eye(N, dtype=float)\n",
      "    else:\n",
      "        direc = asarray(direc, dtype=float)\n",
      "        if np.linalg.matrix_rank(direc) != direc.shape[0]:\n",
      "            warnings.warn(\"direc input is not full rank, some parameters may \"\n",
      "                          \"not be optimized\",\n",
      "                          OptimizeWarning, stacklevel=3)\n",
      "\n",
      "    if bounds is None:\n",
      "        # don't make these arrays of all +/- inf. because\n",
      "        # _linesearch_powell will do an unnecessary check of all the elements.\n",
      "        # just keep them None, _linesearch_powell will not have to check\n",
      "        # all the elements.\n",
      "        lower_bound, upper_bound = None, None\n",
      "    else:\n",
      "        # bounds is standardized in _minimize.py.\n",
      "        lower_bound, upper_bound = bounds.lb, bounds.ub\n",
      "        if np.any(lower_bound > x0) or np.any(x0 > upper_bound):\n",
      "            warnings.warn(\"Initial guess is not within the specified bounds\",\n",
      "                          OptimizeWarning, stacklevel=3)\n",
      "\n",
      "    fval = func(x)\n",
      "    x1 = x.copy()\n",
      "    iter = 0\n",
      "    while True:\n",
      "        try:\n",
      "            fx = fval\n",
      "            bigind = 0\n",
      "            delta = 0.0\n",
      "            for i in range(N):\n",
      "                direc1 = direc[i]\n",
      "                fx2 = fval\n",
      "                fval, x, direc1 = _linesearch_powell(func, x, direc1,\n",
      "                                                     tol=xtol * 100,\n",
      "                                                     lower_bound=lower_bound,\n",
      "                                                     upper_bound=upper_bound,\n",
      "                                                     fval=fval)\n",
      "                if (fx2 - fval) > delta:\n",
      "                    delta = fx2 - fval\n",
      "                    bigind = i\n",
      "            iter += 1\n",
      "            if retall:\n",
      "                allvecs.append(x)\n",
      "            intermediate_result = OptimizeResult(x=x, fun=fval)\n",
      "            if _call_callback_maybe_halt(callback, intermediate_result):\n",
      "                break\n",
      "            bnd = ftol * (np.abs(fx) + np.abs(fval)) + 1e-20\n",
      "            if 2.0 * (fx - fval) <= bnd:\n",
      "                break\n",
      "            if fcalls[0] >= maxfun:\n",
      "                break\n",
      "            if iter >= maxiter:\n",
      "                break\n",
      "            if np.isnan(fx) and np.isnan(fval):\n",
      "                # Ended up in a nan-region: bail out\n",
      "                break\n",
      "\n",
      "            # Construct the extrapolated point\n",
      "            direc1 = x - x1\n",
      "            x1 = x.copy()\n",
      "            # make sure that we don't go outside the bounds when extrapolating\n",
      "            if lower_bound is None and upper_bound is None:\n",
      "                lmax = 1\n",
      "            else:\n",
      "                _, lmax = _line_for_search(x, direc1, lower_bound, upper_bound)\n",
      "            x2 = x + min(lmax, 1) * direc1\n",
      "            fx2 = func(x2)\n",
      "\n",
      "            if (fx > fx2):\n",
      "                t = 2.0*(fx + fx2 - 2.0*fval)\n",
      "                temp = (fx - fval - delta)\n",
      "                t *= temp*temp\n",
      "                temp = fx - fx2\n",
      "                t -= delta*temp*temp\n",
      "                if t < 0.0:\n",
      "                    fval, x, direc1 = _linesearch_powell(\n",
      "                        func, x, direc1,\n",
      "                        tol=xtol * 100,\n",
      "                        lower_bound=lower_bound,\n",
      "                        upper_bound=upper_bound,\n",
      "                        fval=fval\n",
      "                    )\n",
      "                    if np.any(direc1):\n",
      "                        direc[bigind] = direc[-1]\n",
      "                        direc[-1] = direc1\n",
      "        except _MaxFuncCallError:\n",
      "            break\n",
      "\n",
      "    warnflag = 0\n",
      "    msg = _status_message['success']\n",
      "    # out of bounds is more urgent than exceeding function evals or iters,\n",
      "    # but I don't want to cause inconsistencies by changing the\n",
      "    # established warning flags for maxfev and maxiter, so the out of bounds\n",
      "    # warning flag becomes 3, but is checked for first.\n",
      "    if bounds and (np.any(lower_bound > x) or np.any(x > upper_bound)):\n",
      "        warnflag = 4\n",
      "        msg = _status_message['out_of_bounds']\n",
      "    elif fcalls[0] >= maxfun:\n",
      "        warnflag = 1\n",
      "        msg = _status_message['maxfev']\n",
      "    elif iter >= maxiter:\n",
      "        warnflag = 2\n",
      "        msg = _status_message['maxiter']\n",
      "    elif np.isnan(fval) or np.isnan(x).any():\n",
      "        warnflag = 3\n",
      "        msg = _status_message['nan']\n",
      "\n",
      "    if disp:\n",
      "        _print_success_message_or_warn(warnflag, msg, RuntimeWarning)\n",
      "        print(f\"         Current function value: {fval:f}\")\n",
      "        print(\"         Iterations: %d\" % iter)\n",
      "        print(\"         Function evaluations: %d\" % fcalls[0])\n",
      "    result = OptimizeResult(fun=fval, direc=direc, nit=iter, nfev=fcalls[0],\n",
      "                            status=warnflag, success=(warnflag == 0),\n",
      "                            message=msg, x=x)\n",
      "    if retall:\n",
      "        result['allvecs'] = allvecs\n",
      "    return result\n",
      "\n"
     ]
    }
   ],
   "source": [
    "from scipy.optimize._optimize import _minimize_powell\n",
    "print(inspect.getsource(_minimize_powell))\n",
    "\n"
   ]
  },
  {
   "cell_type": "code",
   "execution_count": 100,
   "metadata": {},
   "outputs": [
    {
     "name": "stdout",
     "output_type": "stream",
     "text": [
      "iter 0\n",
      "x [  0.50000002 199.           1.        ]\n",
      "x [ 0.50000002 10.          1.        ]\n",
      "x [ 0.50000002 10.          1.49999981]\n",
      "Step: 1 Current x: [ 0.50000002 10.          1.49999981]\n",
      "iter 1\n",
      "x [ 0.50000002 14.99999995  1.49999981]\n",
      "x [ 0.50000002 14.99999995  1.5       ]\n",
      "x [ 0.50000002 14.99999704  1.50000001]\n",
      "Step: 2 Current x: [ 0.50000002 14.99999704  1.50000001]\n",
      "iter 2\n",
      "x [ 0.50000002 14.99999704  1.5       ]\n",
      "x [ 0.50000002 14.99999454  1.50000001]\n",
      "x [ 0.50000002 14.99999501  1.50000001]\n",
      "Step: 3 Current x: [ 0.50000002 14.99999501  1.50000001]\n",
      "iter 3\n",
      "x [ 0.50000002 14.99999501  1.50000001]\n",
      "x [ 0.50000002 14.99999502  1.50000001]\n",
      "x [ 0.5       14.9999823  1.5      ]\n",
      "Step: 4 Current x: [ 0.5       14.9999823  1.5      ]\n",
      "iter 4\n",
      "x [ 0.5       15.0000003  1.5      ]\n",
      "x [ 0.5       15.0000003  1.5      ]\n",
      "x [ 0.5       15.0000003  1.5      ]\n",
      "Step: 5 Current x: [ 0.5       15.0000003  1.5      ]\n",
      "iter 5\n",
      "x [ 0.5       15.0000003  1.5      ]\n",
      "x [ 0.5       15.0000003  1.5      ]\n",
      "x [ 0.5        15.00000041  1.5       ]\n",
      "Step: 5 Current x: [ 0.5        15.00000041  1.5       ]\n"
     ]
    }
   ],
   "source": [
    "import numpy as np\n",
    "from scipy.optimize import OptimizeResult, minimize_scalar\n",
    "\n",
    "def objective(x):\n",
    "    a, b, c = x\n",
    "    return (a - 0.5)**2 + (b - 15)**4 + (c - 1.5)**2  # Example function\n",
    "\n",
    "# Bounds for each variable: (lower, upper)\n",
    "bounds = [(0, 1), (10, 200), (0, 3)]\n",
    "\n",
    "# Initial guess (should be within bounds)\n",
    "x0 = np.array([0.7, 199, 1])\n",
    "\n",
    "def powell_stepwise(func, x0, bounds, tol=1e-6, max_iter=100):\n",
    "    \"\"\" Powell's method step-by-step for delayed objective evaluation. \"\"\"\n",
    "    n = len(x0)\n",
    "    directions = np.eye(n)  # Initial set of directions\n",
    "    x = x0.copy()\n",
    "    iteration = 0\n",
    "    \n",
    "    while iteration < max_iter:\n",
    "        print(\"iter\", iteration)\n",
    "        x_old = x.copy()\n",
    "        for i in range(n):\n",
    "            def line_search(alpha):\n",
    "                xi = x + alpha * directions[i]\n",
    "                xi = np.clip(xi, [b[0] for b in bounds], [b[1] for b in bounds])\n",
    "                return func(xi)\n",
    "            \n",
    "            res = minimize_scalar(line_search, method='Brent')\n",
    "            alpha_opt = res.x if res.success else 0\n",
    "            x = x + alpha_opt * directions[i]\n",
    "            x = np.clip(x, [b[0] for b in bounds], [b[1] for b in bounds])\n",
    "            print(\"x\", x)\n",
    "        new_direction = x - x_old\n",
    "        if np.linalg.norm(new_direction) < tol:\n",
    "            break\n",
    "        \n",
    "        directions = np.roll(directions, -1, axis=0)\n",
    "        directions[-1] = new_direction / np.linalg.norm(new_direction) if np.linalg.norm(new_direction) > 0 else directions[-1]\n",
    "        iteration += 1\n",
    "        yield OptimizeResult(x=x, success=False, nit=iteration)\n",
    "    \n",
    "    yield OptimizeResult(x=x, success=True, nit=iteration)\n",
    "\n",
    "# Example usage:\n",
    "powell_iter = powell_stepwise(objective, x0, bounds)\n",
    "for step in powell_iter:\n",
    "    print(\"Step:\", step.nit, \"Current x:\", step.x)\n"
   ]
  },
  {
   "cell_type": "code",
   "execution_count": 94,
   "metadata": {},
   "outputs": [
    {
     "data": {
      "text/plain": [
       "<generator object powell_stepwise at 0x73b7327f0c80>"
      ]
     },
     "execution_count": 94,
     "metadata": {},
     "output_type": "execute_result"
    }
   ],
   "source": [
    "powell_iter"
   ]
  },
  {
   "cell_type": "code",
   "execution_count": 101,
   "metadata": {},
   "outputs": [
    {
     "data": {
      "text/plain": [
       "array([[1., 0., 0., 0.],\n",
       "       [0., 1., 0., 0.],\n",
       "       [0., 0., 1., 0.],\n",
       "       [0., 0., 0., 1.]])"
      ]
     },
     "execution_count": 101,
     "metadata": {},
     "output_type": "execute_result"
    }
   ],
   "source": [
    "np.eye(4)"
   ]
  },
  {
   "cell_type": "code",
   "execution_count": 1,
   "metadata": {},
   "outputs": [],
   "source": [
    "hp_models = {\"ConvNet\" : 100}\n",
    "model_names = [model_name for model_name, k in hp_models.items() for _ in range(k)]"
   ]
  },
  {
   "cell_type": "code",
   "execution_count": 3,
   "metadata": {},
   "outputs": [
    {
     "data": {
      "text/plain": [
       "100"
      ]
     },
     "execution_count": 3,
     "metadata": {},
     "output_type": "execute_result"
    }
   ],
   "source": [
    "len(model_names)"
   ]
  },
  {
   "cell_type": "code",
   "execution_count": 5,
   "metadata": {},
   "outputs": [],
   "source": [
    "a = {0: \"E\"}"
   ]
  },
  {
   "cell_type": "code",
   "execution_count": 6,
   "metadata": {},
   "outputs": [
    {
     "data": {
      "text/plain": [
       "dict_items([(0, 'E')])"
      ]
     },
     "execution_count": 6,
     "metadata": {},
     "output_type": "execute_result"
    }
   ],
   "source": [
    "a.items()"
   ]
  },
  {
   "cell_type": "code",
   "execution_count": null,
   "metadata": {},
   "outputs": [],
   "source": []
  }
 ],
 "metadata": {
  "kernelspec": {
   "display_name": "fl310",
   "language": "python",
   "name": "python3"
  },
  "language_info": {
   "codemirror_mode": {
    "name": "ipython",
    "version": 3
   },
   "file_extension": ".py",
   "mimetype": "text/x-python",
   "name": "python",
   "nbconvert_exporter": "python",
   "pygments_lexer": "ipython3",
   "version": "3.10.16"
  }
 },
 "nbformat": 4,
 "nbformat_minor": 2
}
